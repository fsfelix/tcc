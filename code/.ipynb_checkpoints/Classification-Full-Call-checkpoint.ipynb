{
 "cells": [
  {
   "cell_type": "code",
   "execution_count": 2,
   "metadata": {
    "collapsed": false
   },
   "outputs": [
    {
     "data": {
      "text/plain": [
       "<module 'pr_util' from '/Users/felipefelix/USP/tcc/code/pr_util.py'>"
      ]
     },
     "execution_count": 2,
     "metadata": {},
     "output_type": "execute_result"
    }
   ],
   "source": [
    "%matplotlib inline\n",
    "\n",
    "import importlib\n",
    "import numpy as np\n",
    "import pr_util as util\n",
    "\n",
    "from sklearn.model_selection import cross_val_score\n",
    "from sklearn.naive_bayes import GaussianNB\n",
    "from sklearn import svm\n",
    "\n",
    "from generate_global_features_2 import generate_global_features\n",
    "\n",
    "importlib.reload(util)"
   ]
  },
  {
   "cell_type": "code",
   "execution_count": 3,
   "metadata": {
    "collapsed": false
   },
   "outputs": [
    {
     "name": "stdout",
     "output_type": "stream",
     "text": [
      "77\n"
     ]
    }
   ],
   "source": [
    "print(len(util.NAME_SPECIES_NUM_DIR))"
   ]
  },
  {
   "cell_type": "code",
   "execution_count": 42,
   "metadata": {
    "collapsed": false
   },
   "outputs": [
    {
     "name": "stdout",
     "output_type": "stream",
     "text": [
      "/Users/felipefelix/USP/tcc/dataset/pr_article/S_A_C_Base_Parte-4/Streptoprocne biscutata/\n",
      "/Users/felipefelix/USP/tcc/dataset/pr_article/S_A_C_Base_Parte-3/Phleocryptes melanops/\n",
      "/Users/felipefelix/USP/tcc/dataset/pr_article/S_A_C_Base_Parte-2/Mimus saturninus/\n",
      "/Users/felipefelix/USP/tcc/dataset/pr_article/S_A_C_Base_Parte-4/Tangara desmaresti/\n",
      "/Users/felipefelix/USP/tcc/dataset/pr_article/S_A_C_Base_Parte-4/Vanellus chilensis/\n"
     ]
    }
   ],
   "source": [
    "# Randomly select n species from dataset\n",
    "\n",
    "n = 5\n",
    "data_dirs = util.choose_species(n)\n",
    "\n",
    "for dir in data_dirs:\n",
    "    print(dir)"
   ]
  },
  {
   "cell_type": "code",
   "execution_count": 36,
   "metadata": {
    "collapsed": false
   },
   "outputs": [],
   "source": [
    "# Generate n_global global features from a selected feature 'feat_name', \n",
    "# each one defined by a function in 'functions'.\n",
    "\n",
    "n_global = 4\n",
    "feat_name = 'mfcc'\n",
    "functions = [np.mean, np.std, np.max, np.min]\n",
    "song_or_call = 'call'\n",
    "\n",
    "labels_dict, labels, data = generate_global_features(n_global, feat_name, data_dirs, song_or_call, functions)"
   ]
  },
  {
   "cell_type": "code",
   "execution_count": 37,
   "metadata": {
    "collapsed": false
   },
   "outputs": [
    {
     "name": "stdout",
     "output_type": "stream",
     "text": [
      "{'Hemitriccus Orbitatus': 1, 'Thamnophilus Ruficapillus': 3, 'Scytalopus Iraiensis': 4, 'Pseudoleistes Guirahuro': 2, 'Cranioleuca Obsoleta': 0}\n",
      "[0 0 0 0 0 0 1 1 1 1 1 1 1 1 1 1 2 2 2 2 2 3 3 3 3 3 3 3 3 3 3 3 3 3 3 3 3\n",
      " 3 3 3 3 3 3 3 3 3 3 3 3 3 3 3 3 3 3 3 3 3 3 3 3 3 3 3 3 3 3 3 3 3 3 3 3 3\n",
      " 3 3 3 3 3 3 3 3 3 3 3 3 3 3 3 3 3 3 3 3 4 4 4 4 4 4 4 4]\n",
      "[[ -1.92075952e+01   8.58199848e+01   7.35026419e+01  -5.38374119e+02]\n",
      " [  2.06191280e-01   4.98014604e+01   1.18194851e+02  -4.71382510e+02]\n",
      " [ -1.35274242e+01   7.56011055e+01   1.75079682e+02  -7.45887122e+02]\n",
      " [ -1.24287769e+01   9.43902981e+01   1.39937991e+02  -4.85974460e+02]\n",
      " [ -2.58104519e+01   9.41653997e+01   5.43951106e+01  -7.18331298e+02]]\n"
     ]
    }
   ],
   "source": [
    "print(labels_dict)\n",
    "print(labels)\n",
    "print(data[:5])"
   ]
  },
  {
   "cell_type": "code",
   "execution_count": 38,
   "metadata": {
    "collapsed": false
   },
   "outputs": [
    {
     "data": {
      "image/png": "[encoded data removed]",
      "text/plain": [
       "<matplotlib.figure.Figure at 0x10d5de0f0>"
      ]
     },
     "metadata": {},
     "output_type": "display_data"
    }
   ],
   "source": [
    "util.plot_scatter(data[:,0], data[:,1], labels, 'mean mfcc', 'std mfcc')"
   ]
  },
  {
   "cell_type": "markdown",
   "metadata": {},
   "source": [
    "## kNN"
   ]
  },
  {
   "cell_type": "code",
   "execution_count": 39,
   "metadata": {
    "collapsed": false
   },
   "outputs": [
    {
     "name": "stdout",
     "output_type": "stream",
     "text": [
      "3-Neighbors | Accuracy: 0.74 (+/- 0.30) | Weight: uniform\n",
      "3-Neighbors | Accuracy: 0.73 (+/- 0.24) | Weight: distance\n",
      "4-Neighbors | Accuracy: 0.75 (+/- 0.27) | Weight: uniform\n",
      "4-Neighbors | Accuracy: 0.74 (+/- 0.25) | Weight: distance\n",
      "5-Neighbors | Accuracy: 0.71 (+/- 0.24) | Weight: uniform\n",
      "5-Neighbors | Accuracy: 0.74 (+/- 0.25) | Weight: distance\n",
      "6-Neighbors | Accuracy: 0.70 (+/- 0.22) | Weight: uniform\n",
      "6-Neighbors | Accuracy: 0.75 (+/- 0.27) | Weight: distance\n",
      "7-Neighbors | Accuracy: 0.72 (+/- 0.23) | Weight: uniform\n",
      "7-Neighbors | Accuracy: 0.76 (+/- 0.28) | Weight: distance\n",
      "8-Neighbors | Accuracy: 0.71 (+/- 0.21) | Weight: uniform\n",
      "8-Neighbors | Accuracy: 0.74 (+/- 0.24) | Weight: distance\n",
      "9-Neighbors | Accuracy: 0.72 (+/- 0.17) | Weight: uniform\n",
      "9-Neighbors | Accuracy: 0.74 (+/- 0.18) | Weight: distance\n"
     ]
    }
   ],
   "source": [
    "util.kNN(data, labels, range(3,10), 5)"
   ]
  },
  {
   "cell_type": "markdown",
   "metadata": {},
   "source": [
    "## Naïve-Bayes"
   ]
  },
  {
   "cell_type": "code",
   "execution_count": 40,
   "metadata": {
    "collapsed": false
   },
   "outputs": [
    {
     "name": "stdout",
     "output_type": "stream",
     "text": [
      "[ 0.86363636  0.71428571  0.80952381  0.89473684  0.63157895]\n"
     ]
    }
   ],
   "source": [
    "gnb = GaussianNB()\n",
    "scores = cross_val_score(gnb, data, labels, cv = 5)\n",
    "print(scores)"
   ]
  },
  {
   "cell_type": "markdown",
   "metadata": {},
   "source": [
    "## SVM"
   ]
  },
  {
   "cell_type": "code",
   "execution_count": 41,
   "metadata": {
    "collapsed": false
   },
   "outputs": [
    {
     "name": "stdout",
     "output_type": "stream",
     "text": [
      "[ 0.77272727  0.61904762  0.80952381  0.84210526  0.57894737]\n"
     ]
    }
   ],
   "source": [
    "clf = svm.SVC(kernel = 'linear', C = 1)\n",
    "scores = cross_val_score(clf, data, labels, cv = 5)\n",
    "print(scores)"
   ]
  },
  {
   "cell_type": "code",
   "execution_count": null,
   "metadata": {
    "collapsed": false
   },
   "outputs": [],
   "source": []
  },
  {
   "cell_type": "code",
   "execution_count": null,
   "metadata": {
    "collapsed": false
   },
   "outputs": [],
   "source": []
  }
 ],
 "metadata": {
  "anaconda-cloud": {},
  "kernelspec": {
   "display_name": "Python [conda root]",
   "language": "python",
   "name": "conda-root-py"
  },
  "language_info": {
   "codemirror_mode": {
    "name": "ipython",
    "version": 3
   },
   "file_extension": ".py",
   "mimetype": "text/x-python",
   "name": "python",
   "nbconvert_exporter": "python",
   "pygments_lexer": "ipython3",
   "version": "3.5.2"
  }
 },
 "nbformat": 4,
 "nbformat_minor": 1
}
