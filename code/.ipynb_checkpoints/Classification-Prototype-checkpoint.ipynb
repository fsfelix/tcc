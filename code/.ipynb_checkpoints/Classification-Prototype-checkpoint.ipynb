{
 "cells": [
  {
   "cell_type": "code",
   "execution_count": 32,
   "metadata": {
    "collapsed": true
   },
   "outputs": [],
   "source": [
    "import os \n",
    "import librosa\n",
    "import numpy as np\n",
    "import string as strp\n",
    "\n",
    "from sklearn.model_selection import train_test_split\n",
    "from sklearn import datasets\n",
    "from sklearn import svm"
   ]
  },
  {
   "cell_type": "code",
   "execution_count": 33,
   "metadata": {
    "collapsed": false,
    "scrolled": false
   },
   "outputs": [
    {
     "name": "stdout",
     "output_type": "stream",
     "text": [
      "Loading /Users/felipefelix/USP/tcc/dataset/exp/Aegolius harrisii/song/10001.mp3...\n",
      "{}\n",
      "/Users/felipefelix/USP/tcc/dataset/exp/Aegolius harrisii/song/10001.mp3.rmse.txt already exists.\n",
      "{}\n",
      "generating stft for /Users/felipefelix/USP/tcc/dataset/exp/Aegolius harrisii/song/10001.mp3...\n",
      "{}\n",
      "/Users/felipefelix/USP/tcc/dataset/exp/Aegolius harrisii/song/10001.mp3.mfcc.txt already exists.\n",
      "Loading /Users/felipefelix/USP/tcc/dataset/exp/Aegolius harrisii/song/10002.mp3...\n",
      "{}\n",
      "/Users/felipefelix/USP/tcc/dataset/exp/Aegolius harrisii/song/10002.mp3.rmse.txt already exists.\n",
      "{}\n",
      "generating stft for /Users/felipefelix/USP/tcc/dataset/exp/Aegolius harrisii/song/10002.mp3...\n",
      "{}\n",
      "/Users/felipefelix/USP/tcc/dataset/exp/Aegolius harrisii/song/10002.mp3.mfcc.txt already exists.\n",
      "Loading /Users/felipefelix/USP/tcc/dataset/exp/Brotogeris tirica/song/1000130.mp3...\n",
      "{}\n",
      "/Users/felipefelix/USP/tcc/dataset/exp/Brotogeris tirica/song/1000130.mp3.rmse.txt already exists.\n",
      "{}\n",
      "generating stft for /Users/felipefelix/USP/tcc/dataset/exp/Brotogeris tirica/song/1000130.mp3...\n"
     ]
    },
    {
     "ename": "KeyboardInterrupt",
     "evalue": "",
     "output_type": "error",
     "traceback": [
      "\u001b[0;31m---------------------------------------------------------------------------\u001b[0m",
      "\u001b[0;31mKeyboardInterrupt\u001b[0m                         Traceback (most recent call last)",
      "\u001b[0;32m<ipython-input-33-8ef1f502906e>\u001b[0m in \u001b[0;36m<module>\u001b[0;34m()\u001b[0m\n\u001b[1;32m     25\u001b[0m             \u001b[0mgenerate_local_features\u001b[0m\u001b[0;34m(\u001b[0m\u001b[0mfile_dir\u001b[0m\u001b[0;34m,\u001b[0m \u001b[0;34m'rmse'\u001b[0m\u001b[0;34m,\u001b[0m \u001b[0mlibrosa\u001b[0m\u001b[0;34m.\u001b[0m\u001b[0mfeature\u001b[0m\u001b[0;34m.\u001b[0m\u001b[0mrmse\u001b[0m\u001b[0;34m,\u001b[0m \u001b[0my\u001b[0m\u001b[0;34m)\u001b[0m\u001b[0;34m\u001b[0m\u001b[0m\n\u001b[1;32m     26\u001b[0m \u001b[0;34m\u001b[0m\u001b[0m\n\u001b[0;32m---> 27\u001b[0;31m             \u001b[0mgenerate_local_features\u001b[0m\u001b[0;34m(\u001b[0m\u001b[0mfile_dir\u001b[0m\u001b[0;34m,\u001b[0m \u001b[0;34m'stft'\u001b[0m\u001b[0;34m,\u001b[0m \u001b[0mlibrosa\u001b[0m\u001b[0;34m.\u001b[0m\u001b[0mcore\u001b[0m\u001b[0;34m.\u001b[0m\u001b[0mstft\u001b[0m\u001b[0;34m,\u001b[0m \u001b[0my\u001b[0m\u001b[0;34m)\u001b[0m\u001b[0;34m\u001b[0m\u001b[0m\n\u001b[0m\u001b[1;32m     28\u001b[0m \u001b[0;34m\u001b[0m\u001b[0m\n\u001b[1;32m     29\u001b[0m             \u001b[0mgenerate_local_features\u001b[0m\u001b[0;34m(\u001b[0m\u001b[0mfile_dir\u001b[0m\u001b[0;34m,\u001b[0m \u001b[0;34m'mfcc'\u001b[0m\u001b[0;34m,\u001b[0m \u001b[0mlibrosa\u001b[0m\u001b[0;34m.\u001b[0m\u001b[0mfeature\u001b[0m\u001b[0;34m.\u001b[0m\u001b[0mmfcc\u001b[0m\u001b[0;34m,\u001b[0m \u001b[0my\u001b[0m\u001b[0;34m)\u001b[0m\u001b[0;34m\u001b[0m\u001b[0m\n",
      "\u001b[0;32m<ipython-input-33-8ef1f502906e>\u001b[0m in \u001b[0;36mgenerate_local_features\u001b[0;34m(file_dir, feat_name, feat_func, y, **kwargs)\u001b[0m\n\u001b[1;32m      9\u001b[0m         \u001b[0mprint\u001b[0m\u001b[0;34m(\u001b[0m\u001b[0;34m'generating {} for {}...'\u001b[0m\u001b[0;34m.\u001b[0m\u001b[0mformat\u001b[0m\u001b[0;34m(\u001b[0m\u001b[0mfeat_name\u001b[0m\u001b[0;34m,\u001b[0m \u001b[0mfile_dir\u001b[0m\u001b[0;34m)\u001b[0m\u001b[0;34m)\u001b[0m\u001b[0;34m\u001b[0m\u001b[0m\n\u001b[1;32m     10\u001b[0m         \u001b[0mfeature\u001b[0m \u001b[0;34m=\u001b[0m \u001b[0mfeat_func\u001b[0m\u001b[0;34m(\u001b[0m\u001b[0my\u001b[0m\u001b[0;34m=\u001b[0m\u001b[0my\u001b[0m\u001b[0;34m,\u001b[0m \u001b[0;34m**\u001b[0m\u001b[0mkwargs\u001b[0m\u001b[0;34m)\u001b[0m\u001b[0;34m\u001b[0m\u001b[0m\n\u001b[0;32m---> 11\u001b[0;31m         \u001b[0mnp\u001b[0m\u001b[0;34m.\u001b[0m\u001b[0msavetxt\u001b[0m\u001b[0;34m(\u001b[0m\u001b[0moutput_file\u001b[0m\u001b[0;34m,\u001b[0m \u001b[0mfeature\u001b[0m\u001b[0;34m)\u001b[0m\u001b[0;34m\u001b[0m\u001b[0m\n\u001b[0m\u001b[1;32m     12\u001b[0m     \u001b[0;32melse\u001b[0m\u001b[0;34m:\u001b[0m\u001b[0;34m\u001b[0m\u001b[0m\n\u001b[1;32m     13\u001b[0m         \u001b[0mprint\u001b[0m\u001b[0;34m(\u001b[0m\u001b[0;34m'{} already exists.'\u001b[0m\u001b[0;34m.\u001b[0m\u001b[0mformat\u001b[0m\u001b[0;34m(\u001b[0m\u001b[0moutput_file\u001b[0m\u001b[0;34m)\u001b[0m\u001b[0;34m)\u001b[0m\u001b[0;34m\u001b[0m\u001b[0m\n",
      "\u001b[0;32m/Users/felipefelix/anaconda3/lib/python3.5/site-packages/numpy/lib/npyio.py\u001b[0m in \u001b[0;36msavetxt\u001b[0;34m(fname, X, fmt, delimiter, newline, header, footer, comments)\u001b[0m\n\u001b[1;32m   1248\u001b[0m                     \u001b[0mrow2\u001b[0m\u001b[0;34m.\u001b[0m\u001b[0mappend\u001b[0m\u001b[0;34m(\u001b[0m\u001b[0mnumber\u001b[0m\u001b[0;34m.\u001b[0m\u001b[0mreal\u001b[0m\u001b[0;34m)\u001b[0m\u001b[0;34m\u001b[0m\u001b[0m\n\u001b[1;32m   1249\u001b[0m                     \u001b[0mrow2\u001b[0m\u001b[0;34m.\u001b[0m\u001b[0mappend\u001b[0m\u001b[0;34m(\u001b[0m\u001b[0mnumber\u001b[0m\u001b[0;34m.\u001b[0m\u001b[0mimag\u001b[0m\u001b[0;34m)\u001b[0m\u001b[0;34m\u001b[0m\u001b[0m\n\u001b[0;32m-> 1250\u001b[0;31m                 \u001b[0mfh\u001b[0m\u001b[0;34m.\u001b[0m\u001b[0mwrite\u001b[0m\u001b[0;34m(\u001b[0m\u001b[0masbytes\u001b[0m\u001b[0;34m(\u001b[0m\u001b[0mformat\u001b[0m \u001b[0;34m%\u001b[0m \u001b[0mtuple\u001b[0m\u001b[0;34m(\u001b[0m\u001b[0mrow2\u001b[0m\u001b[0;34m)\u001b[0m \u001b[0;34m+\u001b[0m \u001b[0mnewline\u001b[0m\u001b[0;34m)\u001b[0m\u001b[0;34m)\u001b[0m\u001b[0;34m\u001b[0m\u001b[0m\n\u001b[0m\u001b[1;32m   1251\u001b[0m         \u001b[0;32melse\u001b[0m\u001b[0;34m:\u001b[0m\u001b[0;34m\u001b[0m\u001b[0m\n\u001b[1;32m   1252\u001b[0m             \u001b[0;32mfor\u001b[0m \u001b[0mrow\u001b[0m \u001b[0;32min\u001b[0m \u001b[0mX\u001b[0m\u001b[0;34m:\u001b[0m\u001b[0;34m\u001b[0m\u001b[0m\n",
      "\u001b[0;31mKeyboardInterrupt\u001b[0m: "
     ]
    }
   ],
   "source": [
    "data_dir = '/Users/felipefelix/USP/tcc/dataset/exp/'\n",
    "\n",
    "def generate_local_features(file_dir, feat_name, feat_func, y, **kwargs):\n",
    "    print(kwargs)\n",
    "\n",
    "    output_file = file_dir + '.' + feat_name + '.txt'\n",
    "\n",
    "    if not os.path.isfile(output_file):\n",
    "        print('generating {} for {}...'.format(feat_name, file_dir))\n",
    "        feature = feat_func(y=y, **kwargs)\n",
    "        np.savetxt(output_file, feature)\n",
    "    else:\n",
    "        print('{} already exists.'.format(output_file))\n",
    "            \n",
    "for subdir, dirs, files in os.walk(data_dir):\n",
    "    for file in files:\n",
    "        if file[0] != '.' and file.split('.')[-1] == 'mp3':\n",
    "#            print('{} {} {}'.format(file, dirs, subdir))\n",
    "            file_dir = subdir + '/' + file\n",
    "            print('Loading {}...'.format(file_dir))\n",
    "        \n",
    "            y, sr = librosa.load(file_dir)\n",
    "            \n",
    "            #generate_local_features(file_dir, 'rmse', librosa.feature.rmse, y)\n",
    "            \n",
    "            #generate_local_features(file_dir, 'stft', librosa.core.stft, y)\n",
    "            \n",
    "            generate_local_features(file_dir, 'mfcc', librosa.feature.mfcc, y)\n",
    "            \n",
    "#            feature = librosa.feature.rmse(y = y)\n",
    "#            np.savetxt(subdir + '/' + file + '.' + 'rmse', feature)\n",
    "            "
   ]
  },
  {
   "cell_type": "code",
   "execution_count": 64,
   "metadata": {
    "collapsed": false,
    "scrolled": false
   },
   "outputs": [
    {
     "name": "stdout",
     "output_type": "stream",
     "text": [
      "Aegolius Harrisii\n",
      "Aegolius Harrisii\n",
      "Brotogeris Tirica\n",
      "Brotogeris Tirica\n",
      "Campephilus Robustus\n",
      "Campephilus Robustus\n"
     ]
    },
    {
     "data": {
      "text/plain": [
       "['Aegolius Harrisii',\n",
       " 'Aegolius Harrisii',\n",
       " 'Brotogeris Tirica',\n",
       " 'Brotogeris Tirica',\n",
       " 'Campephilus Robustus',\n",
       " 'Campephilus Robustus']"
      ]
     },
     "execution_count": 64,
     "metadata": {},
     "output_type": "execute_result"
    }
   ],
   "source": [
    "data = np.empty((6, 4))\n",
    "i = 0\n",
    "labels = []\n",
    "for subdir, dirs, files in os.walk(data_dir):\n",
    "    for file in files:\n",
    "        #print(file)\n",
    "        if file.split('.')[-2] == 'mfcc':\n",
    "            print(subdir.split('/')[-2].title())\n",
    "            labels.append(subdir.split('/')[-2].title())\n",
    "            feature = np.loadtxt(subdir + '/' + file)\n",
    "            data[i][0] = np.mean(feature)\n",
    "            data[i][1] = np.std(feature)\n",
    "            data[i][2] = np.max(feature)\n",
    "            data[i][3] = np.min(feature)\n",
    "            i += 1\n",
    "\n",
    "            "
   ]
  },
  {
   "cell_type": "code",
   "execution_count": 65,
   "metadata": {
    "collapsed": false
   },
   "outputs": [
    {
     "name": "stdout",
     "output_type": "stream",
     "text": [
      "[[ -12.31785983  121.9363747   101.24849959 -562.12707307]\n",
      " [ -24.76893932  128.23397285   91.46952219 -611.73072135]\n",
      " [ -10.60058422   88.61504105  160.13321168 -630.61109061]\n",
      " [ -11.51450248   87.21339245  102.67373531 -687.10491681]\n",
      " [ -32.19253199   90.29695016   58.58385065 -499.85404376]\n",
      " [ -18.21253014   86.12578062  275.4789917  -640.51234996]]\n",
      "['Aegolius Harrisii', 'Aegolius Harrisii', 'Brotogeris Tirica', 'Brotogeris Tirica', 'Campephilus Robustus', 'Campephilus Robustus']\n"
     ]
    }
   ],
   "source": [
    "#labels = [0,0,1,1,2,2]\n",
    "#y = np.array(labels)\n",
    "y = labels\n",
    "print(data)\n",
    "print(y)"
   ]
  },
  {
   "cell_type": "code",
   "execution_count": 66,
   "metadata": {
    "collapsed": false
   },
   "outputs": [],
   "source": [
    "X_train, X_test, y_train, y_test = train_test_split(data, y, test_size=0.4, random_state=0)\n"
   ]
  },
  {
   "cell_type": "code",
   "execution_count": 67,
   "metadata": {
    "collapsed": false
   },
   "outputs": [
    {
     "name": "stdout",
     "output_type": "stream",
     "text": [
      "Treinamento\n",
      "[[ -11.51450248   87.21339245  102.67373531 -687.10491681]\n",
      " [ -12.31785983  121.9363747   101.24849959 -562.12707307]\n",
      " [ -32.19253199   90.29695016   58.58385065 -499.85404376]]\n",
      "['Brotogeris Tirica', 'Aegolius Harrisii', 'Campephilus Robustus']\n",
      "Teste\n",
      "[[ -18.21253014   86.12578062  275.4789917  -640.51234996]\n",
      " [ -10.60058422   88.61504105  160.13321168 -630.61109061]\n",
      " [ -24.76893932  128.23397285   91.46952219 -611.73072135]]\n",
      "['Campephilus Robustus', 'Brotogeris Tirica', 'Aegolius Harrisii']\n"
     ]
    }
   ],
   "source": [
    "print(\"Treinamento\")\n",
    "print(X_train)\n",
    "print(y_train)\n",
    "print(\"Teste\")\n",
    "print(X_test)\n",
    "print(y_test)"
   ]
  },
  {
   "cell_type": "code",
   "execution_count": 68,
   "metadata": {
    "collapsed": false
   },
   "outputs": [
    {
     "data": {
      "text/plain": [
       "SVC(C=1, cache_size=200, class_weight=None, coef0=0.0,\n",
       "  decision_function_shape=None, degree=3, gamma='auto', kernel='rbf',\n",
       "  max_iter=-1, probability=False, random_state=None, shrinking=True,\n",
       "  tol=0.001, verbose=False)"
      ]
     },
     "execution_count": 68,
     "metadata": {},
     "output_type": "execute_result"
    }
   ],
   "source": [
    "clf = svm.SVC(kernel='rbf', C=1)\n",
    "clf.fit(X_train, y_train)\n"
   ]
  },
  {
   "cell_type": "code",
   "execution_count": 69,
   "metadata": {
    "collapsed": false
   },
   "outputs": [
    {
     "data": {
      "text/plain": [
       "0.66666666666666663"
      ]
     },
     "execution_count": 69,
     "metadata": {},
     "output_type": "execute_result"
    }
   ],
   "source": [
    "clf.predict(X_test)\n",
    "clf.score(X_test, y_test) # Retorna f-measure"
   ]
  }
 ],
 "metadata": {
  "anaconda-cloud": {},
  "kernelspec": {
   "display_name": "Python [conda root]",
   "language": "python",
   "name": "conda-root-py"
  },
  "language_info": {
   "codemirror_mode": {
    "name": "ipython",
    "version": 3
   },
   "file_extension": ".py",
   "mimetype": "text/x-python",
   "name": "python",
   "nbconvert_exporter": "python",
   "pygments_lexer": "ipython3",
   "version": "3.5.2"
  }
 },
 "nbformat": 4,
 "nbformat_minor": 1
}
