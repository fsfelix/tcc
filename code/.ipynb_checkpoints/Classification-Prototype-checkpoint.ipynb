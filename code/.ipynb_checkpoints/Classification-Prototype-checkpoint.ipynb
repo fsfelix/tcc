{
 "cells": [
  {
   "cell_type": "code",
   "execution_count": 60,
   "metadata": {
    "collapsed": false
   },
   "outputs": [],
   "source": [
    "%matplotlib inline\n",
    "\n",
    "import os \n",
    "import librosa\n",
    "import numpy as np\n",
    "import string as strp\n",
    "import matplotlib\n",
    "import matplotlib.pyplot as plt\n",
    "\n",
    "from sklearn.model_selection import train_test_split\n",
    "from sklearn.model_selection import cross_val_score\n",
    "from sklearn import datasets\n",
    "from sklearn import svm, neighbors\n",
    "\n",
    "import importlib\n",
    "import pr_util as util"
   ]
  },
  {
   "cell_type": "code",
   "execution_count": 5,
   "metadata": {
    "collapsed": false
   },
   "outputs": [
    {
     "data": {
      "text/plain": [
       "<module 'pr_util' from '/Users/felipefelix/USP/tcc/code/pr_util.py'>"
      ]
     },
     "execution_count": 5,
     "metadata": {},
     "output_type": "execute_result"
    }
   ],
   "source": [
    "importlib.reload(util)"
   ]
  },
  {
   "cell_type": "code",
   "execution_count": 61,
   "metadata": {
    "collapsed": false,
    "scrolled": false
   },
   "outputs": [
    {
     "ename": "KeyboardInterrupt",
     "evalue": "",
     "output_type": "error",
     "traceback": [
      "\u001b[0;31m---------------------------------------------------------------------------\u001b[0m",
      "\u001b[0;31mKeyboardInterrupt\u001b[0m                         Traceback (most recent call last)",
      "\u001b[0;32m<ipython-input-61-caae4a78ddef>\u001b[0m in \u001b[0;36m<module>\u001b[0;34m()\u001b[0m\n\u001b[1;32m     22\u001b[0m                 \u001b[0mfile_dir\u001b[0m \u001b[0;34m=\u001b[0m \u001b[0msubdir\u001b[0m \u001b[0;34m+\u001b[0m \u001b[0;34m'/'\u001b[0m \u001b[0;34m+\u001b[0m \u001b[0mfile\u001b[0m\u001b[0;34m\u001b[0m\u001b[0m\n\u001b[1;32m     23\u001b[0m                 \u001b[0;31m#print('Loading {}...'.format(file_dir))\u001b[0m\u001b[0;34m\u001b[0m\u001b[0;34m\u001b[0m\u001b[0m\n\u001b[0;32m---> 24\u001b[0;31m                 \u001b[0my\u001b[0m\u001b[0;34m,\u001b[0m \u001b[0msr\u001b[0m \u001b[0;34m=\u001b[0m \u001b[0mlibrosa\u001b[0m\u001b[0;34m.\u001b[0m\u001b[0mload\u001b[0m\u001b[0;34m(\u001b[0m\u001b[0mfile_dir\u001b[0m\u001b[0;34m)\u001b[0m\u001b[0;34m\u001b[0m\u001b[0m\n\u001b[0m\u001b[1;32m     25\u001b[0m \u001b[0;34m\u001b[0m\u001b[0m\n\u001b[1;32m     26\u001b[0m                 \u001b[0;31m#generate_local_feature(file_dir, 'rmse', librosa.feature.rmse, y)\u001b[0m\u001b[0;34m\u001b[0m\u001b[0;34m\u001b[0m\u001b[0m\n",
      "\u001b[0;32m/Users/felipefelix/anaconda3/lib/python3.5/site-packages/librosa/core/audio.py\u001b[0m in \u001b[0;36mload\u001b[0;34m(path, sr, mono, offset, duration, dtype, res_type)\u001b[0m\n\u001b[1;32m    153\u001b[0m \u001b[0;34m\u001b[0m\u001b[0m\n\u001b[1;32m    154\u001b[0m         \u001b[0;32mif\u001b[0m \u001b[0msr\u001b[0m \u001b[0;32mis\u001b[0m \u001b[0;32mnot\u001b[0m \u001b[0;32mNone\u001b[0m\u001b[0;34m:\u001b[0m\u001b[0;34m\u001b[0m\u001b[0m\n\u001b[0;32m--> 155\u001b[0;31m             \u001b[0my\u001b[0m \u001b[0;34m=\u001b[0m \u001b[0mresample\u001b[0m\u001b[0;34m(\u001b[0m\u001b[0my\u001b[0m\u001b[0;34m,\u001b[0m \u001b[0msr_native\u001b[0m\u001b[0;34m,\u001b[0m \u001b[0msr\u001b[0m\u001b[0;34m,\u001b[0m \u001b[0mres_type\u001b[0m\u001b[0;34m=\u001b[0m\u001b[0mres_type\u001b[0m\u001b[0;34m)\u001b[0m\u001b[0;34m\u001b[0m\u001b[0m\n\u001b[0m\u001b[1;32m    156\u001b[0m \u001b[0;34m\u001b[0m\u001b[0m\n\u001b[1;32m    157\u001b[0m         \u001b[0;32melse\u001b[0m\u001b[0;34m:\u001b[0m\u001b[0;34m\u001b[0m\u001b[0m\n",
      "\u001b[0;32m/Users/felipefelix/anaconda3/lib/python3.5/site-packages/librosa/core/audio.py\u001b[0m in \u001b[0;36mresample\u001b[0;34m(y, orig_sr, target_sr, res_type, fix, scale, **kwargs)\u001b[0m\n\u001b[1;32m    279\u001b[0m         \u001b[0my_hat\u001b[0m \u001b[0;34m=\u001b[0m \u001b[0mscipy\u001b[0m\u001b[0;34m.\u001b[0m\u001b[0msignal\u001b[0m\u001b[0;34m.\u001b[0m\u001b[0mresample\u001b[0m\u001b[0;34m(\u001b[0m\u001b[0my\u001b[0m\u001b[0;34m,\u001b[0m \u001b[0mn_samples\u001b[0m\u001b[0;34m,\u001b[0m \u001b[0maxis\u001b[0m\u001b[0;34m=\u001b[0m\u001b[0;34m-\u001b[0m\u001b[0;36m1\u001b[0m\u001b[0;34m)\u001b[0m\u001b[0;34m\u001b[0m\u001b[0m\n\u001b[1;32m    280\u001b[0m     \u001b[0;32melse\u001b[0m\u001b[0;34m:\u001b[0m\u001b[0;34m\u001b[0m\u001b[0m\n\u001b[0;32m--> 281\u001b[0;31m         \u001b[0my_hat\u001b[0m \u001b[0;34m=\u001b[0m \u001b[0mresampy\u001b[0m\u001b[0;34m.\u001b[0m\u001b[0mresample\u001b[0m\u001b[0;34m(\u001b[0m\u001b[0my\u001b[0m\u001b[0;34m,\u001b[0m \u001b[0morig_sr\u001b[0m\u001b[0;34m,\u001b[0m \u001b[0mtarget_sr\u001b[0m\u001b[0;34m,\u001b[0m \u001b[0mfilter\u001b[0m\u001b[0;34m=\u001b[0m\u001b[0mres_type\u001b[0m\u001b[0;34m,\u001b[0m \u001b[0maxis\u001b[0m\u001b[0;34m=\u001b[0m\u001b[0;34m-\u001b[0m\u001b[0;36m1\u001b[0m\u001b[0;34m)\u001b[0m\u001b[0;34m\u001b[0m\u001b[0m\n\u001b[0m\u001b[1;32m    282\u001b[0m \u001b[0;34m\u001b[0m\u001b[0m\n\u001b[1;32m    283\u001b[0m     \u001b[0;32mif\u001b[0m \u001b[0mfix\u001b[0m\u001b[0;34m:\u001b[0m\u001b[0;34m\u001b[0m\u001b[0m\n",
      "\u001b[0;32m/Users/felipefelix/anaconda3/lib/python3.5/site-packages/resampy/core.py\u001b[0m in \u001b[0;36mresample\u001b[0;34m(x, sr_orig, sr_new, axis, filter, **kwargs)\u001b[0m\n\u001b[1;32m    115\u001b[0m     \u001b[0mx_2d\u001b[0m \u001b[0;34m=\u001b[0m \u001b[0mx\u001b[0m\u001b[0;34m.\u001b[0m\u001b[0mswapaxes\u001b[0m\u001b[0;34m(\u001b[0m\u001b[0;36m0\u001b[0m\u001b[0;34m,\u001b[0m \u001b[0maxis\u001b[0m\u001b[0;34m)\u001b[0m\u001b[0;34m.\u001b[0m\u001b[0mreshape\u001b[0m\u001b[0;34m(\u001b[0m\u001b[0;34m(\u001b[0m\u001b[0mx\u001b[0m\u001b[0;34m.\u001b[0m\u001b[0mshape\u001b[0m\u001b[0;34m[\u001b[0m\u001b[0maxis\u001b[0m\u001b[0;34m]\u001b[0m\u001b[0;34m,\u001b[0m \u001b[0;34m-\u001b[0m\u001b[0;36m1\u001b[0m\u001b[0;34m)\u001b[0m\u001b[0;34m)\u001b[0m\u001b[0;34m\u001b[0m\u001b[0m\n\u001b[1;32m    116\u001b[0m     \u001b[0my_2d\u001b[0m \u001b[0;34m=\u001b[0m \u001b[0my\u001b[0m\u001b[0;34m.\u001b[0m\u001b[0mswapaxes\u001b[0m\u001b[0;34m(\u001b[0m\u001b[0;36m0\u001b[0m\u001b[0;34m,\u001b[0m \u001b[0maxis\u001b[0m\u001b[0;34m)\u001b[0m\u001b[0;34m.\u001b[0m\u001b[0mreshape\u001b[0m\u001b[0;34m(\u001b[0m\u001b[0;34m(\u001b[0m\u001b[0my\u001b[0m\u001b[0;34m.\u001b[0m\u001b[0mshape\u001b[0m\u001b[0;34m[\u001b[0m\u001b[0maxis\u001b[0m\u001b[0;34m]\u001b[0m\u001b[0;34m,\u001b[0m \u001b[0;34m-\u001b[0m\u001b[0;36m1\u001b[0m\u001b[0;34m)\u001b[0m\u001b[0;34m)\u001b[0m\u001b[0;34m\u001b[0m\u001b[0m\n\u001b[0;32m--> 117\u001b[0;31m     \u001b[0mresample_f\u001b[0m\u001b[0;34m(\u001b[0m\u001b[0mx_2d\u001b[0m\u001b[0;34m,\u001b[0m \u001b[0my_2d\u001b[0m\u001b[0;34m,\u001b[0m \u001b[0msample_ratio\u001b[0m\u001b[0;34m,\u001b[0m \u001b[0minterp_win\u001b[0m\u001b[0;34m,\u001b[0m \u001b[0minterp_delta\u001b[0m\u001b[0;34m,\u001b[0m \u001b[0mprecision\u001b[0m\u001b[0;34m)\u001b[0m\u001b[0;34m\u001b[0m\u001b[0m\n\u001b[0m\u001b[1;32m    118\u001b[0m \u001b[0;34m\u001b[0m\u001b[0m\n\u001b[1;32m    119\u001b[0m     \u001b[0;32mreturn\u001b[0m \u001b[0my\u001b[0m\u001b[0;34m\u001b[0m\u001b[0m\n",
      "\u001b[0;31mKeyboardInterrupt\u001b[0m: "
     ]
    }
   ],
   "source": [
    "#data_dir = '/Users/felipefelix/USP/tcc/dataset/exp/'\n",
    "#data_dir = '/Users/felipefelix/USP/tcc/dataset/pr_article/S_A_C_Base_Parte-1/'\n",
    "#data_dir = '/Users/felipefelix/USP/tcc/dataset/pr_article/S_A_C_Base_Parte-2/'\n",
    "#data_dir = '/Users/felipefelix/USP/tcc/dataset/pr_article/S_A_C_Base_Parte-4/'\n",
    "\n",
    "def generate_local_feature(file_dir, feat_name, feat_func, y, **kwargs):\n",
    "    output_file = file_dir + '.' + feat_name + '.txt'\n",
    "    if not os.path.isfile(output_file):\n",
    "        print('generating {} for {}...'.format(feat_name, file_dir))\n",
    "        feature = feat_func(y = y, **kwargs)\n",
    "        np.savetxt(output_file, feature)\n",
    "    #else:\n",
    "    #    print('{} already exists.'.format(output_file))\n",
    "\n",
    "kwargs = {}\n",
    "\n",
    "for data_dir in util.DATA_DIR_FULL:\n",
    "    for subdir, dirs, files in os.walk(data_dir):\n",
    "        for file in files:\n",
    "            if util.is_audio(file):\n",
    "                #print('{} {} {}'.format(file, dirs, subdir))\n",
    "                file_dir = subdir + '/' + file\n",
    "                #print('Loading {}...'.format(file_dir))        \n",
    "                y, sr = librosa.load(file_dir)\n",
    "\n",
    "                #generate_local_feature(file_dir, 'rmse', librosa.feature.rmse, y)\n",
    "\n",
    "                #generate_local_feature(file_dir, 'stft', librosa.core.stft, y)\n",
    "\n",
    "                generate_local_feature(file_dir, 'mfcc', librosa.feature.mfcc, y, **kwargs)\n",
    "\n"
   ]
  },
  {
   "cell_type": "code",
   "execution_count": null,
   "metadata": {
    "collapsed": true
   },
   "outputs": [],
   "source": []
  },
  {
   "cell_type": "code",
   "execution_count": null,
   "metadata": {
    "collapsed": true
   },
   "outputs": [],
   "source": []
  },
  {
   "cell_type": "code",
   "execution_count": null,
   "metadata": {
    "collapsed": true
   },
   "outputs": [],
   "source": []
  },
  {
   "cell_type": "code",
   "execution_count": 6,
   "metadata": {
    "collapsed": false,
    "scrolled": false
   },
   "outputs": [],
   "source": [
    "def generate_global_features(n_global_feat, feat_name, data_dirs, song_or_call, functions):\n",
    "    # n_global_feat: number of global features\n",
    "    # feat_name: feature name, must use the convection file.feat_name.txt\n",
    "    # data_dirs: list with directories with birds features\n",
    "    # song_or_call: what type of recording is to be used\n",
    "    # functions: list with functions that will generate global features (np.max, etc...)\n",
    "    \n",
    "    labels_dict = {}\n",
    "    \n",
    "    labels  = []\n",
    "    n_label = -1\n",
    "    n_files = util.num_files(data_dirs, song_or_call)\n",
    "    i = 0\n",
    "    j = 0\n",
    "    data = np.empty((n_files, n_global_feat))\n",
    "\n",
    "    for data_dir in data_dirs:\n",
    "        for subdir, dirs, files in os.walk(data_dir):\n",
    "            for file in files:\n",
    "                type_of_rec = subdir.split('/')[-1] # Is it a call or a song?\n",
    "                if type_of_rec == song_or_call and file.split('.')[-2] == feat_name:\n",
    "                    bird_specie = subdir.split('/')[-2].title()\n",
    "                    if not bird_specie in labels_dict.keys():\n",
    "                        n_label += 1\n",
    "                        labels_dict[bird_specie] = n_label\n",
    "                        labels.append(n_label)\n",
    "                    else:\n",
    "                        labels.append(labels_dict[bird_specie])\n",
    "                    feature_path = subdir + '/' + file\n",
    "                    feature = np.loadtxt(feature_path)\n",
    "                    \n",
    "                    for function in functions: # Iterate through all functions\n",
    "                        data[i][j] = function(feature)\n",
    "                        j += 1\n",
    "                    i += 1    \n",
    "                    j  = 0\n",
    "    labels = np.array(labels)\n",
    "    return labels_dict, labels, data"
   ]
  },
  {
   "cell_type": "code",
   "execution_count": 12,
   "metadata": {
    "collapsed": false,
    "scrolled": false
   },
   "outputs": [
    {
     "name": "stdout",
     "output_type": "stream",
     "text": [
      "/Users/felipefelix/USP/tcc/dataset/pr_article/S_A_C_Base_Parte-4/Vanellus chilensis/\n",
      "/Users/felipefelix/USP/tcc/dataset/pr_article/S_A_C_Base_Parte-2/Gnorimopsar chopi/\n",
      "/Users/felipefelix/USP/tcc/dataset/pr_article/S_A_C_Base_Parte-1/Aegolius harrisii/\n",
      "Espécies sorteadas:\n",
      "/Users/felipefelix/USP/tcc/dataset/pr_article/S_A_C_Base_Parte-4/Vanellus chilensis/\n",
      "/Users/felipefelix/USP/tcc/dataset/pr_article/S_A_C_Base_Parte-2/Gnorimopsar chopi/\n",
      "/Users/felipefelix/USP/tcc/dataset/pr_article/S_A_C_Base_Parte-1/Aegolius harrisii/\n"
     ]
    }
   ],
   "source": [
    "# EXAMPLE\n",
    "\n",
    "# data_dirs = ['/Users/felipefelix/USP/tcc/dataset/pr_article/S_A_C_Base_Parte-1/Aegolius harrisii/',\n",
    "#            '/Users/felipefelix/USP/tcc/dataset/pr_article/S_A_C_Base_Parte-1/Amazilia Versicolor/',\n",
    "#            '/Users/felipefelix/USP/tcc/dataset/pr_article/S_A_C_Base_Parte-1/Anthus Lutescens/']\n",
    "\n",
    "functions = [np.mean, np.std, np.max, np.min]\n",
    "n_global_feat = len(functions)\n",
    "feat_name = 'mfcc'\n",
    "song_or_call = 'song'\n",
    "data_dirs = util.choose_species(3)\n",
    "\n",
    "print(\"Espécies sorteadas:\")\n",
    "for dir in data_dirs:\n",
    "    print(dir)\n",
    "\n",
    "labels_dict, labels, data = generate_global_features(n_global_feat, feat_name, data_dirs, song_or_call, functions)"
   ]
  },
  {
   "cell_type": "code",
   "execution_count": 13,
   "metadata": {
    "collapsed": false
   },
   "outputs": [
    {
     "data": {
      "text/plain": [
       "array([0, 0, 0, 0, 0, 0, 0, 0, 0, 0, 0, 0, 0, 0, 0, 0, 0, 0, 0, 0, 0, 0, 0,\n",
       "       0, 0, 0, 0, 0, 0, 0, 0, 0, 0, 0, 0, 0, 0, 0, 0, 0, 0, 0, 0, 0, 0, 0,\n",
       "       0, 0, 0, 0, 0, 0, 0, 0, 0, 0, 0, 0, 0, 0, 0, 0, 0, 0, 0, 0, 0, 0, 0,\n",
       "       0, 0, 0, 0, 0, 0, 0, 0, 0, 0, 0, 0, 0, 0, 0, 0, 0, 0, 0, 0, 0, 0, 0,\n",
       "       0, 0, 0, 0, 0, 0, 0, 0, 0, 0, 0, 0, 0, 0, 0, 0, 0, 0, 0, 1, 1, 1, 1,\n",
       "       1, 1, 1, 1, 1, 1, 1, 1, 1, 1, 1, 1, 1, 1, 1, 1, 1, 1, 1, 1, 1, 1, 1,\n",
       "       1, 1, 1, 1, 1, 1, 1, 1, 1, 1, 1, 1, 1, 1, 1, 1, 1, 2, 2, 2, 2, 2, 2,\n",
       "       2, 2, 2, 2, 2, 2, 2, 2, 2, 2, 2, 2, 2, 2, 2, 2, 2])"
      ]
     },
     "execution_count": 13,
     "metadata": {},
     "output_type": "execute_result"
    }
   ],
   "source": [
    "labels"
   ]
  },
  {
   "cell_type": "code",
   "execution_count": 21,
   "metadata": {
    "collapsed": true
   },
   "outputs": [],
   "source": [
    "def plot_scatter(x, y, labels, xlabel, ylabel):\n",
    "    fig, ax = plt.subplots()\n",
    "    markers = ['2', '.', '>', '*', '<', ',', '1', '8']    \n",
    "    colors = ['b','g','r','c','m','y','k','w']\n",
    "\n",
    "    for label in labels:\n",
    "        ax.scatter(x[labels == label], y[labels == label], marker = markers[label], c = colors[label], s = 75)\n",
    "\n",
    "    plt.title(\"Scatter Plot (n_species = %i)\" % (max(labels) + 1))\n",
    "    ax.set_xlabel(xlabel)\n",
    "    ax.set_ylabel(ylabel)\n",
    "    plt.show()\n"
   ]
  },
  {
   "cell_type": "code",
   "execution_count": 22,
   "metadata": {
    "collapsed": false
   },
   "outputs": [
    {
     "data": {
      "image/png": "[encoded data removed]",
      "text/plain": [
       "<matplotlib.figure.Figure at 0x11afe44e0>"
      ]
     },
     "metadata": {},
     "output_type": "display_data"
    }
   ],
   "source": [
    "plot_scatter(X[:,0], X[:,1], labels, \"std mfcc\", \"mean mfcc\")"
   ]
  },
  {
   "cell_type": "code",
   "execution_count": 26,
   "metadata": {
    "collapsed": false,
    "scrolled": false
   },
   "outputs": [
    {
     "data": {
      "image/png": "[encoded data removed]",
      "text/plain": [
       "<matplotlib.figure.Figure at 0x104951828>"
      ]
     },
     "metadata": {},
     "output_type": "display_data"
    }
   ],
   "source": [
    "plot_scatter(data[:,2], data[:,3], labels, \"max mfcc\", \"min mfcc\")"
   ]
  },
  {
   "cell_type": "code",
   "execution_count": null,
   "metadata": {
    "collapsed": true
   },
   "outputs": [],
   "source": []
  },
  {
   "cell_type": "code",
   "execution_count": null,
   "metadata": {
    "collapsed": false
   },
   "outputs": [],
   "source": []
  },
  {
   "cell_type": "code",
   "execution_count": 32,
   "metadata": {
    "collapsed": false
   },
   "outputs": [],
   "source": [
    "# Splitting the dataset\n",
    "\n",
    "X_train, X_test, y_train, y_test = train_test_split(data, labels, test_size=0.20, random_state=0)"
   ]
  },
  {
   "cell_type": "code",
   "execution_count": 49,
   "metadata": {
    "collapsed": false
   },
   "outputs": [],
   "source": [
    "def kNN(data, labels, cv, k_range):\n",
    "    for k in k_range:\n",
    "        for weight in ['uniform', 'distance']:\n",
    "            clf = neighbors.KNeighborsClassifier(k, weights = weight)        \n",
    "            scores = cross_val_score(clf, data, labels, cv = 5)\n",
    "            print(\"{0}-Neighbors | Accuracy: {1:.2f} (+/- {2:.2f}) | Weight: {3}\".format(k, scores.mean(), scores.std() * 2, weight))\n"
   ]
  },
  {
   "cell_type": "code",
   "execution_count": 50,
   "metadata": {
    "collapsed": false
   },
   "outputs": [
    {
     "name": "stdout",
     "output_type": "stream",
     "text": [
      "3-Neighbors | Accuracy: 0.60 (+/- 0.19) | Weight: uniform\n",
      "3-Neighbors | Accuracy: 0.56 (+/- 0.14) | Weight: distance\n",
      "4-Neighbors | Accuracy: 0.57 (+/- 0.11) | Weight: uniform\n",
      "4-Neighbors | Accuracy: 0.56 (+/- 0.15) | Weight: distance\n",
      "5-Neighbors | Accuracy: 0.60 (+/- 0.14) | Weight: uniform\n",
      "5-Neighbors | Accuracy: 0.57 (+/- 0.14) | Weight: distance\n",
      "6-Neighbors | Accuracy: 0.60 (+/- 0.14) | Weight: uniform\n",
      "6-Neighbors | Accuracy: 0.57 (+/- 0.13) | Weight: distance\n",
      "7-Neighbors | Accuracy: 0.61 (+/- 0.10) | Weight: uniform\n",
      "7-Neighbors | Accuracy: 0.61 (+/- 0.10) | Weight: distance\n",
      "8-Neighbors | Accuracy: 0.62 (+/- 0.14) | Weight: uniform\n",
      "8-Neighbors | Accuracy: 0.62 (+/- 0.12) | Weight: distance\n",
      "9-Neighbors | Accuracy: 0.63 (+/- 0.20) | Weight: uniform\n",
      "9-Neighbors | Accuracy: 0.62 (+/- 0.11) | Weight: distance\n",
      "10-Neighbors | Accuracy: 0.65 (+/- 0.17) | Weight: uniform\n",
      "10-Neighbors | Accuracy: 0.64 (+/- 0.12) | Weight: distance\n",
      "11-Neighbors | Accuracy: 0.64 (+/- 0.12) | Weight: uniform\n",
      "11-Neighbors | Accuracy: 0.61 (+/- 0.10) | Weight: distance\n",
      "12-Neighbors | Accuracy: 0.64 (+/- 0.15) | Weight: uniform\n",
      "12-Neighbors | Accuracy: 0.63 (+/- 0.10) | Weight: distance\n",
      "13-Neighbors | Accuracy: 0.62 (+/- 0.13) | Weight: uniform\n",
      "13-Neighbors | Accuracy: 0.61 (+/- 0.12) | Weight: distance\n",
      "14-Neighbors | Accuracy: 0.63 (+/- 0.17) | Weight: uniform\n",
      "14-Neighbors | Accuracy: 0.63 (+/- 0.10) | Weight: distance\n",
      "15-Neighbors | Accuracy: 0.62 (+/- 0.13) | Weight: uniform\n",
      "15-Neighbors | Accuracy: 0.62 (+/- 0.09) | Weight: distance\n",
      "16-Neighbors | Accuracy: 0.69 (+/- 0.10) | Weight: uniform\n",
      "16-Neighbors | Accuracy: 0.62 (+/- 0.13) | Weight: distance\n",
      "17-Neighbors | Accuracy: 0.68 (+/- 0.08) | Weight: uniform\n",
      "17-Neighbors | Accuracy: 0.62 (+/- 0.13) | Weight: distance\n",
      "18-Neighbors | Accuracy: 0.69 (+/- 0.04) | Weight: uniform\n",
      "18-Neighbors | Accuracy: 0.63 (+/- 0.15) | Weight: distance\n",
      "19-Neighbors | Accuracy: 0.67 (+/- 0.07) | Weight: uniform\n",
      "19-Neighbors | Accuracy: 0.65 (+/- 0.15) | Weight: distance\n"
     ]
    }
   ],
   "source": [
    "kNN(data, labels, 5, range(3,20))"
   ]
  },
  {
   "cell_type": "code",
   "execution_count": 140,
   "metadata": {
    "collapsed": false,
    "scrolled": false
   },
   "outputs": [
    {
     "name": "stdout",
     "output_type": "stream",
     "text": [
      "---------------------- Treinamento -------------------------\n",
      "[[ -2.47249357e+01   8.13488622e+01   8.66215873e+01  -5.56076894e+02]\n",
      " [ -9.67800045e+00   7.80134757e+01   9.40164376e+01  -6.49548143e+02]\n",
      " [ -1.94950986e+01   4.53841104e+01   6.98859356e+01  -5.99829451e+02]\n",
      " [ -2.47936799e+01   6.98311260e+01   5.80988650e+01  -5.85003329e+02]\n",
      " [ -2.73296195e+01   7.63673812e+01   5.60012536e+01  -6.65370450e+02]\n",
      " [ -7.60104162e+00   5.75830043e+01   1.00908418e+02  -5.94795644e+02]\n",
      " [ -2.56532179e+01   6.52653132e+01   5.12514984e+01  -6.16608877e+02]\n",
      " [ -2.61582230e+01   6.32432186e+01   8.13153091e+01  -6.15274191e+02]\n",
      " [ -9.92031920e+00   6.71920603e+01   9.38047096e+01  -5.68900450e+02]\n",
      " [ -2.12020410e+01   3.40006643e+01   7.05554213e+01  -2.77480183e+02]\n",
      " [ -2.66582563e+01   8.86336334e+01   1.04893107e+02  -5.98078380e+02]\n",
      " [ -1.40127448e+01   7.39126856e+01   1.77818500e+02  -4.71627441e+02]\n",
      " [ -2.26430396e+01   1.04846810e+02   1.33121547e+02  -6.67628462e+02]\n",
      " [ -2.55425515e+01   7.87872934e+01   8.78499461e+01  -5.92865508e+02]\n",
      " [ -2.46184325e+01   7.76229169e+01   7.96622421e+01  -5.71283388e+02]\n",
      " [ -2.41442961e+01   7.69819107e+01   7.30127724e+01  -5.66017509e+02]\n",
      " [ -1.12041559e+01   6.24482322e+01   2.04739035e+02  -3.84413341e+02]\n",
      " [ -2.81344997e+01   9.74320212e+01   1.38373296e+02  -6.31057620e+02]\n",
      " [ -1.56463500e+01   6.30077384e+01   1.08569003e+02  -5.57205542e+02]\n",
      " [ -2.49426079e+01   1.13760983e+02   2.07420749e+02  -6.85754852e+02]\n",
      " [  2.58274952e-01   6.28536560e+01   8.64200418e+01  -5.21317614e+02]\n",
      " [ -7.49189943e+00   9.06743257e+01   2.08572324e+02  -6.53817155e+02]\n",
      " [  3.23126186e-01   6.26812098e+01   1.23758309e+02  -4.87534476e+02]\n",
      " [ -2.33446697e+01   1.03105564e+02   1.17289404e+02  -7.06376331e+02]\n",
      " [ -6.84948051e+00   5.36183449e+01   1.15520957e+02  -4.84334900e+02]\n",
      " [ -1.29551309e+01   7.62808803e+01   1.94663010e+02  -6.09267346e+02]\n",
      " [ -2.38336002e+01   5.82806725e+01   4.63768637e+01  -5.72696816e+02]\n",
      " [ -2.00130537e+01   5.55589604e+01   3.35792689e+01  -6.30543185e+02]\n",
      " [ -1.48082759e+01   6.81213407e+01   9.08434941e+01  -8.02629343e+02]\n",
      " [ -2.75357786e+01   9.52407404e+01   1.21691527e+02  -6.18345839e+02]\n",
      " [ -2.43204681e+01   7.64927922e+01   6.12805066e+01  -5.58573564e+02]\n",
      " [ -2.09171798e+01   5.83276459e+01   7.24294701e+01  -5.35369391e+02]\n",
      " [ -2.84019523e+01   8.44240133e+01   4.07124369e+01  -6.61038609e+02]\n",
      " [ -6.15751719e+00   5.87572722e+01   1.07704109e+02  -5.56262136e+02]\n",
      " [ -1.82125301e+01   8.61257806e+01   2.75478992e+02  -6.40512350e+02]\n",
      " [ -6.41634111e+00   9.32032625e+01   1.76104570e+02  -5.26997822e+02]\n",
      " [ -2.52995329e+01   6.44351417e+01   4.60966313e+01  -5.93328003e+02]\n",
      " [ -1.74668333e+01   4.01359047e+01   8.13204690e+01  -3.21524436e+02]\n",
      " [ -1.95836345e+01   5.58185519e+01   6.45796850e+01  -5.35592379e+02]\n",
      " [ -2.18385663e+01   5.13398713e+01   8.18949062e+01  -5.96502586e+02]\n",
      " [ -6.85544079e+00   8.96916384e+01   1.20564195e+02  -5.71729126e+02]\n",
      " [ -7.06979678e+00   6.70652808e+01   1.52380711e+02  -4.68213116e+02]\n",
      " [  9.92999336e-01   6.87206300e+01   1.50707624e+02  -5.57987940e+02]\n",
      " [ -1.10490114e+01   6.22303373e+01   5.51897160e+01  -3.86994382e+02]\n",
      " [ -2.79883814e+01   8.20606436e+01   6.80102952e+01  -6.58660023e+02]\n",
      " [ -1.04862657e+01   8.69084931e+01   1.81871927e+02  -6.59737159e+02]\n",
      " [ -2.34892245e+01   7.11321121e+01   6.59531709e+01  -5.63185698e+02]\n",
      " [ -2.36352541e+01   4.91129461e+01   5.05318651e+01  -5.27106534e+02]\n",
      " [ -4.26899517e+00   4.63842504e+01   9.97490935e+01  -5.25703862e+02]\n",
      " [ -7.28782597e+00   7.15243599e+01   9.89898942e+01  -4.06103275e+02]\n",
      " [ -2.45844049e+01   7.02762197e+01   5.88081756e+01  -5.70014541e+02]\n",
      " [ -2.46223329e+01   6.69115708e+01   4.53234778e+01  -5.81194237e+02]]\n",
      "[2 2 0 0 2 2 2 2 0 1 2 2 2 2 2 2 1 2 2 1 0 1 1 2 0 1 2 2 1 2 2 2 2 0 1 2 2\n",
      " 0 2 2 2 1 1 0 2 2 2 0 0 2 2 2]\n",
      "------------------------ Teste ----------------------\n",
      "[[ -17.943933     68.22309077   66.41815684 -619.19080839]\n",
      " [ -24.04564846   72.11976849   67.26817005 -550.24797353]\n",
      " [   4.29086246   55.17459855  172.71333418 -428.88127677]\n",
      " [  -8.18216587   75.77116204  132.87016809 -605.07118057]\n",
      " [ -27.23238464   83.13304868   94.55722162 -624.43310521]\n",
      " [ -23.3831832    62.35261684   47.40842195 -555.99041562]\n",
      " [ -18.40238956   40.92885709   41.71554992 -589.88242628]\n",
      " [ -26.3162185    84.69334125   73.7983531  -647.4312277 ]\n",
      " [ -25.96892305   76.37580222   72.04764763 -594.63715812]\n",
      " [ -12.51212896   55.71855269   73.30776434 -471.2289635 ]\n",
      " [ -26.03580504   87.64834099  114.28780912 -577.48096292]\n",
      " [  -5.47391054   65.30184885   82.96103261 -650.82277629]\n",
      " [ -32.19253199   90.29695016   58.58385065 -499.85404376]]\n",
      "[2 2 2 2 2 2 2 2 2 2 2 0 1]\n"
     ]
    }
   ],
   "source": [
    "print(\"---------------------- Treinamento -------------------------\")\n",
    "print(X_train)\n",
    "print(y_train)\n",
    "print(\"------------------------ Teste ----------------------\")\n",
    "print(X_test)\n",
    "print(y_test)"
   ]
  },
  {
   "cell_type": "code",
   "execution_count": null,
   "metadata": {
    "collapsed": true
   },
   "outputs": [],
   "source": []
  },
  {
   "cell_type": "code",
   "execution_count": 30,
   "metadata": {
    "collapsed": false
   },
   "outputs": [
    {
     "data": {
      "text/plain": [
       "SVC(C=1, cache_size=200, class_weight=None, coef0=0.0,\n",
       "  decision_function_shape=None, degree=3, gamma='auto', kernel='linear',\n",
       "  max_iter=-1, probability=False, random_state=None, shrinking=True,\n",
       "  tol=0.001, verbose=False)"
      ]
     },
     "execution_count": 30,
     "metadata": {},
     "output_type": "execute_result"
    }
   ],
   "source": [
    "clf = svm.SVC(kernel='linear', C=1)\n",
    "clf.fit(X_train, y_train)"
   ]
  },
  {
   "cell_type": "code",
   "execution_count": 31,
   "metadata": {
    "collapsed": false
   },
   "outputs": [
    {
     "data": {
      "text/plain": [
       "0.72222222222222221"
      ]
     },
     "execution_count": 31,
     "metadata": {},
     "output_type": "execute_result"
    }
   ],
   "source": [
    "#clf.predict(X_test)\n",
    "clf.score(X_test, y_test) # Retorna f-measure"
   ]
  },
  {
   "cell_type": "code",
   "execution_count": 59,
   "metadata": {
    "collapsed": false
   },
   "outputs": [
    {
     "data": {
      "text/plain": [
       "array([0, 0, 0, 0, 0, 0, 0, 0, 0, 0, 0, 0, 0, 0, 0, 0, 0, 0, 0, 0, 0, 0, 0,\n",
       "       0, 0, 0, 0, 0, 0, 0, 0, 0, 0, 0, 0, 0, 0, 0, 0, 0, 0, 0, 0, 0, 0, 0,\n",
       "       0, 0, 0, 0, 0, 0, 0, 0, 0, 0, 0, 0, 0, 0, 0, 0, 0, 0, 0, 0, 0, 0, 0,\n",
       "       0, 0, 0, 0, 0, 0, 0, 0, 0, 0, 0, 0, 0, 0, 0, 0, 0, 0, 0, 0, 0, 0, 0,\n",
       "       0, 0, 0, 0, 0, 0, 0, 0, 0, 0, 0, 0, 0, 0, 0, 0, 0, 0, 0, 1, 1, 1, 1,\n",
       "       1, 1, 1, 1, 1, 1, 1, 1, 1, 1, 1, 1, 1, 1, 1, 1, 1, 1, 1, 1, 1, 1, 1,\n",
       "       1, 1, 1, 1, 1, 1, 1, 1, 1, 1, 1, 1, 1, 1, 1, 1, 1, 2, 2, 2, 2, 2, 2,\n",
       "       2, 2, 2, 2, 2, 2, 2, 2, 2, 2, 2, 2, 2, 2, 2, 2, 2])"
      ]
     },
     "execution_count": 59,
     "metadata": {},
     "output_type": "execute_result"
    }
   ],
   "source": [
    "labels"
   ]
  },
  {
   "cell_type": "code",
   "execution_count": 57,
   "metadata": {
    "collapsed": false
   },
   "outputs": [
    {
     "name": "stdout",
     "output_type": "stream",
     "text": [
      "[ 0.7027027   0.61111111  0.61111111  0.62857143  0.61764706]\n"
     ]
    }
   ],
   "source": [
    "clf = svm.SVC(kernel = 'linear', C = 1)\n",
    "scores = cross_val_score(clf, data, labels, cv = 5)\n",
    "print(scores)"
   ]
  }
 ],
 "metadata": {
  "anaconda-cloud": {},
  "kernelspec": {
   "display_name": "Python [conda root]",
   "language": "python",
   "name": "conda-root-py"
  },
  "language_info": {
   "codemirror_mode": {
    "name": "ipython",
    "version": 3
   },
   "file_extension": ".py",
   "mimetype": "text/x-python",
   "name": "python",
   "nbconvert_exporter": "python",
   "pygments_lexer": "ipython3",
   "version": "3.5.2"
  }
 },
 "nbformat": 4,
 "nbformat_minor": 1
}
