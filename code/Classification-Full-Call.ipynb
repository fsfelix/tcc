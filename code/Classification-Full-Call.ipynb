{
 "cells": [
  {
   "cell_type": "code",
   "execution_count": 1,
   "metadata": {
    "collapsed": false
   },
   "outputs": [
    {
     "data": {
      "text/plain": [
       "<module 'pr_util' from '/Users/felipefelix/USP/tcc/code/pr_util.py'>"
      ]
     },
     "execution_count": 1,
     "metadata": {},
     "output_type": "execute_result"
    }
   ],
   "source": [
    "%matplotlib inline\n",
    "\n",
    "import importlib\n",
    "import numpy as np\n",
    "import pr_util as util\n",
    "\n",
    "from sklearn.model_selection import cross_val_score\n",
    "from sklearn.naive_bayes import GaussianNB\n",
    "from sklearn import svm\n",
    "\n",
    "from generate_global_features_2 import generate_global_features\n",
    "\n",
    "importlib.reload(util)"
   ]
  },
  {
   "cell_type": "code",
   "execution_count": 2,
   "metadata": {
    "collapsed": false
   },
   "outputs": [
    {
     "name": "stdout",
     "output_type": "stream",
     "text": [
      "77\n"
     ]
    }
   ],
   "source": [
    "print(len(util.NAME_SPECIES_NUM_DIR))"
   ]
  },
  {
   "cell_type": "code",
   "execution_count": 7,
   "metadata": {
    "collapsed": false
   },
   "outputs": [
    {
     "name": "stdout",
     "output_type": "stream",
     "text": [
      "/Users/felipefelix/USP/tcc/dataset/pr_article/S_A_C_Base_Parte-3/Orthogonys chloricterus/\n",
      "/Users/felipefelix/USP/tcc/dataset/pr_article/S_A_C_Base_Parte-4/Thryothorus longirostris/\n",
      "/Users/felipefelix/USP/tcc/dataset/pr_article/S_A_C_Base_Parte-1/Amazilia versicolor/\n",
      "/Users/felipefelix/USP/tcc/dataset/pr_article/S_A_C_Base_Parte-2/Mackenziaena leachii/\n",
      "/Users/felipefelix/USP/tcc/dataset/pr_article/S_A_C_Base_Parte-3/Ramphodon naevius/\n"
     ]
    }
   ],
   "source": [
    "# Randomly select n species from dataset\n",
    "\n",
    "n = 5\n",
    "data_dirs = util.choose_species(n)\n",
    "\n",
    "for dir in data_dirs:\n",
    "    print(dir)"
   ]
  },
  {
   "cell_type": "code",
   "execution_count": 8,
   "metadata": {
    "collapsed": false
   },
   "outputs": [],
   "source": [
    "# Generate n_global global features from a selected feature 'feat_name', \n",
    "# each one defined by a function in 'functions'.\n",
    "\n",
    "n_global = 4\n",
    "feat_name = 'mfcc'\n",
    "functions = [np.mean, np.std, np.max, np.min]\n",
    "song_or_call = 'call'\n",
    "\n",
    "labels_dict, labels, data = generate_global_features(n_global, feat_name, data_dirs, song_or_call, functions)"
   ]
  },
  {
   "cell_type": "code",
   "execution_count": 9,
   "metadata": {
    "collapsed": false
   },
   "outputs": [
    {
     "name": "stdout",
     "output_type": "stream",
     "text": [
      "{'Thryothorus Longirostris': 1, 'Amazilia Versicolor': 2, 'Mackenziaena Leachii': 3, 'Orthogonys Chloricterus': 0, 'Ramphodon Naevius': 4}\n",
      "[0 0 0 0 0 1 1 1 1 1 1 1 1 1 1 1 1 1 1 1 1 1 1 1 1 1 1 1 1 1 1 1 1 1 1 1 1\n",
      " 1 1 1 1 1 1 1 1 1 1 1 1 1 1 1 1 1 1 1 1 1 1 1 1 1 1 1 1 1 1 1 1 1 1 1 2 3\n",
      " 3 3 3 3 3 4 4 4 4 4 4 4 4]\n",
      "[[ -2.15924615e+00   8.57077929e+01   1.11873182e+02  -3.95763005e+02]\n",
      " [ -1.29636487e+01   5.73464094e+01   8.24304123e+01  -4.66033256e+02]\n",
      " [ -8.43095417e+00   5.88089960e+01   1.33042250e+02  -7.78535194e+02]\n",
      " [ -3.05720528e+01   8.39786014e+01   7.20123239e+01  -5.58081594e+02]\n",
      " [  6.92858075e-01   2.91671214e+01   8.85527190e+01  -1.69598936e+02]]\n"
     ]
    }
   ],
   "source": [
    "print(labels_dict)\n",
    "print(labels)\n",
    "print(data[:5])"
   ]
  },
  {
   "cell_type": "code",
   "execution_count": 10,
   "metadata": {
    "collapsed": false
   },
   "outputs": [
    {
     "data": {
      "image/png": "[encoded data removed]",
      "text/plain": [
       "<matplotlib.figure.Figure at 0x10d248dd8>"
      ]
     },
     "metadata": {},
     "output_type": "display_data"
    }
   ],
   "source": [
    "util.plot_scatter(data[:,0], data[:,1], labels, 'mean mfcc', 'std mfcc')"
   ]
  },
  {
   "cell_type": "markdown",
   "metadata": {},
   "source": [
    "## kNN"
   ]
  },
  {
   "cell_type": "code",
   "execution_count": 39,
   "metadata": {
    "collapsed": false
   },
   "outputs": [
    {
     "name": "stdout",
     "output_type": "stream",
     "text": [
      "3-Neighbors | Accuracy: 0.74 (+/- 0.30) | Weight: uniform\n",
      "3-Neighbors | Accuracy: 0.73 (+/- 0.24) | Weight: distance\n",
      "4-Neighbors | Accuracy: 0.75 (+/- 0.27) | Weight: uniform\n",
      "4-Neighbors | Accuracy: 0.74 (+/- 0.25) | Weight: distance\n",
      "5-Neighbors | Accuracy: 0.71 (+/- 0.24) | Weight: uniform\n",
      "5-Neighbors | Accuracy: 0.74 (+/- 0.25) | Weight: distance\n",
      "6-Neighbors | Accuracy: 0.70 (+/- 0.22) | Weight: uniform\n",
      "6-Neighbors | Accuracy: 0.75 (+/- 0.27) | Weight: distance\n",
      "7-Neighbors | Accuracy: 0.72 (+/- 0.23) | Weight: uniform\n",
      "7-Neighbors | Accuracy: 0.76 (+/- 0.28) | Weight: distance\n",
      "8-Neighbors | Accuracy: 0.71 (+/- 0.21) | Weight: uniform\n",
      "8-Neighbors | Accuracy: 0.74 (+/- 0.24) | Weight: distance\n",
      "9-Neighbors | Accuracy: 0.72 (+/- 0.17) | Weight: uniform\n",
      "9-Neighbors | Accuracy: 0.74 (+/- 0.18) | Weight: distance\n"
     ]
    }
   ],
   "source": [
    "util.kNN(data, labels, range(3,10), 5)"
   ]
  },
  {
   "cell_type": "markdown",
   "metadata": {},
   "source": [
    "## Naïve-Bayes"
   ]
  },
  {
   "cell_type": "code",
   "execution_count": 40,
   "metadata": {
    "collapsed": false
   },
   "outputs": [
    {
     "name": "stdout",
     "output_type": "stream",
     "text": [
      "[ 0.86363636  0.71428571  0.80952381  0.89473684  0.63157895]\n"
     ]
    }
   ],
   "source": [
    "gnb = GaussianNB()\n",
    "scores = cross_val_score(gnb, data, labels, cv = 5)\n",
    "print(scores)"
   ]
  },
  {
   "cell_type": "markdown",
   "metadata": {},
   "source": [
    "## SVM"
   ]
  },
  {
   "cell_type": "code",
   "execution_count": 41,
   "metadata": {
    "collapsed": false
   },
   "outputs": [
    {
     "name": "stdout",
     "output_type": "stream",
     "text": [
      "[ 0.77272727  0.61904762  0.80952381  0.84210526  0.57894737]\n"
     ]
    }
   ],
   "source": [
    "clf = svm.SVC(kernel = 'linear', C = 1)\n",
    "scores = cross_val_score(clf, data, labels, cv = 5)\n",
    "print(scores)"
   ]
  },
  {
   "cell_type": "code",
   "execution_count": null,
   "metadata": {
    "collapsed": false
   },
   "outputs": [],
   "source": []
  },
  {
   "cell_type": "code",
   "execution_count": null,
   "metadata": {
    "collapsed": false
   },
   "outputs": [],
   "source": []
  }
 ],
 "metadata": {
  "anaconda-cloud": {},
  "kernelspec": {
   "display_name": "Python [conda root]",
   "language": "python",
   "name": "conda-root-py"
  },
  "language_info": {
   "codemirror_mode": {
    "name": "ipython",
    "version": 3
   },
   "file_extension": ".py",
   "mimetype": "text/x-python",
   "name": "python",
   "nbconvert_exporter": "python",
   "pygments_lexer": "ipython3",
   "version": "3.5.2"
  }
 },
 "nbformat": 4,
 "nbformat_minor": 1
}
