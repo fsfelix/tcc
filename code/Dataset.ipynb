{
 "cells": [
  {
   "cell_type": "code",
   "execution_count": 15,
   "metadata": {
    "collapsed": true
   },
   "outputs": [],
   "source": [
    "%matplotlib inline\n",
    "\n",
    "import pr_util as util\n",
    "import numpy as np\n",
    "import matplotlib.pyplot as plt"
   ]
  },
  {
   "cell_type": "code",
   "execution_count": 5,
   "metadata": {
    "collapsed": false
   },
   "outputs": [],
   "source": [
    "def all_dirs(full_or_pulse = 'full'):\n",
    "    # Return list of directories with species randomly choosen\n",
    "    dirs = []\n",
    "    for i in range(len(util.NAME_SPECIES_NUM_DIR)):\n",
    "        specie = util.NAME_SPECIES_NUM_DIR[i]\n",
    "        if full_or_pulse == 'full':\n",
    "            dir = util.DATA_DIR_BASE + '-' + specie[-1] + '/' + specie[:-2] + '/'\n",
    "        else:\n",
    "            dir = util.DATA_DIR_PULSE_BASE + '-' + specie[-1] + '/' + specie[:-2] + '/'\n",
    "        dirs.append(dir)\n",
    "    return dirs\n"
   ]
  },
  {
   "cell_type": "code",
   "execution_count": 7,
   "metadata": {
    "collapsed": true
   },
   "outputs": [],
   "source": [
    "dirs = all_dirs()"
   ]
  },
  {
   "cell_type": "code",
   "execution_count": 38,
   "metadata": {
    "collapsed": false
   },
   "outputs": [
    {
     "data": {
      "image/png": "[encoded data removed]",
      "text/plain": [
       "<matplotlib.figure.Figure at 0x1107c09b0>"
      ]
     },
     "metadata": {},
     "output_type": "display_data"
    }
   ],
   "source": [
    "num_files = []\n",
    "\n",
    "for dir in dirs:\n",
    "    num_files.append(util.num_files([dir], 'song'))\n",
    "\n",
    "num_files = np.array(num_files)\n",
    "\n",
    "plt.hist(num_files,bins=50, color='#A8DADC')  # arguments are passed to np.histogram\n",
    "plt.title(\"Distribuição de arquivos por espécie\")\n",
    "plt.xlabel(\"Número de Arquivos\")\n",
    "plt.ylabel(\"Número de Espécies\")\n",
    "plt.show()\n"
   ]
  },
  {
   "cell_type": "code",
   "execution_count": 21,
   "metadata": {
    "collapsed": false
   },
   "outputs": [
    {
     "name": "stdout",
     "output_type": "stream",
     "text": [
      "[ 23  11  13  14  33  29  39   8  11  39  19  33  41   2   4  12  27  27\n",
      "   1  12  10   9  14  11  28  42  12  44   2   7  30  65  33   3  17   8\n",
      "  42  17   3  32  32  37  16   5  12  35   4   1  13  36   2  32  37  14\n",
      "  43  37  27  19   7  43 146  12 167   6  21 199  31   0 158  66 133  71\n",
      "  84  92 111 106 160]\n",
      "(array([17, 19,  7, 15,  6,  0,  2,  1,  1,  1,  1,  1,  0,  1,  1,  1,  2,\n",
      "        0,  0,  1]), array([   0.  ,    9.95,   19.9 ,   29.85,   39.8 ,   49.75,   59.7 ,\n",
      "         69.65,   79.6 ,   89.55,   99.5 ,  109.45,  119.4 ,  129.35,\n",
      "        139.3 ,  149.25,  159.2 ,  169.15,  179.1 ,  189.05,  199.  ]))\n"
     ]
    }
   ],
   "source": [
    "num_files\n",
    "print(num_files)\n",
    "print(np.histogram(num_files, bins=20))"
   ]
  }
 ],
 "metadata": {
  "anaconda-cloud": {},
  "kernelspec": {
   "display_name": "Python [conda root]",
   "language": "python",
   "name": "conda-root-py"
  },
  "language_info": {
   "codemirror_mode": {
    "name": "ipython",
    "version": 3
   },
   "file_extension": ".py",
   "mimetype": "text/x-python",
   "name": "python",
   "nbconvert_exporter": "python",
   "pygments_lexer": "ipython3",
   "version": "3.5.2"
  }
 },
 "nbformat": 4,
 "nbformat_minor": 1
}
