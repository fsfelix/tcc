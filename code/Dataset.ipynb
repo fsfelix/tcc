{
 "cells": [
  {
   "cell_type": "code",
   "execution_count": 149,
   "metadata": {
    "collapsed": false
   },
   "outputs": [
    {
     "data": {
      "text/plain": [
       "<module 'generate_global_features_2' from '/var/tmp/ff/tcc/code/generate_global_features_2.py'>"
      ]
     },
     "execution_count": 149,
     "metadata": {},
     "output_type": "execute_result"
    }
   ],
   "source": [
    "%matplotlib inline\n",
    "\n",
    "import os \n",
    "import librosa\n",
    "import importlib\n",
    "import matplotlib\n",
    "import numpy as np\n",
    "import string as strp\n",
    "import pr_util as util\n",
    "import matplotlib.pyplot as plt\n",
    "from matplotlib import gridspec\n",
    "\n",
    "import generate_global_features_2 as ggf\n",
    "from matplotlib.backends.backend_pdf import PdfPages\n",
    "\n",
    "importlib.reload(util)\n",
    "importlib.reload(ggf)"
   ]
  },
  {
   "cell_type": "code",
   "execution_count": 126,
   "metadata": {
    "collapsed": true
   },
   "outputs": [],
   "source": [
    "data_call = util.create_list_with_dir_and_number('call')\n",
    "data_song = util.create_list_with_dir_and_number('song')"
   ]
  },
  {
   "cell_type": "code",
   "execution_count": 127,
   "metadata": {
    "collapsed": false
   },
   "outputs": [
    {
     "data": {
      "text/plain": [
       "77"
      ]
     },
     "execution_count": 127,
     "metadata": {},
     "output_type": "execute_result"
    }
   ],
   "source": [
    "len(data_call)"
   ]
  },
  {
   "cell_type": "code",
   "execution_count": 128,
   "metadata": {
    "collapsed": true
   },
   "outputs": [],
   "source": [
    "def sum_files(data):\n",
    "    num_files = 0\n",
    "    for d in data:\n",
    "        num_files += d[1]\n",
    "    return num_files"
   ]
  },
  {
   "cell_type": "code",
   "execution_count": 129,
   "metadata": {
    "collapsed": false
   },
   "outputs": [
    {
     "data": {
      "text/plain": [
       "674"
      ]
     },
     "execution_count": 129,
     "metadata": {},
     "output_type": "execute_result"
    }
   ],
   "source": [
    "sum_files(data_call)"
   ]
  },
  {
   "cell_type": "code",
   "execution_count": 130,
   "metadata": {
    "collapsed": false
   },
   "outputs": [
    {
     "data": {
      "text/plain": [
       "1631"
      ]
     },
     "execution_count": 130,
     "metadata": {},
     "output_type": "execute_result"
    }
   ],
   "source": [
    "sum_files(data_song)"
   ]
  },
  {
   "cell_type": "code",
   "execution_count": 131,
   "metadata": {
    "collapsed": true
   },
   "outputs": [],
   "source": [
    "y = []\n",
    "for d in data_song:\n",
    "    y += [d[1]]"
   ]
  },
  {
   "cell_type": "code",
   "execution_count": 177,
   "metadata": {
    "collapsed": false,
    "scrolled": false
   },
   "outputs": [
    {
     "data": {
      "image/png": "[encoded data removed]",
      "text/plain": [
       "<matplotlib.figure.Figure at 0x7fc70911cfd0>"
      ]
     },
     "metadata": {},
     "output_type": "display_data"
    }
   ],
   "source": [
    "#plt.plot(num_file)\n",
    "fig = plt.figure(figsize=(15,4.5))\n",
    "\n",
    "gs = gridspec.GridSpec(1, 2, width_ratios=[4, 1]) \n",
    "\n",
    "ax0 = plt.subplot(gs[0])\n",
    "#ax = fig.add_subplot(121)\n",
    "N = len(y)\n",
    "x = range(N)\n",
    "width = 1/1.5\n",
    "plt.yticks(np.arange(min(y), max(y)+1, 5.0))\n",
    "ax0.yaxis.grid(True, linestyle='-', which='major', color='lightgrey',\n",
    "               alpha=0.5)\n",
    "ax0.set_axisbelow(True)\n",
    "\n",
    "plt.bar(x, y, width, color=\"green\")\n",
    "\n",
    "plt.xlabel(\"Índice da espécie\")\n",
    "plt.ylabel(\"Número de arquivos\")\n",
    "plt.title(\"Distribuição de gravações de cantos por espécie\")\n",
    "\n",
    "\n",
    "#ax = fig.add_subplot(122)\n",
    "ax1 = plt.subplot(gs[1])\n",
    "ax1.yaxis.grid(True, linestyle='-', which='major', color='lightgrey',\n",
    "               alpha=0.5)\n",
    "ax1.set_axisbelow(True)\n",
    "plt.yticks(np.arange(min(y), max(y)+1, 5.0))\n",
    "bp = plt.boxplot(y, widths=[0.7])\n",
    "#ax.set_xticks([1])\n",
    "ax1.set_xticklabels(['Distribuição de gravações de cantos por espécie'])\n",
    "#ax1.get_xaxis().tick_bottom()\n",
    "#ax1.get_yaxis().tick_left()\n",
    "\n",
    "plt.title(\"Boxplot da distribuição de gravações \\n de cantos por espécie\")\n",
    "\n",
    "\n",
    "plot = fig.tight_layout()\n",
    "\n",
    "pp = PdfPages('distribuicao_arquivos.pdf')\n",
    "pp.savefig(plot)\n",
    "pp.close()\n",
    "\n",
    "#plt.bar(num_file, 78)"
   ]
  },
  {
   "cell_type": "code",
   "execution_count": 111,
   "metadata": {
    "collapsed": false
   },
   "outputs": [
    {
     "data": {
      "text/plain": [
       "{'boxes': [<matplotlib.lines.Line2D at 0x7fc70a66a940>],\n",
       " 'caps': [<matplotlib.lines.Line2D at 0x7fc70a672940>,\n",
       "  <matplotlib.lines.Line2D at 0x7fc70a672ac8>],\n",
       " 'fliers': [<matplotlib.lines.Line2D at 0x7fc70a676eb8>],\n",
       " 'means': [],\n",
       " 'medians': [<matplotlib.lines.Line2D at 0x7fc70a6764e0>],\n",
       " 'whiskers': [<matplotlib.lines.Line2D at 0x7fc70a66abe0>,\n",
       "  <matplotlib.lines.Line2D at 0x7fc70a670f28>]}"
      ]
     },
     "execution_count": 111,
     "metadata": {},
     "output_type": "execute_result"
    },
    {
     "data": {
      "image/png": "[encoded data removed]",
      "text/plain": [
       "<matplotlib.figure.Figure at 0x7fc742911198>"
      ]
     },
     "metadata": {},
     "output_type": "display_data"
    }
   ],
   "source": [
    "plt.boxplot(y)"
   ]
  },
  {
   "cell_type": "code",
   "execution_count": null,
   "metadata": {
    "collapsed": false
   },
   "outputs": [],
   "source": []
  },
  {
   "cell_type": "code",
   "execution_count": 2,
   "metadata": {
    "collapsed": false
   },
   "outputs": [],
   "source": [
    "def all_dirs(full_or_pulse = 'full'):\n",
    "    # Return list of directories with species randomly choosen\n",
    "    dirs = []\n",
    "    for i in range(len(util.NAME_SPECIES_NUM_DIR)):\n",
    "        specie = util.NAME_SPECIES_NUM_DIR[i]\n",
    "        if full_or_pulse == 'full':\n",
    "            dir = util.DATA_DIR_BASE + '-' + specie[-1] + '/' + specie[:-2] + '/'\n",
    "        else:\n",
    "            dir = util.DATA_DIR_PULSE_BASE + '-' + specie[-1] + '/' + specie[:-2] + '/'\n",
    "        dirs.append(dir)\n",
    "    return dirs\n"
   ]
  },
  {
   "cell_type": "code",
   "execution_count": 3,
   "metadata": {
    "collapsed": true
   },
   "outputs": [],
   "source": [
    "dirs = all_dirs()"
   ]
  },
  {
   "cell_type": "code",
   "execution_count": 5,
   "metadata": {
    "collapsed": false
   },
   "outputs": [
    {
     "data": {
      "image/png": "[encoded data removed]",
      "text/plain": [
       "<matplotlib.figure.Figure at 0x10d33ca58>"
      ]
     },
     "metadata": {},
     "output_type": "display_data"
    }
   ],
   "source": [
    "num_files = []\n",
    "\n",
    "for dir in dirs:\n",
    "    num_files.append(util.num_files([dir], 'song'))\n",
    "\n",
    "num_files = np.array(num_files)\n",
    "\n",
    "plt.hist(num_files,bins=50, color='#A8DADC')  # arguments are passed to np.histogram\n",
    "plt.title(\"Distribuição de arquivos por espécie\")\n",
    "plt.xlabel(\"Número de Arquivos\")\n",
    "plt.ylabel(\"Número de Espécies\")\n",
    "plt.show()\n"
   ]
  },
  {
   "cell_type": "code",
   "execution_count": 6,
   "metadata": {
    "collapsed": false
   },
   "outputs": [
    {
     "data": {
      "image/png": "[encoded data removed]",
      "text/plain": [
       "<matplotlib.figure.Figure at 0x10fb3d2b0>"
      ]
     },
     "metadata": {},
     "output_type": "display_data"
    }
   ],
   "source": [
    "num_files = []\n",
    "\n",
    "for dir in dirs:\n",
    "    num_files.append(util.num_files([dir], 'song'))\n",
    "\n",
    "num_files = np.array(num_files)\n",
    "\n",
    "plt.hist(num_files,bins=50, color='#A8DADC')  # arguments are passed to np.histogram\n",
    "plt.title(\"File distribution per specie\")\n",
    "plt.xlabel(\"Number of Files\")\n",
    "plt.ylabel(\"Number of Species\")\n",
    "plt.show()\n"
   ]
  },
  {
   "cell_type": "code",
   "execution_count": 21,
   "metadata": {
    "collapsed": false
   },
   "outputs": [
    {
     "name": "stdout",
     "output_type": "stream",
     "text": [
      "[ 23  11  13  14  33  29  39   8  11  39  19  33  41   2   4  12  27  27\n",
      "   1  12  10   9  14  11  28  42  12  44   2   7  30  65  33   3  17   8\n",
      "  42  17   3  32  32  37  16   5  12  35   4   1  13  36   2  32  37  14\n",
      "  43  37  27  19   7  43 146  12 167   6  21 199  31   0 158  66 133  71\n",
      "  84  92 111 106 160]\n",
      "(array([17, 19,  7, 15,  6,  0,  2,  1,  1,  1,  1,  1,  0,  1,  1,  1,  2,\n",
      "        0,  0,  1]), array([   0.  ,    9.95,   19.9 ,   29.85,   39.8 ,   49.75,   59.7 ,\n",
      "         69.65,   79.6 ,   89.55,   99.5 ,  109.45,  119.4 ,  129.35,\n",
      "        139.3 ,  149.25,  159.2 ,  169.15,  179.1 ,  189.05,  199.  ]))\n"
     ]
    }
   ],
   "source": [
    "num_files\n",
    "print(num_files)\n",
    "print(np.histogram(num_files, bins=20))"
   ]
  }
 ],
 "metadata": {
  "anaconda-cloud": {},
  "kernelspec": {
   "display_name": "Python 3",
   "language": "python",
   "name": "python3"
  },
  "language_info": {
   "codemirror_mode": {
    "name": "ipython",
    "version": 3
   },
   "file_extension": ".py",
   "mimetype": "text/x-python",
   "name": "python",
   "nbconvert_exporter": "python",
   "pygments_lexer": "ipython3",
   "version": "3.5.3"
  }
 },
 "nbformat": 4,
 "nbformat_minor": 1
}
