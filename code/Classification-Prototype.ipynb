{
 "cells": [
  {
   "cell_type": "code",
   "execution_count": 99,
   "metadata": {
    "collapsed": false
   },
   "outputs": [],
   "source": [
    "%matplotlib inline\n",
    "\n",
    "import os \n",
    "import librosa\n",
    "import numpy as np\n",
    "import string as strp\n",
    "import matplotlib\n",
    "import matplotlib.pyplot as plt\n",
    "\n",
    "from sklearn.model_selection import train_test_split\n",
    "from sklearn import datasets\n",
    "from sklearn import svm, neighbors"
   ]
  },
  {
   "cell_type": "code",
   "execution_count": null,
   "metadata": {
    "collapsed": false,
    "scrolled": false
   },
   "outputs": [],
   "source": [
    "#data_dir = '/Users/felipefelix/USP/tcc/dataset/exp/'\n",
    "#data_dir = '/Users/felipefelix/USP/tcc/dataset/pr_article/S_A_C_Base_Parte-1/'\n",
    "#data_dir = '/Users/felipefelix/USP/tcc/dataset/pr_article/S_A_C_Base_Parte-2/'\n",
    "data_dir = '/Users/felipefelix/USP/tcc/dataset/pr_article/S_A_C_Base_Parte-4/'\n",
    "\n",
    "def generate_local_features(file_dir, feat_name, feat_func, y, **kwargs):\n",
    "    output_file = file_dir + '.' + feat_name + '.txt'\n",
    "    if not os.path.isfile(output_file):\n",
    "        print('generating {} for {}...'.format(feat_name, file_dir))\n",
    "        feature = feat_func(y=y, **kwargs)\n",
    "        np.savetxt(output_file, feature)\n",
    "    else:\n",
    "        print('{} already exists.'.format(output_file))\n",
    "            \n",
    "for subdir, dirs, files in os.walk(data_dir):\n",
    "    for file in files:\n",
    "        if file[0] != '.' and (file.split('.')[-1] == 'mp3' or file.split('.')[-1] == 'MP3' or file.split('.')[-1] == 'WAV' or file.split('.')[-1] == 'wav'):\n",
    "#            print('{} {} {}'.format(file, dirs, subdir))\n",
    "            file_dir = subdir + '/' + file\n",
    "            print('Loading {}...'.format(file_dir))\n",
    "        \n",
    "            y, sr = librosa.load(file_dir)\n",
    "            \n",
    "            #generate_local_features(file_dir, 'rmse', librosa.feature.rmse, y)\n",
    "            \n",
    "            #generate_local_features(file_dir, 'stft', librosa.core.stft, y)\n",
    "            \n",
    "            generate_local_features(file_dir, 'mfcc', librosa.feature.mfcc, y)\n",
    "            \n",
    "#            feature = librosa.feature.rmse(y = y)\n",
    "#            np.savetxt(subdir + '/' + file + '.' + 'rmse', feature)\n",
    "            "
   ]
  },
  {
   "cell_type": "code",
   "execution_count": 86,
   "metadata": {
    "collapsed": false,
    "scrolled": false
   },
   "outputs": [
    {
     "name": "stdout",
     "output_type": "stream",
     "text": [
      "{'Aegolius Harrisii': 1, 'Amazilia Versicolor': 2, 'Anthus Lutescens': 3}\n",
      "[1 1 1 1 1 1 1 1 1 1 1 1 1 1 1 1 1 1 1 1 1 1 1 2 2 2 2 2 2 2 2 2 2 2 3 3 3\n",
      " 3 3 3 3 3 3 3 3 3 3]\n"
     ]
    }
   ],
   "source": [
    "#data_dir = '/Users/felipefelix/USP/tcc/dataset/exp/'\n",
    "data_dir = '/Users/felipefelix/USP/tcc/dataset/pr_article/S_A_C_Base_Parte-1/'\n",
    "\n",
    "# 2 species = 34 files\n",
    "# 3 species = 47 files\n",
    "\n",
    "#n_files = 47\n",
    "#n_species = 3\n",
    "n_global_features = 4\n",
    "feat_name = 'mfcc'\n",
    "\n",
    "data = np.empty((n_files, n_global_features))\n",
    "labels = []\n",
    "labels_dict = {}\n",
    "i = 0\n",
    "n_label = 0\n",
    "\n",
    "for subdir, dirs, files in os.walk(data_dir):\n",
    "    for file in files:\n",
    "        #print(file)\n",
    "        call_or_song = subdir.split('/')[-1]\n",
    "        if call_or_song == 'song' and file.split('.')[-2] == feat_name:\n",
    "            bird_specie = subdir.split('/')[-2].title()\n",
    "            if not bird_specie in labels_dict.keys():\n",
    "                n_label += 1\n",
    "                labels_dict[bird_specie] = n_label\n",
    "                labels.append(n_label)\n",
    "            else:\n",
    "                labels.append(labels_dict[bird_specie])\n",
    "            #labels.append(bird_specie) # If we don't want to use labels_dict.\n",
    "            feature_path = subdir + '/' + file\n",
    "            feature = np.loadtxt(feature_path)\n",
    "            data[i][0] = np.mean(feature)\n",
    "            data[i][1] = np.std(feature)\n",
    "            data[i][2] = np.max(feature)\n",
    "            data[i][3] = np.min(feature)\n",
    "            i += 1\n",
    "        if i == n_files:\n",
    "            break\n",
    "\n",
    "#print(data)\n",
    "print(labels_dict)\n",
    "labels = np.array(labels)\n",
    "print(labels)"
   ]
  },
  {
   "cell_type": "code",
   "execution_count": 90,
   "metadata": {
    "collapsed": false,
    "scrolled": false
   },
   "outputs": [
    {
     "data": {
      "image/png": "[encoded data removed]",
      "text/plain": [
       "<matplotlib.figure.Figure at 0x126753c88>"
      ]
     },
     "metadata": {},
     "output_type": "display_data"
    }
   ],
   "source": [
    "h = .02  # step size in the mesh\n",
    "\n",
    "X = data[:,:2]\n",
    "\n",
    "x_min, x_max = X[:, 0].min() - 1, X[:, 0].max() + 1\n",
    "y_min, y_max = X[:, 1].min() - 1, X[:, 1].max() + 1\n",
    "\n",
    "xx, yy = np.meshgrid(np.arange(x_min, x_max, h),\n",
    "                     np.arange(y_min, y_max, h))\n",
    "\n",
    "\n",
    "x = X[:,0]\n",
    "y = X[:,1]\n",
    "fig, ax = plt.subplots()\n",
    "markers = ['.', '.', '>', '*', '<', ',', '1', '8']    \n",
    "colors = ['b','g','r','c','m','y','k','w']\n",
    "\n",
    "for label in labels:\n",
    "    ax.scatter(x[labels == label], y[labels == label], marker = markers[label], c = colors[label], s = 75)\n",
    "\n",
    "plt.title(\"Scatter Plot (n_species = %i)\" % (max(labels)))\n",
    "ax.set_xlabel('std mfcc')\n",
    "ax.set_ylabel('mean mfcc')\n",
    "plt.show()\n"
   ]
  },
  {
   "cell_type": "code",
   "execution_count": 89,
   "metadata": {
    "collapsed": false
   },
   "outputs": [
    {
     "data": {
      "image/png": "[encoded data removed]",
      "text/plain": [
       "<matplotlib.figure.Figure at 0x125cba208>"
      ]
     },
     "metadata": {},
     "output_type": "display_data"
    }
   ],
   "source": [
    "h = .02  # step size in the mesh\n",
    "X = data[:,2:]\n",
    "\n",
    "x_min, x_max = X[:, 0].min() - 1, X[:, 0].max() + 1\n",
    "y_min, y_max = X[:, 1].min() - 1, X[:, 1].max() + 1\n",
    "\n",
    "xx, yy = np.meshgrid(np.arange(x_min, x_max, h),\n",
    "                     np.arange(y_min, y_max, h))\n",
    "\n",
    "\n",
    "x = X[:,0]\n",
    "y = X[:,1]\n",
    "fig, ax = plt.subplots()\n",
    "markers = ['.', '.', '>', '*', '<', ',', '1', '8']    \n",
    "colors = ['b','g','r','c','m','y','k','w']\n",
    "\n",
    "for label in labels:\n",
    "    ax.scatter(x[labels == label], y[labels == label], marker = markers [label], c = colors[label], s = 75)\n",
    "\n",
    "plt.title(\"Scatter Plot (n_species = %i)\" % (max(labels)))\n",
    "ax.set_xlabel('min mfcc')\n",
    "ax.set_ylabel('max mfcc')\n",
    "plt.show()\n"
   ]
  },
  {
   "cell_type": "code",
   "execution_count": 109,
   "metadata": {
    "collapsed": false
   },
   "outputs": [],
   "source": [
    "X_train, X_test, y_train, y_test = train_test_split(data, labels, test_size=0.20, random_state=0)"
   ]
  },
  {
   "cell_type": "code",
   "execution_count": 111,
   "metadata": {
    "collapsed": false
   },
   "outputs": [
    {
     "name": "stdout",
     "output_type": "stream",
     "text": [
      "3-Neighbors | F-Measure: 0.3 | Weight: uniform\n",
      "3-Neighbors | F-Measure: 0.3 | Weight: distance\n",
      "4-Neighbors | F-Measure: 0.4 | Weight: uniform\n",
      "4-Neighbors | F-Measure: 0.3 | Weight: distance\n",
      "5-Neighbors | F-Measure: 0.3 | Weight: uniform\n",
      "5-Neighbors | F-Measure: 0.3 | Weight: distance\n",
      "6-Neighbors | F-Measure: 0.5 | Weight: uniform\n",
      "6-Neighbors | F-Measure: 0.3 | Weight: distance\n",
      "7-Neighbors | F-Measure: 0.4 | Weight: uniform\n",
      "7-Neighbors | F-Measure: 0.4 | Weight: distance\n",
      "8-Neighbors | F-Measure: 0.4 | Weight: uniform\n",
      "8-Neighbors | F-Measure: 0.4 | Weight: distance\n",
      "9-Neighbors | F-Measure: 0.5 | Weight: uniform\n",
      "9-Neighbors | F-Measure: 0.4 | Weight: distance\n",
      "10-Neighbors | F-Measure: 0.5 | Weight: uniform\n",
      "10-Neighbors | F-Measure: 0.4 | Weight: distance\n",
      "11-Neighbors | F-Measure: 0.6 | Weight: uniform\n",
      "11-Neighbors | F-Measure: 0.4 | Weight: distance\n",
      "12-Neighbors | F-Measure: 0.6 | Weight: uniform\n",
      "12-Neighbors | F-Measure: 0.4 | Weight: distance\n",
      "13-Neighbors | F-Measure: 0.6 | Weight: uniform\n",
      "13-Neighbors | F-Measure: 0.4 | Weight: distance\n",
      "14-Neighbors | F-Measure: 0.7 | Weight: uniform\n",
      "14-Neighbors | F-Measure: 0.4 | Weight: distance\n",
      "15-Neighbors | F-Measure: 0.7 | Weight: uniform\n",
      "15-Neighbors | F-Measure: 0.4 | Weight: distance\n",
      "16-Neighbors | F-Measure: 0.5 | Weight: uniform\n",
      "16-Neighbors | F-Measure: 0.4 | Weight: distance\n",
      "17-Neighbors | F-Measure: 0.5 | Weight: uniform\n",
      "17-Neighbors | F-Measure: 0.5 | Weight: distance\n",
      "18-Neighbors | F-Measure: 0.5 | Weight: uniform\n",
      "18-Neighbors | F-Measure: 0.5 | Weight: distance\n",
      "19-Neighbors | F-Measure: 0.5 | Weight: uniform\n",
      "19-Neighbors | F-Measure: 0.5 | Weight: distance\n"
     ]
    }
   ],
   "source": [
    "for k in range(3,20):\n",
    "    for weight in ['uniform', 'distance']:\n",
    "        clf = neighbors.KNeighborsClassifier(k, weights=weight)\n",
    "        clf.fit(X_train, y_train)\n",
    "        f_measure = clf.score(X_test, y_test)\n",
    "        print(\"{}-Neighbors | F-Measure: {} | Weight: {}\".format(k, f_measure, weight))"
   ]
  },
  {
   "cell_type": "code",
   "execution_count": 112,
   "metadata": {
    "collapsed": false,
    "scrolled": false
   },
   "outputs": [
    {
     "name": "stdout",
     "output_type": "stream",
     "text": [
      "---------------------- Treinamento -------------------------\n",
      "[[ -1.17277872e+00   5.51490425e+01   8.51492889e+01  -4.20210991e+02]\n",
      " [ -9.22402074e+00   8.88377133e+01   1.16007878e+02  -6.54079440e+02]\n",
      " [ -3.43034052e+01   8.07715833e+01   5.27129187e+01  -4.35094369e+02]\n",
      " [ -5.64100966e+00   4.54953673e+01   9.76716814e+01  -5.78641307e+02]\n",
      " [ -1.36213501e+01   6.99577457e+01   9.34379455e+01  -6.91419455e+02]\n",
      " [ -2.03517098e+01   4.27675330e+01   4.24020248e+01  -3.28824586e+02]\n",
      " [ -6.95214725e+00   6.98549810e+01   7.84088011e+01  -4.37039503e+02]\n",
      " [ -1.11865365e+01   5.98338325e+01   1.05069477e+02  -5.82626573e+02]\n",
      " [ -2.29685446e+00   3.04104188e+01   1.28455569e+02  -5.43790233e+02]\n",
      " [ -6.68903496e+00   4.53757506e+01   1.04240650e+02  -5.95086336e+02]\n",
      " [ -2.89208145e+01   8.71985219e+01   5.83083218e+01  -6.79347982e+02]\n",
      " [ -1.44956588e+01   9.01364291e+01   1.29635102e+02  -7.10190503e+02]\n",
      " [ -2.81435482e+01   8.56087719e+01   4.96202989e+01  -6.54429368e+02]\n",
      " [ -2.47689393e+01   1.28233973e+02   9.14695222e+01  -6.11730721e+02]\n",
      " [ -4.41401537e+00   5.33436565e+01   1.47837202e+02  -5.93794702e+02]\n",
      " [ -3.86611208e+00   5.30433812e+01   1.00794800e+02  -5.56531942e+02]\n",
      " [ -2.52259286e+00   4.55821435e+01   1.29452327e+02  -5.19637873e+02]\n",
      " [ -1.82231100e+01   4.42191361e+01   8.20674846e+01  -6.75148920e+02]\n",
      " [ -1.89552031e+01   9.40596977e+01   1.64576598e+02  -4.94410194e+02]\n",
      " [ -2.65635965e+01   8.43922857e+01   6.80119305e+01  -6.07451834e+02]\n",
      " [ -1.05974084e+01   4.62444001e+01   1.06082534e+02  -5.62208704e+02]\n",
      " [ -6.36962201e+00   5.57805367e+01   4.90523297e+01  -6.35159509e+02]\n",
      " [ -8.53646188e+00   4.26598302e+01   8.00025802e+01  -6.08064617e+02]\n",
      " [ -9.06251517e+00   4.65031035e+01   8.31960409e+01  -5.91955156e+02]\n",
      " [ -2.85755092e+00   5.79617289e+01   1.58641591e+02  -3.59736388e+02]\n",
      " [  5.10464785e-01   5.18367832e+01   1.30980422e+02  -3.78145266e+02]\n",
      " [ -5.73415271e+00   4.21875754e+01   8.52341250e+01  -6.23647020e+02]\n",
      " [ -3.27790353e+00   4.39123489e+01   8.71583538e+01  -2.37283102e+02]\n",
      " [ -2.62835989e+01   7.06915640e+01   6.63867615e+01  -6.21598124e+02]\n",
      " [ -1.34222070e+01   9.78295944e+01   1.90535237e+02  -7.17131989e+02]\n",
      " [  1.93263060e+00   4.22091803e+01   1.18439410e+02  -5.67892773e+02]\n",
      " [ -2.08160485e+01   6.64309454e+01   1.38103448e+02  -5.57223783e+02]\n",
      " [ -3.08236806e+01   1.00217077e+02   5.96049441e+01  -6.93994849e+02]\n",
      " [  1.43014123e+00   6.63460328e+01   1.92891954e+02  -5.21494298e+02]\n",
      " [ -5.36123017e+00   6.24464563e+01   9.69469734e+01  -6.61072356e+02]\n",
      " [ -1.23178598e+01   1.21936375e+02   1.01248500e+02  -5.62127073e+02]\n",
      " [ -6.62499677e+00   6.43399783e+01   1.23524937e+02  -4.15567027e+02]]\n",
      "[2 2 2 3 1 3 2 1 2 1 3 1 3 1 1 1 1 3 1 3 1 3 1 1 3 2 1 2 3 1 1 1 3 3 1 1 3]\n",
      "------------------------ Teste ----------------------\n",
      "[[ -28.68504384   97.52284311   70.26726792 -639.90947613]\n",
      " [   1.63417359   50.12728747  103.02803071 -334.61553229]\n",
      " [  -3.33554783   50.55523241   81.80296236 -375.05982632]\n",
      " [  -7.5744196    67.35525414  161.74321896 -581.10892433]\n",
      " [  -4.3687622    49.5512578    87.91964301 -427.64599364]\n",
      " [  -9.39341247   41.39985527   69.87116951 -712.85549597]\n",
      " [ -16.8978002   106.12799246  116.65463514 -761.55186002]\n",
      " [ -14.50320396   70.46896314   80.40874322 -879.78904265]\n",
      " [ -22.97679224   65.83874795   60.55510819 -461.14407408]\n",
      " [ -14.19992545   85.98081665  151.85903843 -652.37860929]]\n",
      "[2 2 2 1 1 1 3 2 1 1]\n"
     ]
    }
   ],
   "source": [
    "print(\"---------------------- Treinamento -------------------------\")\n",
    "print(X_train)\n",
    "print(y_train)\n",
    "print(\"------------------------ Teste ----------------------\")\n",
    "print(X_test)\n",
    "print(y_test)"
   ]
  },
  {
   "cell_type": "code",
   "execution_count": null,
   "metadata": {
    "collapsed": true
   },
   "outputs": [],
   "source": []
  },
  {
   "cell_type": "code",
   "execution_count": 93,
   "metadata": {
    "collapsed": false
   },
   "outputs": [
    {
     "data": {
      "text/plain": [
       "SVC(C=1, cache_size=200, class_weight=None, coef0=0.0,\n",
       "  decision_function_shape=None, degree=3, gamma='auto', kernel='linear',\n",
       "  max_iter=-1, probability=False, random_state=None, shrinking=True,\n",
       "  tol=0.001, verbose=False)"
      ]
     },
     "execution_count": 93,
     "metadata": {},
     "output_type": "execute_result"
    }
   ],
   "source": [
    "clf = svm.SVC(kernel='linear', C=1)\n",
    "clf.fit(X_train, y_train)"
   ]
  },
  {
   "cell_type": "code",
   "execution_count": 96,
   "metadata": {
    "collapsed": false
   },
   "outputs": [
    {
     "data": {
      "text/plain": [
       "0.5"
      ]
     },
     "execution_count": 96,
     "metadata": {},
     "output_type": "execute_result"
    }
   ],
   "source": [
    "#clf.predict(X_test)\n",
    "clf.score(X_test, y_test) # Retorna f-measure"
   ]
  },
  {
   "cell_type": "code",
   "execution_count": null,
   "metadata": {
    "collapsed": true
   },
   "outputs": [],
   "source": []
  }
 ],
 "metadata": {
  "anaconda-cloud": {},
  "kernelspec": {
   "display_name": "Python [conda root]",
   "language": "python",
   "name": "conda-root-py"
  },
  "language_info": {
   "codemirror_mode": {
    "name": "ipython",
    "version": 3
   },
   "file_extension": ".py",
   "mimetype": "text/x-python",
   "name": "python",
   "nbconvert_exporter": "python",
   "pygments_lexer": "ipython3",
   "version": "3.5.2"
  }
 },
 "nbformat": 4,
 "nbformat_minor": 1
}
