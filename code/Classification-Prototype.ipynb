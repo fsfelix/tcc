{
 "cells": [
  {
   "cell_type": "code",
   "execution_count": null,
   "metadata": {
    "collapsed": true
   },
   "outputs": [],
   "source": [
    "import os \n",
    "import librosa\n",
    "import numpy as np\n",
    "import string as strp"
   ]
  },
  {
   "cell_type": "code",
   "execution_count": null,
   "metadata": {
    "collapsed": false,
    "scrolled": false
   },
   "outputs": [],
   "source": [
    "data_dir = '/Users/felipefelix/USP/tcc/dataset/exp/'\n",
    "\n",
    "def generate_local_features(file_dir, feat_name, feat_func, y, **kwargs):\n",
    "    print(kwargs)\n",
    "\n",
    "    output_file = file_dir + '.' + feat_name + '.txt'\n",
    "\n",
    "    if not os.path.isfile(output_file):\n",
    "        print('generating {} for {}...'.format(feat_name, file_dir))\n",
    "        feature = feat_func(y=y, **kwargs)\n",
    "        np.savetxt(output_file, feature)\n",
    "    else:\n",
    "        print('{} already exists.'.format(output_file))\n",
    "            \n",
    "\n",
    "for subdir, dirs, files in os.walk(data_dir):\n",
    "    for file in files:\n",
    "        if file[0] != '.' and file.split('.')[-1] == 'mp3':\n",
    "#            print('{} {} {}'.format(file, dirs, subdir))\n",
    "            file_dir = subdir + '/' + file\n",
    "            print('Loading {}...'.format(file_dir))\n",
    "        \n",
    "            y, sr = librosa.load(file_dir)\n",
    "            \n",
    "            generate_local_features(file_dir, 'rmse', librosa.feature.rmse, y)\n",
    "            \n",
    "            generate_local_features(file_dir, 'stft', librosa.core.stft, y)\n",
    "            \n",
    "            generate_local_features(file_dir, 'mfcc', librosa.feature.mfcc, y)\n",
    "            \n",
    "#            feature = librosa.feature.rmse(y = y)\n",
    "#            np.savetxt(subdir + '/' + file + '.' + 'rmse', feature)\n",
    "            "
   ]
  },
  {
   "cell_type": "code",
   "execution_count": 1,
   "metadata": {
    "collapsed": false,
    "scrolled": false
   },
   "outputs": [],
   "source": [
    "from sklearn.model_selection import train_test_split\n",
    "from sklearn import datasets\n",
    "from sklearn import svm"
   ]
  },
  {
   "cell_type": "code",
   "execution_count": null,
   "metadata": {
    "collapsed": false
   },
   "outputs": [],
   "source": []
  },
  {
   "cell_type": "code",
   "execution_count": null,
   "metadata": {
    "collapsed": false
   },
   "outputs": [],
   "source": []
  },
  {
   "cell_type": "code",
   "execution_count": null,
   "metadata": {
    "collapsed": false
   },
   "outputs": [],
   "source": []
  },
  {
   "cell_type": "code",
   "execution_count": null,
   "metadata": {
    "collapsed": true
   },
   "outputs": [],
   "source": [
    "\n"
   ]
  }
 ],
 "metadata": {
  "anaconda-cloud": {},
  "kernelspec": {
   "display_name": "Python [conda root]",
   "language": "python",
   "name": "conda-root-py"
  },
  "language_info": {
   "codemirror_mode": {
    "name": "ipython",
    "version": 3
   },
   "file_extension": ".py",
   "mimetype": "text/x-python",
   "name": "python",
   "nbconvert_exporter": "python",
   "pygments_lexer": "ipython3",
   "version": "3.5.2"
  }
 },
 "nbformat": 4,
 "nbformat_minor": 1
}
