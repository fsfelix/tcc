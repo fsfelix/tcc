{
 "cells": [
  {
   "cell_type": "code",
   "execution_count": 56,
   "metadata": {
    "collapsed": false
   },
   "outputs": [],
   "source": [
    "%matplotlib inline\n",
    "\n",
    "import os \n",
    "import librosa\n",
    "import numpy as np\n",
    "import string as strp\n",
    "import matplotlib\n",
    "import matplotlib.pyplot as plt\n",
    "\n",
    "from sklearn.model_selection import train_test_split\n",
    "from sklearn import datasets\n",
    "from sklearn import svm, neighbors\n",
    "\n",
    "import importlib\n",
    "import pr_util as util"
   ]
  },
  {
   "cell_type": "code",
   "execution_count": 72,
   "metadata": {
    "collapsed": false
   },
   "outputs": [
    {
     "data": {
      "text/plain": [
       "<module 'pr_util' from '/Users/felipefelix/USP/tcc/code/pr_util.py'>"
      ]
     },
     "execution_count": 72,
     "metadata": {},
     "output_type": "execute_result"
    }
   ],
   "source": [
    "importlib.reload(util)"
   ]
  },
  {
   "cell_type": "code",
   "execution_count": 63,
   "metadata": {
    "collapsed": false,
    "scrolled": false
   },
   "outputs": [
    {
     "name": "stdout",
     "output_type": "stream",
     "text": [
      "Loading /Users/felipefelix/USP/tcc/dataset/pr_article/S_A_C_Base_Parte-1/Aegolius harrisii/call/100015.mp3...\n",
      "Loading /Users/felipefelix/USP/tcc/dataset/pr_article/S_A_C_Base_Parte-1/Aegolius harrisii/call/100021.mp3...\n",
      "Loading /Users/felipefelix/USP/tcc/dataset/pr_article/S_A_C_Base_Parte-1/Aegolius harrisii/call/AEGOLI~1.MP3...\n",
      "Loading /Users/felipefelix/USP/tcc/dataset/pr_article/S_A_C_Base_Parte-1/Aegolius harrisii/call/AEGOLI~2.MP3...\n",
      "Loading /Users/felipefelix/USP/tcc/dataset/pr_article/S_A_C_Base_Parte-1/Aegolius harrisii/song/10001.mp3...\n",
      "Loading /Users/felipefelix/USP/tcc/dataset/pr_article/S_A_C_Base_Parte-1/Aegolius harrisii/song/100010.mp3...\n",
      "Loading /Users/felipefelix/USP/tcc/dataset/pr_article/S_A_C_Base_Parte-1/Aegolius harrisii/song/100011.mp3...\n"
     ]
    },
    {
     "ename": "KeyboardInterrupt",
     "evalue": "",
     "output_type": "error",
     "traceback": [
      "\u001b[0;31m---------------------------------------------------------------------------\u001b[0m",
      "\u001b[0;31mKeyboardInterrupt\u001b[0m                         Traceback (most recent call last)",
      "\u001b[0;32m<ipython-input-63-60e601e84c45>\u001b[0m in \u001b[0;36m<module>\u001b[0;34m()\u001b[0m\n\u001b[1;32m     20\u001b[0m                 \u001b[0mfile_dir\u001b[0m \u001b[0;34m=\u001b[0m \u001b[0msubdir\u001b[0m \u001b[0;34m+\u001b[0m \u001b[0;34m'/'\u001b[0m \u001b[0;34m+\u001b[0m \u001b[0mfile\u001b[0m\u001b[0;34m\u001b[0m\u001b[0m\n\u001b[1;32m     21\u001b[0m                 \u001b[0mprint\u001b[0m\u001b[0;34m(\u001b[0m\u001b[0;34m'Loading {}...'\u001b[0m\u001b[0;34m.\u001b[0m\u001b[0mformat\u001b[0m\u001b[0;34m(\u001b[0m\u001b[0mfile_dir\u001b[0m\u001b[0;34m)\u001b[0m\u001b[0;34m)\u001b[0m\u001b[0;34m\u001b[0m\u001b[0m\n\u001b[0;32m---> 22\u001b[0;31m                 \u001b[0my\u001b[0m\u001b[0;34m,\u001b[0m \u001b[0msr\u001b[0m \u001b[0;34m=\u001b[0m \u001b[0mlibrosa\u001b[0m\u001b[0;34m.\u001b[0m\u001b[0mload\u001b[0m\u001b[0;34m(\u001b[0m\u001b[0mfile_dir\u001b[0m\u001b[0;34m)\u001b[0m\u001b[0;34m\u001b[0m\u001b[0m\n\u001b[0m\u001b[1;32m     23\u001b[0m \u001b[0;34m\u001b[0m\u001b[0m\n\u001b[1;32m     24\u001b[0m                 \u001b[0;31m#generate_local_feature(file_dir, 'rmse', librosa.feature.rmse, y)\u001b[0m\u001b[0;34m\u001b[0m\u001b[0;34m\u001b[0m\u001b[0m\n",
      "\u001b[0;32m/Users/felipefelix/anaconda3/lib/python3.5/site-packages/librosa/core/audio.py\u001b[0m in \u001b[0;36mload\u001b[0;34m(path, sr, mono, offset, duration, dtype, res_type)\u001b[0m\n\u001b[1;32m    153\u001b[0m \u001b[0;34m\u001b[0m\u001b[0m\n\u001b[1;32m    154\u001b[0m         \u001b[0;32mif\u001b[0m \u001b[0msr\u001b[0m \u001b[0;32mis\u001b[0m \u001b[0;32mnot\u001b[0m \u001b[0;32mNone\u001b[0m\u001b[0;34m:\u001b[0m\u001b[0;34m\u001b[0m\u001b[0m\n\u001b[0;32m--> 155\u001b[0;31m             \u001b[0my\u001b[0m \u001b[0;34m=\u001b[0m \u001b[0mresample\u001b[0m\u001b[0;34m(\u001b[0m\u001b[0my\u001b[0m\u001b[0;34m,\u001b[0m \u001b[0msr_native\u001b[0m\u001b[0;34m,\u001b[0m \u001b[0msr\u001b[0m\u001b[0;34m,\u001b[0m \u001b[0mres_type\u001b[0m\u001b[0;34m=\u001b[0m\u001b[0mres_type\u001b[0m\u001b[0;34m)\u001b[0m\u001b[0;34m\u001b[0m\u001b[0m\n\u001b[0m\u001b[1;32m    156\u001b[0m \u001b[0;34m\u001b[0m\u001b[0m\n\u001b[1;32m    157\u001b[0m         \u001b[0;32melse\u001b[0m\u001b[0;34m:\u001b[0m\u001b[0;34m\u001b[0m\u001b[0m\n",
      "\u001b[0;32m/Users/felipefelix/anaconda3/lib/python3.5/site-packages/librosa/core/audio.py\u001b[0m in \u001b[0;36mresample\u001b[0;34m(y, orig_sr, target_sr, res_type, fix, scale, **kwargs)\u001b[0m\n\u001b[1;32m    279\u001b[0m         \u001b[0my_hat\u001b[0m \u001b[0;34m=\u001b[0m \u001b[0mscipy\u001b[0m\u001b[0;34m.\u001b[0m\u001b[0msignal\u001b[0m\u001b[0;34m.\u001b[0m\u001b[0mresample\u001b[0m\u001b[0;34m(\u001b[0m\u001b[0my\u001b[0m\u001b[0;34m,\u001b[0m \u001b[0mn_samples\u001b[0m\u001b[0;34m,\u001b[0m \u001b[0maxis\u001b[0m\u001b[0;34m=\u001b[0m\u001b[0;34m-\u001b[0m\u001b[0;36m1\u001b[0m\u001b[0;34m)\u001b[0m\u001b[0;34m\u001b[0m\u001b[0m\n\u001b[1;32m    280\u001b[0m     \u001b[0;32melse\u001b[0m\u001b[0;34m:\u001b[0m\u001b[0;34m\u001b[0m\u001b[0m\n\u001b[0;32m--> 281\u001b[0;31m         \u001b[0my_hat\u001b[0m \u001b[0;34m=\u001b[0m \u001b[0mresampy\u001b[0m\u001b[0;34m.\u001b[0m\u001b[0mresample\u001b[0m\u001b[0;34m(\u001b[0m\u001b[0my\u001b[0m\u001b[0;34m,\u001b[0m \u001b[0morig_sr\u001b[0m\u001b[0;34m,\u001b[0m \u001b[0mtarget_sr\u001b[0m\u001b[0;34m,\u001b[0m \u001b[0mfilter\u001b[0m\u001b[0;34m=\u001b[0m\u001b[0mres_type\u001b[0m\u001b[0;34m,\u001b[0m \u001b[0maxis\u001b[0m\u001b[0;34m=\u001b[0m\u001b[0;34m-\u001b[0m\u001b[0;36m1\u001b[0m\u001b[0;34m)\u001b[0m\u001b[0;34m\u001b[0m\u001b[0m\n\u001b[0m\u001b[1;32m    282\u001b[0m \u001b[0;34m\u001b[0m\u001b[0m\n\u001b[1;32m    283\u001b[0m     \u001b[0;32mif\u001b[0m \u001b[0mfix\u001b[0m\u001b[0;34m:\u001b[0m\u001b[0;34m\u001b[0m\u001b[0m\n",
      "\u001b[0;32m/Users/felipefelix/anaconda3/lib/python3.5/site-packages/resampy/core.py\u001b[0m in \u001b[0;36mresample\u001b[0;34m(x, sr_orig, sr_new, axis, filter, **kwargs)\u001b[0m\n\u001b[1;32m    115\u001b[0m     \u001b[0mx_2d\u001b[0m \u001b[0;34m=\u001b[0m \u001b[0mx\u001b[0m\u001b[0;34m.\u001b[0m\u001b[0mswapaxes\u001b[0m\u001b[0;34m(\u001b[0m\u001b[0;36m0\u001b[0m\u001b[0;34m,\u001b[0m \u001b[0maxis\u001b[0m\u001b[0;34m)\u001b[0m\u001b[0;34m.\u001b[0m\u001b[0mreshape\u001b[0m\u001b[0;34m(\u001b[0m\u001b[0;34m(\u001b[0m\u001b[0mx\u001b[0m\u001b[0;34m.\u001b[0m\u001b[0mshape\u001b[0m\u001b[0;34m[\u001b[0m\u001b[0maxis\u001b[0m\u001b[0;34m]\u001b[0m\u001b[0;34m,\u001b[0m \u001b[0;34m-\u001b[0m\u001b[0;36m1\u001b[0m\u001b[0;34m)\u001b[0m\u001b[0;34m)\u001b[0m\u001b[0;34m\u001b[0m\u001b[0m\n\u001b[1;32m    116\u001b[0m     \u001b[0my_2d\u001b[0m \u001b[0;34m=\u001b[0m \u001b[0my\u001b[0m\u001b[0;34m.\u001b[0m\u001b[0mswapaxes\u001b[0m\u001b[0;34m(\u001b[0m\u001b[0;36m0\u001b[0m\u001b[0;34m,\u001b[0m \u001b[0maxis\u001b[0m\u001b[0;34m)\u001b[0m\u001b[0;34m.\u001b[0m\u001b[0mreshape\u001b[0m\u001b[0;34m(\u001b[0m\u001b[0;34m(\u001b[0m\u001b[0my\u001b[0m\u001b[0;34m.\u001b[0m\u001b[0mshape\u001b[0m\u001b[0;34m[\u001b[0m\u001b[0maxis\u001b[0m\u001b[0;34m]\u001b[0m\u001b[0;34m,\u001b[0m \u001b[0;34m-\u001b[0m\u001b[0;36m1\u001b[0m\u001b[0;34m)\u001b[0m\u001b[0;34m)\u001b[0m\u001b[0;34m\u001b[0m\u001b[0m\n\u001b[0;32m--> 117\u001b[0;31m     \u001b[0mresample_f\u001b[0m\u001b[0;34m(\u001b[0m\u001b[0mx_2d\u001b[0m\u001b[0;34m,\u001b[0m \u001b[0my_2d\u001b[0m\u001b[0;34m,\u001b[0m \u001b[0msample_ratio\u001b[0m\u001b[0;34m,\u001b[0m \u001b[0minterp_win\u001b[0m\u001b[0;34m,\u001b[0m \u001b[0minterp_delta\u001b[0m\u001b[0;34m,\u001b[0m \u001b[0mprecision\u001b[0m\u001b[0;34m)\u001b[0m\u001b[0;34m\u001b[0m\u001b[0m\n\u001b[0m\u001b[1;32m    118\u001b[0m \u001b[0;34m\u001b[0m\u001b[0m\n\u001b[1;32m    119\u001b[0m     \u001b[0;32mreturn\u001b[0m \u001b[0my\u001b[0m\u001b[0;34m\u001b[0m\u001b[0m\n",
      "\u001b[0;31mKeyboardInterrupt\u001b[0m: "
     ]
    }
   ],
   "source": [
    "#data_dir = '/Users/felipefelix/USP/tcc/dataset/exp/'\n",
    "#data_dir = '/Users/felipefelix/USP/tcc/dataset/pr_article/S_A_C_Base_Parte-1/'\n",
    "#data_dir = '/Users/felipefelix/USP/tcc/dataset/pr_article/S_A_C_Base_Parte-2/'\n",
    "#data_dir = '/Users/felipefelix/USP/tcc/dataset/pr_article/S_A_C_Base_Parte-4/'\n",
    "\n",
    "def generate_local_feature(file_dir, feat_name, feat_func, y, **kwargs):\n",
    "    output_file = file_dir + '.' + feat_name + '.txt'\n",
    "    if not os.path.isfile(output_file):\n",
    "        print('generating {} for {}...'.format(feat_name, file_dir))\n",
    "        feature = feat_func(y = y, **kwargs)\n",
    "        np.savetxt(output_file, feature)\n",
    "    else:\n",
    "        print('{} already exists.'.format(output_file))\n",
    "\n",
    "for data_dir in util.DATA_DIR_FULL:\n",
    "    for subdir, dirs, files in os.walk(data_dir):\n",
    "        for file in files:\n",
    "            if util.is_audio(file):\n",
    "    #            print('{} {} {}'.format(file, dirs, subdir))\n",
    "                file_dir = subdir + '/' + file\n",
    "                print('Loading {}...'.format(file_dir))        \n",
    "                y, sr = librosa.load(file_dir)\n",
    "\n",
    "                #generate_local_feature(file_dir, 'rmse', librosa.feature.rmse, y)\n",
    "\n",
    "                #generate_local_feature(file_dir, 'stft', librosa.core.stft, y)\n",
    "\n",
    "                #generate_local_feature(file_dir, 'mfcc', librosa.feature.mfcc, y)\n",
    "\n"
   ]
  },
  {
   "cell_type": "code",
   "execution_count": null,
   "metadata": {
    "collapsed": true
   },
   "outputs": [],
   "source": []
  },
  {
   "cell_type": "code",
   "execution_count": null,
   "metadata": {
    "collapsed": true
   },
   "outputs": [],
   "source": []
  },
  {
   "cell_type": "code",
   "execution_count": null,
   "metadata": {
    "collapsed": true
   },
   "outputs": [],
   "source": []
  },
  {
   "cell_type": "code",
   "execution_count": 78,
   "metadata": {
    "collapsed": false,
    "scrolled": false
   },
   "outputs": [
    {
     "name": "stdout",
     "output_type": "stream",
     "text": [
      "{'Anthus Lutescens': 2, 'Amazilia Versicolor': 1, 'Aegolius Harrisii': 0}\n",
      "[0 0 0 0 0 0 0 0 0 0 0 0 0 0 0 0 0 0 0 0 0 0 0 1 1 1 1 1 1 1 1 1 1 1 2 2 2\n",
      " 2 2 2 2 2 2 2 2 2 2]\n",
      "[[ -1.23178598e+01   1.21936375e+02   1.01248500e+02  -5.62127073e+02]\n",
      " [ -8.53646188e+00   4.26598302e+01   8.00025802e+01  -6.08064617e+02]\n",
      " [ -1.36213501e+01   6.99577457e+01   9.34379455e+01  -6.91419455e+02]\n",
      " [ -5.36123017e+00   6.24464563e+01   9.69469734e+01  -6.61072356e+02]\n",
      " [ -7.57441960e+00   6.73552541e+01   1.61743219e+02  -5.81108924e+02]\n",
      " [ -3.86611208e+00   5.30433812e+01   1.00794800e+02  -5.56531942e+02]\n",
      " [ -5.73415271e+00   4.21875754e+01   8.52341250e+01  -6.23647020e+02]\n",
      " [ -1.05974084e+01   4.62444001e+01   1.06082534e+02  -5.62208704e+02]\n",
      " [ -2.47689393e+01   1.28233973e+02   9.14695222e+01  -6.11730721e+02]\n",
      " [ -2.08160485e+01   6.64309454e+01   1.38103448e+02  -5.57223783e+02]\n",
      " [ -1.41999255e+01   8.59808166e+01   1.51859038e+02  -6.52378609e+02]\n",
      " [ -9.39341247e+00   4.13998553e+01   6.98711695e+01  -7.12855496e+02]\n",
      " [ -9.06251517e+00   4.65031035e+01   8.31960409e+01  -5.91955156e+02]\n",
      " [ -4.41401537e+00   5.33436565e+01   1.47837202e+02  -5.93794702e+02]\n",
      " [ -1.89552031e+01   9.40596977e+01   1.64576598e+02  -4.94410194e+02]\n",
      " [ -1.11865365e+01   5.98338325e+01   1.05069477e+02  -5.82626573e+02]\n",
      " [ -6.68903496e+00   4.53757506e+01   1.04240650e+02  -5.95086336e+02]\n",
      " [ -2.52259286e+00   4.55821435e+01   1.29452327e+02  -5.19637873e+02]\n",
      " [ -4.36876220e+00   4.95512578e+01   8.79196430e+01  -4.27645994e+02]\n",
      " [  1.93263060e+00   4.22091803e+01   1.18439410e+02  -5.67892773e+02]\n",
      " [ -1.44956588e+01   9.01364291e+01   1.29635102e+02  -7.10190503e+02]\n",
      " [ -1.34222070e+01   9.78295944e+01   1.90535237e+02  -7.17131989e+02]\n",
      " [ -2.29767922e+01   6.58387480e+01   6.05551082e+01  -4.61144074e+02]\n",
      " [ -3.27790353e+00   4.39123489e+01   8.71583538e+01  -2.37283102e+02]\n",
      " [  5.10464785e-01   5.18367832e+01   1.30980422e+02  -3.78145266e+02]\n",
      " [ -2.29685446e+00   3.04104188e+01   1.28455569e+02  -5.43790233e+02]\n",
      " [ -6.95214725e+00   6.98549810e+01   7.84088011e+01  -4.37039503e+02]\n",
      " [ -1.17277872e+00   5.51490425e+01   8.51492889e+01  -4.20210991e+02]\n",
      " [ -2.86850438e+01   9.75228431e+01   7.02672679e+01  -6.39909476e+02]\n",
      " [ -3.43034052e+01   8.07715833e+01   5.27129187e+01  -4.35094369e+02]\n",
      " [ -3.33554783e+00   5.05552324e+01   8.18029624e+01  -3.75059826e+02]\n",
      " [ -1.45032040e+01   7.04689631e+01   8.04087432e+01  -8.79789043e+02]\n",
      " [ -9.22402074e+00   8.88377133e+01   1.16007878e+02  -6.54079440e+02]\n",
      " [  1.63417359e+00   5.01272875e+01   1.03028031e+02  -3.34615532e+02]\n",
      " [ -1.82231100e+01   4.42191361e+01   8.20674846e+01  -6.75148920e+02]\n",
      " [ -2.85755092e+00   5.79617289e+01   1.58641591e+02  -3.59736388e+02]\n",
      " [ -2.62835989e+01   7.06915640e+01   6.63867615e+01  -6.21598124e+02]\n",
      " [ -2.65635965e+01   8.43922857e+01   6.80119305e+01  -6.07451834e+02]\n",
      " [ -6.36962201e+00   5.57805367e+01   4.90523297e+01  -6.35159509e+02]\n",
      " [ -3.08236806e+01   1.00217077e+02   5.96049441e+01  -6.93994849e+02]\n",
      " [ -2.89208145e+01   8.71985219e+01   5.83083218e+01  -6.79347982e+02]\n",
      " [ -2.81435482e+01   8.56087719e+01   4.96202989e+01  -6.54429368e+02]\n",
      " [ -1.68978002e+01   1.06127992e+02   1.16654635e+02  -7.61551860e+02]\n",
      " [ -5.64100966e+00   4.54953673e+01   9.76716814e+01  -5.78641307e+02]\n",
      " [ -6.62499677e+00   6.43399783e+01   1.23524937e+02  -4.15567027e+02]\n",
      " [ -2.03517098e+01   4.27675330e+01   4.24020248e+01  -3.28824586e+02]\n",
      " [  1.43014123e+00   6.63460328e+01   1.92891954e+02  -5.21494298e+02]]\n"
     ]
    }
   ],
   "source": [
    "def generate_global_features(n_global_feat, feat_name, data_dirs, song_or_call, functions):\n",
    "    # n_global_feat: number of global features\n",
    "    # feat_name: feature name, must use the convection file.feat_name.txt\n",
    "    # data_dirs: list with directories with birds features\n",
    "    # song_or_call: what type of recording is to be used\n",
    "    # functions: list with functions that will generate global features (np.max, etc...)\n",
    "    \n",
    "    labels_dict = {}\n",
    "    \n",
    "    labels  = []\n",
    "    n_label = -1\n",
    "    n_files = util.num_files(data_dirs, song_or_call)\n",
    "    i = 0\n",
    "    j = 0\n",
    "    data = np.empty((n_files, n_global_feat))\n",
    "\n",
    "    for data_dir in data_dirs:\n",
    "        for subdir, dirs, files in os.walk(data_dir):\n",
    "            for file in files:\n",
    "                type_of_rec = subdir.split('/')[-1] # Is it a call or a song?\n",
    "                if type_of_rec == song_or_call and file.split('.')[-2] == feat_name:\n",
    "                    bird_specie = subdir.split('/')[-2].title()\n",
    "                    if not bird_specie in labels_dict.keys():\n",
    "                        n_label += 1\n",
    "                        labels_dict[bird_specie] = n_label\n",
    "                        labels.append(n_label)\n",
    "                    else:\n",
    "                        labels.append(labels_dict[bird_specie])\n",
    "                    feature_path = subdir + '/' + file\n",
    "                    feature = np.loadtxt(feature_path)\n",
    "                    \n",
    "                    for function in functions: # Iterate through all functions\n",
    "                        data[i][j] = function(feature)\n",
    "                        j += 1\n",
    "                    i += 1    \n",
    "                    j  = 0\n",
    "    return labels_dict, labels, data\n",
    "                    \n",
    "                \n",
    "\n",
    "#data_dir = '/Users/felipefelix/USP/tcc/dataset/exp/'\n",
    "data_dir = '/Users/felipefelix/USP/tcc/dataset/pr_article/S_A_C_Base_Parte-1/'\n",
    "\n",
    "# 2 species = 34 files\n",
    "# 3 species = 47 files\n",
    "\n",
    "n_files = 47\n",
    "#n_species = 3\n",
    "n_global_features = 4\n",
    "feat_name = 'mfcc'\n",
    "\n",
    "data = np.empty((n_files, n_global_features))\n",
    "labels = []\n",
    "labels_dict = {}\n",
    "i = 0\n",
    "n_label = -1\n",
    "\n",
    "for subdir, dirs, files in os.walk(data_dir):\n",
    "    for file in files:\n",
    "        #print(file)\n",
    "        call_or_song = subdir.split('/')[-1]\n",
    "        if call_or_song == 'song' and file.split('.')[-2] == feat_name:\n",
    "            bird_specie = subdir.split('/')[-2].title()\n",
    "            if not bird_specie in labels_dict.keys():\n",
    "                n_label += 1\n",
    "                labels_dict[bird_specie] = n_label\n",
    "                labels.append(n_label)\n",
    "            else:\n",
    "                labels.append(labels_dict[bird_specie])\n",
    "            #labels.append(bird_specie) # If we don't want to use labels_dict.\n",
    "            feature_path = subdir + '/' + file\n",
    "            feature = np.loadtxt(feature_path)\n",
    "            data[i][0] = np.mean(feature)\n",
    "            data[i][1] = np.std(feature)\n",
    "            data[i][2] = np.max(feature)\n",
    "            data[i][3] = np.min(feature)\n",
    "            i += 1\n",
    "        if i == n_files:\n",
    "            break\n",
    "\n",
    "#print(data)\n",
    "print(labels_dict)\n",
    "labels = np.array(labels)\n",
    "print(labels)\n",
    "print(data)"
   ]
  },
  {
   "cell_type": "code",
   "execution_count": 79,
   "metadata": {
    "collapsed": false,
    "scrolled": false
   },
   "outputs": [
    {
     "name": "stdout",
     "output_type": "stream",
     "text": [
      "({'Anthus Lutescens': 2, 'Amazilia Versicolor': 1, 'Aegolius Harrisii': 0}, [0, 0, 0, 0, 0, 0, 0, 0, 0, 0, 0, 0, 0, 0, 0, 0, 0, 0, 0, 0, 0, 0, 0, 1, 1, 1, 1, 1, 1, 1, 1, 1, 1, 1, 2, 2, 2, 2, 2, 2, 2, 2, 2, 2, 2, 2, 2], array([[ -1.23178598e+01,   1.21936375e+02,   1.01248500e+02,\n",
      "         -5.62127073e+02],\n",
      "       [ -8.53646188e+00,   4.26598302e+01,   8.00025802e+01,\n",
      "         -6.08064617e+02],\n",
      "       [ -1.36213501e+01,   6.99577457e+01,   9.34379455e+01,\n",
      "         -6.91419455e+02],\n",
      "       [ -5.36123017e+00,   6.24464563e+01,   9.69469734e+01,\n",
      "         -6.61072356e+02],\n",
      "       [ -7.57441960e+00,   6.73552541e+01,   1.61743219e+02,\n",
      "         -5.81108924e+02],\n",
      "       [ -3.86611208e+00,   5.30433812e+01,   1.00794800e+02,\n",
      "         -5.56531942e+02],\n",
      "       [ -5.73415271e+00,   4.21875754e+01,   8.52341250e+01,\n",
      "         -6.23647020e+02],\n",
      "       [ -1.05974084e+01,   4.62444001e+01,   1.06082534e+02,\n",
      "         -5.62208704e+02],\n",
      "       [ -2.47689393e+01,   1.28233973e+02,   9.14695222e+01,\n",
      "         -6.11730721e+02],\n",
      "       [ -2.08160485e+01,   6.64309454e+01,   1.38103448e+02,\n",
      "         -5.57223783e+02],\n",
      "       [ -1.41999255e+01,   8.59808166e+01,   1.51859038e+02,\n",
      "         -6.52378609e+02],\n",
      "       [ -9.39341247e+00,   4.13998553e+01,   6.98711695e+01,\n",
      "         -7.12855496e+02],\n",
      "       [ -9.06251517e+00,   4.65031035e+01,   8.31960409e+01,\n",
      "         -5.91955156e+02],\n",
      "       [ -4.41401537e+00,   5.33436565e+01,   1.47837202e+02,\n",
      "         -5.93794702e+02],\n",
      "       [ -1.89552031e+01,   9.40596977e+01,   1.64576598e+02,\n",
      "         -4.94410194e+02],\n",
      "       [ -1.11865365e+01,   5.98338325e+01,   1.05069477e+02,\n",
      "         -5.82626573e+02],\n",
      "       [ -6.68903496e+00,   4.53757506e+01,   1.04240650e+02,\n",
      "         -5.95086336e+02],\n",
      "       [ -2.52259286e+00,   4.55821435e+01,   1.29452327e+02,\n",
      "         -5.19637873e+02],\n",
      "       [ -4.36876220e+00,   4.95512578e+01,   8.79196430e+01,\n",
      "         -4.27645994e+02],\n",
      "       [  1.93263060e+00,   4.22091803e+01,   1.18439410e+02,\n",
      "         -5.67892773e+02],\n",
      "       [ -1.44956588e+01,   9.01364291e+01,   1.29635102e+02,\n",
      "         -7.10190503e+02],\n",
      "       [ -1.34222070e+01,   9.78295944e+01,   1.90535237e+02,\n",
      "         -7.17131989e+02],\n",
      "       [ -2.29767922e+01,   6.58387480e+01,   6.05551082e+01,\n",
      "         -4.61144074e+02],\n",
      "       [ -3.27790353e+00,   4.39123489e+01,   8.71583538e+01,\n",
      "         -2.37283102e+02],\n",
      "       [  5.10464785e-01,   5.18367832e+01,   1.30980422e+02,\n",
      "         -3.78145266e+02],\n",
      "       [ -2.29685446e+00,   3.04104188e+01,   1.28455569e+02,\n",
      "         -5.43790233e+02],\n",
      "       [ -6.95214725e+00,   6.98549810e+01,   7.84088011e+01,\n",
      "         -4.37039503e+02],\n",
      "       [ -1.17277872e+00,   5.51490425e+01,   8.51492889e+01,\n",
      "         -4.20210991e+02],\n",
      "       [ -2.86850438e+01,   9.75228431e+01,   7.02672679e+01,\n",
      "         -6.39909476e+02],\n",
      "       [ -3.43034052e+01,   8.07715833e+01,   5.27129187e+01,\n",
      "         -4.35094369e+02],\n",
      "       [ -3.33554783e+00,   5.05552324e+01,   8.18029624e+01,\n",
      "         -3.75059826e+02],\n",
      "       [ -1.45032040e+01,   7.04689631e+01,   8.04087432e+01,\n",
      "         -8.79789043e+02],\n",
      "       [ -9.22402074e+00,   8.88377133e+01,   1.16007878e+02,\n",
      "         -6.54079440e+02],\n",
      "       [  1.63417359e+00,   5.01272875e+01,   1.03028031e+02,\n",
      "         -3.34615532e+02],\n",
      "       [ -1.82231100e+01,   4.42191361e+01,   8.20674846e+01,\n",
      "         -6.75148920e+02],\n",
      "       [ -2.85755092e+00,   5.79617289e+01,   1.58641591e+02,\n",
      "         -3.59736388e+02],\n",
      "       [ -2.62835989e+01,   7.06915640e+01,   6.63867615e+01,\n",
      "         -6.21598124e+02],\n",
      "       [ -2.65635965e+01,   8.43922857e+01,   6.80119305e+01,\n",
      "         -6.07451834e+02],\n",
      "       [ -6.36962201e+00,   5.57805367e+01,   4.90523297e+01,\n",
      "         -6.35159509e+02],\n",
      "       [ -3.08236806e+01,   1.00217077e+02,   5.96049441e+01,\n",
      "         -6.93994849e+02],\n",
      "       [ -2.89208145e+01,   8.71985219e+01,   5.83083218e+01,\n",
      "         -6.79347982e+02],\n",
      "       [ -2.81435482e+01,   8.56087719e+01,   4.96202989e+01,\n",
      "         -6.54429368e+02],\n",
      "       [ -1.68978002e+01,   1.06127992e+02,   1.16654635e+02,\n",
      "         -7.61551860e+02],\n",
      "       [ -5.64100966e+00,   4.54953673e+01,   9.76716814e+01,\n",
      "         -5.78641307e+02],\n",
      "       [ -6.62499677e+00,   6.43399783e+01,   1.23524937e+02,\n",
      "         -4.15567027e+02],\n",
      "       [ -2.03517098e+01,   4.27675330e+01,   4.24020248e+01,\n",
      "         -3.28824586e+02],\n",
      "       [  1.43014123e+00,   6.63460328e+01,   1.92891954e+02,\n",
      "         -5.21494298e+02]]))\n"
     ]
    }
   ],
   "source": [
    "data_dirs = ['/Users/felipefelix/USP/tcc/dataset/pr_article/S_A_C_Base_Parte-1/Aegolius harrisii/',\n",
    "            '/Users/felipefelix/USP/tcc/dataset/pr_article/S_A_C_Base_Parte-1/Amazilia Versicolor/',\n",
    "            '/Users/felipefelix/USP/tcc/dataset/pr_article/S_A_C_Base_Parte-1/Anthus Lutescens/']\n",
    "functions = [np.mean, np.std, np.max, np.min]\n",
    "n_global_feat = 4\n",
    "feat_name = 'mfcc'\n",
    "song_or_call = 'song'\n",
    "print(generate_global_features(n_global_feat, feat_name, data_dirs, song_or_call, functions))"
   ]
  },
  {
   "cell_type": "code",
   "execution_count": null,
   "metadata": {
    "collapsed": true
   },
   "outputs": [],
   "source": []
  },
  {
   "cell_type": "code",
   "execution_count": 41,
   "metadata": {
    "collapsed": false,
    "scrolled": false
   },
   "outputs": [
    {
     "data": {
      "image/png": "[encoded data removed]",
      "text/plain": [
       "<matplotlib.figure.Figure at 0x1175db588>"
      ]
     },
     "metadata": {},
     "output_type": "display_data"
    }
   ],
   "source": [
    "h = .02  # step size in the mesh\n",
    "\n",
    "X = data[:,:2]\n",
    "\n",
    "x_min, x_max = X[:, 0].min() - 1, X[:, 0].max() + 1\n",
    "y_min, y_max = X[:, 1].min() - 1, X[:, 1].max() + 1\n",
    "\n",
    "xx, yy = np.meshgrid(np.arange(x_min, x_max, h),\n",
    "                     np.arange(y_min, y_max, h))\n",
    "\n",
    "\n",
    "x = X[:,0]\n",
    "y = X[:,1]\n",
    "fig, ax = plt.subplots()\n",
    "markers = ['.', '.', '>', '*', '<', ',', '1', '8']    \n",
    "colors = ['b','g','r','c','m','y','k','w']\n",
    "\n",
    "for label in labels:\n",
    "    ax.scatter(x[labels == label], y[labels == label], marker = markers[label], c = colors[label], s = 75)\n",
    "\n",
    "plt.title(\"Scatter Plot (n_species = %i)\" % (max(labels)))\n",
    "ax.set_xlabel('std mfcc')\n",
    "ax.set_ylabel('mean mfcc')\n",
    "plt.show()\n"
   ]
  },
  {
   "cell_type": "code",
   "execution_count": 42,
   "metadata": {
    "collapsed": false
   },
   "outputs": [
    {
     "data": {
      "image/png": "[encoded data removed]",
      "text/plain": [
       "<matplotlib.figure.Figure at 0x1176d87b8>"
      ]
     },
     "metadata": {},
     "output_type": "display_data"
    }
   ],
   "source": [
    "h = .02  # step size in the mesh\n",
    "X = data[:,2:]\n",
    "\n",
    "x_min, x_max = X[:, 0].min() - 1, X[:, 0].max() + 1\n",
    "y_min, y_max = X[:, 1].min() - 1, X[:, 1].max() + 1\n",
    "\n",
    "xx, yy = np.meshgrid(np.arange(x_min, x_max, h),\n",
    "                     np.arange(y_min, y_max, h))\n",
    "\n",
    "\n",
    "x = X[:,0]\n",
    "y = X[:,1]\n",
    "fig, ax = plt.subplots()\n",
    "markers = ['.', '.', '>', '*', '<', ',', '1', '8']    \n",
    "colors = ['b','g','r','c','m','y','k','w']\n",
    "\n",
    "for label in labels:\n",
    "    ax.scatter(x[labels == label], y[labels == label], marker = markers [label], c = colors[label], s = 75)\n",
    "\n",
    "plt.title(\"Scatter Plot (n_species = %i)\" % (max(labels)))\n",
    "ax.set_xlabel('min mfcc')\n",
    "ax.set_ylabel('max mfcc')\n",
    "plt.show()\n"
   ]
  },
  {
   "cell_type": "code",
   "execution_count": 43,
   "metadata": {
    "collapsed": false
   },
   "outputs": [],
   "source": [
    "X_train, X_test, y_train, y_test = train_test_split(data, labels, test_size=0.20, random_state=0)"
   ]
  },
  {
   "cell_type": "code",
   "execution_count": 44,
   "metadata": {
    "collapsed": false
   },
   "outputs": [
    {
     "name": "stdout",
     "output_type": "stream",
     "text": [
      "3-Neighbors | F-Measure: 0.21052631578947367 | Weight: uniform\n",
      "3-Neighbors | F-Measure: 0.2631578947368421 | Weight: distance\n",
      "4-Neighbors | F-Measure: 0.42105263157894735 | Weight: uniform\n",
      "4-Neighbors | F-Measure: 0.2631578947368421 | Weight: distance\n",
      "5-Neighbors | F-Measure: 0.42105263157894735 | Weight: uniform\n",
      "5-Neighbors | F-Measure: 0.3157894736842105 | Weight: distance\n",
      "6-Neighbors | F-Measure: 0.42105263157894735 | Weight: uniform\n",
      "6-Neighbors | F-Measure: 0.3157894736842105 | Weight: distance\n",
      "7-Neighbors | F-Measure: 0.5789473684210527 | Weight: uniform\n",
      "7-Neighbors | F-Measure: 0.3157894736842105 | Weight: distance\n",
      "8-Neighbors | F-Measure: 0.5263157894736842 | Weight: uniform\n",
      "8-Neighbors | F-Measure: 0.3157894736842105 | Weight: distance\n",
      "9-Neighbors | F-Measure: 0.5263157894736842 | Weight: uniform\n",
      "9-Neighbors | F-Measure: 0.2631578947368421 | Weight: distance\n",
      "10-Neighbors | F-Measure: 0.5263157894736842 | Weight: uniform\n",
      "10-Neighbors | F-Measure: 0.2631578947368421 | Weight: distance\n",
      "11-Neighbors | F-Measure: 0.3684210526315789 | Weight: uniform\n",
      "11-Neighbors | F-Measure: 0.2631578947368421 | Weight: distance\n",
      "12-Neighbors | F-Measure: 0.47368421052631576 | Weight: uniform\n",
      "12-Neighbors | F-Measure: 0.2631578947368421 | Weight: distance\n",
      "13-Neighbors | F-Measure: 0.47368421052631576 | Weight: uniform\n",
      "13-Neighbors | F-Measure: 0.3157894736842105 | Weight: distance\n",
      "14-Neighbors | F-Measure: 0.42105263157894735 | Weight: uniform\n",
      "14-Neighbors | F-Measure: 0.3157894736842105 | Weight: distance\n",
      "15-Neighbors | F-Measure: 0.42105263157894735 | Weight: uniform\n",
      "15-Neighbors | F-Measure: 0.3157894736842105 | Weight: distance\n",
      "16-Neighbors | F-Measure: 0.42105263157894735 | Weight: uniform\n",
      "16-Neighbors | F-Measure: 0.42105263157894735 | Weight: distance\n",
      "17-Neighbors | F-Measure: 0.42105263157894735 | Weight: uniform\n",
      "17-Neighbors | F-Measure: 0.42105263157894735 | Weight: distance\n",
      "18-Neighbors | F-Measure: 0.5263157894736842 | Weight: uniform\n",
      "18-Neighbors | F-Measure: 0.42105263157894735 | Weight: distance\n",
      "19-Neighbors | F-Measure: 0.5263157894736842 | Weight: uniform\n",
      "19-Neighbors | F-Measure: 0.42105263157894735 | Weight: distance\n"
     ]
    }
   ],
   "source": [
    "for k in range(3,20):\n",
    "    for weight in ['uniform', 'distance']:\n",
    "        clf = neighbors.KNeighborsClassifier(k, weights=weight)\n",
    "        clf.fit(X_train, y_train)\n",
    "        f_measure = clf.score(X_test, y_test)\n",
    "        print(\"{}-Neighbors | F-Measure: {} | Weight: {}\".format(k, f_measure, weight))"
   ]
  },
  {
   "cell_type": "code",
   "execution_count": 45,
   "metadata": {
    "collapsed": false,
    "scrolled": false
   },
   "outputs": [
    {
     "name": "stdout",
     "output_type": "stream",
     "text": [
      "---------------------- Treinamento -------------------------\n",
      "[[ -2.03517098e+01   4.27675330e+01   4.24020248e+01  -3.28824586e+02]\n",
      " [ -6.95214725e+00   6.98549810e+01   7.84088011e+01  -4.37039503e+02]\n",
      " [ -5.64100966e+00   4.54953673e+01   9.76716814e+01  -5.78641307e+02]\n",
      " [  5.10464785e-01   5.18367832e+01   1.30980422e+02  -3.78145266e+02]\n",
      " [ -5.73415271e+00   4.21875754e+01   8.52341250e+01  -6.23647020e+02]\n",
      " [ -1.68978002e+01   1.06127992e+02   1.16654635e+02  -7.61551860e+02]\n",
      " [ -6.71887004e+00   6.14040743e+01   7.84992535e+01  -3.18272165e+02]\n",
      " [ -2.67136926e+01   7.45034016e+01   9.45121274e+01  -6.29887761e+02]\n",
      " [ -5.83871204e+00   5.25175987e+01   1.03850987e+02  -5.29160780e+02]\n",
      " [ -1.25009369e+01   5.88658013e+01   1.48111844e+02  -7.38901219e+02]\n",
      " [ -1.50379126e+01   7.57818086e+01   1.90710368e+02  -4.91429583e+02]\n",
      " [ -7.60787822e+00   7.68013666e+01   1.04238899e+02  -6.81772411e+02]\n",
      " [ -5.36123017e+00   6.24464563e+01   9.69469734e+01  -6.61072356e+02]\n",
      " [ -2.55244191e+01   8.45953944e+01   9.40196327e+01  -5.78782191e+02]\n",
      " [ -1.06276677e+01   6.95484814e+01   1.28225558e+02  -6.32633432e+02]\n",
      " [ -1.17277872e+00   5.51490425e+01   8.51492889e+01  -4.20210991e+02]\n",
      " [ -4.36876220e+00   4.95512578e+01   8.79196430e+01  -4.27645994e+02]\n",
      " [ -3.32722554e+00   6.32267863e+01   2.05167884e+02  -3.71947065e+02]\n",
      " [ -7.29000652e+00   7.95787186e+01   1.63567221e+02  -6.46694588e+02]\n",
      " [ -2.70923223e+01   7.50634880e+01   4.94647575e+01  -6.30079122e+02]\n",
      " [ -6.21494543e+00   6.22322070e+01   7.37166560e+01  -4.29911774e+02]\n",
      " [ -1.48616688e+01   6.98307554e+01   1.16208534e+02  -3.87737655e+02]\n",
      " [ -2.81435482e+01   8.56087719e+01   4.96202989e+01  -6.54429368e+02]\n",
      " [ -7.57441960e+00   6.73552541e+01   1.61743219e+02  -5.81108924e+02]\n",
      " [ -1.11865365e+01   5.98338325e+01   1.05069477e+02  -5.82626573e+02]\n",
      " [ -2.52259286e+00   4.55821435e+01   1.29452327e+02  -5.19637873e+02]\n",
      " [ -2.89208145e+01   8.71985219e+01   5.83083218e+01  -6.79347982e+02]\n",
      " [ -6.36962201e+00   5.57805367e+01   4.90523297e+01  -6.35159509e+02]\n",
      " [ -3.86611208e+00   5.30433812e+01   1.00794800e+02  -5.56531942e+02]\n",
      " [ -1.27622274e+01   6.76726451e+01   6.92386946e+01  -4.98820496e+02]\n",
      " [ -9.56974015e+00   6.75954277e+01   1.35610151e+02  -3.13414198e+02]\n",
      " [ -1.23178598e+01   1.21936375e+02   1.01248500e+02  -5.62127073e+02]\n",
      " [ -1.82231100e+01   4.42191361e+01   8.20674846e+01  -6.75148920e+02]\n",
      " [ -2.86850438e+01   9.75228431e+01   7.02672679e+01  -6.39909476e+02]\n",
      " [ -3.48482849e+00   6.73312759e+01   9.13471936e+01  -5.91431228e+02]\n",
      " [ -9.39341247e+00   4.13998553e+01   6.98711695e+01  -7.12855496e+02]\n",
      " [ -2.85755092e+00   5.79617289e+01   1.58641591e+02  -3.59736388e+02]\n",
      " [ -3.27790353e+00   4.39123489e+01   8.71583538e+01  -2.37283102e+02]\n",
      " [  3.01569771e+00   2.67218011e+01   1.13462726e+02  -5.64018986e+02]\n",
      " [ -1.41999255e+01   8.59808166e+01   1.51859038e+02  -6.52378609e+02]\n",
      " [ -1.45032040e+01   7.04689631e+01   8.04087432e+01  -8.79789043e+02]\n",
      " [ -2.01673715e+00   5.71596472e+01   9.62934092e+01  -3.15831455e+02]\n",
      " [ -1.44116957e+01   8.17617459e+01   1.87117043e+02  -5.34557107e+02]\n",
      " [ -2.61450518e+01   7.43819120e+01   4.51128362e+01  -6.09881622e+02]\n",
      " [ -8.53646188e+00   4.26598302e+01   8.00025802e+01  -6.08064617e+02]\n",
      " [ -9.22402074e+00   8.88377133e+01   1.16007878e+02  -6.54079440e+02]\n",
      " [ -1.82031415e+01   1.05559204e+02   1.24846432e+02  -8.16417932e+02]\n",
      " [ -1.89552031e+01   9.40596977e+01   1.64576598e+02  -4.94410194e+02]\n",
      " [ -7.42547561e+00   6.34916132e+01   7.21444209e+01  -6.08406583e+02]\n",
      " [  1.93263060e+00   4.22091803e+01   1.18439410e+02  -5.67892773e+02]\n",
      " [ -3.43034052e+01   8.07715833e+01   5.27129187e+01  -4.35094369e+02]\n",
      " [ -1.78133037e+01   5.98472747e+01   8.85748442e+01  -3.80668032e+02]\n",
      " [ -9.30775056e+00   7.08167683e+01   1.03453124e+02  -5.79021244e+02]\n",
      " [ -5.08734462e+00   5.48637944e+01   6.50016119e+01  -3.17827579e+02]\n",
      " [ -3.05520818e+01   9.55795981e+01   9.41003109e+01  -6.21777291e+02]\n",
      " [ -1.44956588e+01   9.01364291e+01   1.29635102e+02  -7.10190503e+02]\n",
      " [ -2.74797964e+00   7.09845570e+01   9.76266649e+01  -4.68066864e+02]\n",
      " [ -9.55978074e-01   3.73719214e+01   6.93966403e+01  -2.35432227e+02]\n",
      " [ -2.29685446e+00   3.04104188e+01   1.28455569e+02  -5.43790233e+02]\n",
      " [ -2.65635965e+01   8.43922857e+01   6.80119305e+01  -6.07451834e+02]\n",
      " [  1.43014123e+00   6.63460328e+01   1.92891954e+02  -5.21494298e+02]\n",
      " [ -3.08236806e+01   1.00217077e+02   5.96049441e+01  -6.93994849e+02]\n",
      " [ -1.17056450e+01   5.77012958e+01   1.31979232e+02  -5.61622417e+02]\n",
      " [ -1.31039755e+01   6.83180393e+01   1.27143825e+02  -4.38603835e+02]\n",
      " [ -9.06251517e+00   4.65031035e+01   8.31960409e+01  -5.91955156e+02]\n",
      " [ -3.02992467e+01   8.89783757e+01   8.68407922e+01  -7.04183430e+02]\n",
      " [ -2.62835989e+01   7.06915640e+01   6.63867615e+01  -6.21598124e+02]\n",
      " [ -1.34222070e+01   9.78295944e+01   1.90535237e+02  -7.17131989e+02]\n",
      " [ -1.79752093e+01   5.84332797e+01   6.23378937e+01  -5.23305446e+02]\n",
      " [ -2.08160485e+01   6.64309454e+01   1.38103448e+02  -5.57223783e+02]\n",
      " [ -7.74412117e+00   5.76364618e+01   1.02829793e+02  -3.36987615e+02]\n",
      " [ -8.62397835e+00   8.36286723e+01   1.27630682e+02  -4.24026790e+02]\n",
      " [ -5.86782077e+00   6.18496165e+01   1.40914813e+02  -6.10428483e+02]\n",
      " [ -6.28184837e+00   4.66722198e+01   1.42958440e+02  -7.01045355e+02]\n",
      " [ -6.62499677e+00   6.43399783e+01   1.23524937e+02  -4.15567027e+02]]\n",
      "[3 2 3 2 1 3 4 5 5 5 5 5 1 5 5 2 1 4 4 5 5 4 3 1 1 1 3 3 1 5 4 1 3 2 4 1 3\n",
      " 2 4 1 2 5 4 5 1 2 5 1 5 1 2 4 5 5 5 1 5 5 2 3 3 3 5 4 1 5 3 1 5 1 5 5 5 4\n",
      " 3]\n",
      "------------------------ Teste ----------------------\n",
      "[[ -1.36213501e+01   6.99577457e+01   9.34379455e+01  -6.91419455e+02]\n",
      " [ -3.33554783e+00   5.05552324e+01   8.18029624e+01  -3.75059826e+02]\n",
      " [ -5.96305869e-01   3.89128117e+01   1.02304982e+02  -3.41799181e+02]\n",
      " [ -6.68903496e+00   4.53757506e+01   1.04240650e+02  -5.95086336e+02]\n",
      " [ -4.41401537e+00   5.33436565e+01   1.47837202e+02  -5.93794702e+02]\n",
      " [ -7.67676449e+00   8.55895723e+01   1.66434351e+02  -5.11652965e+02]\n",
      " [ -2.48788028e+01   4.86956040e+01   4.12289233e+01  -4.13720221e+02]\n",
      " [ -1.72084360e+01   9.54202130e+01   1.26771242e+02  -5.31182801e+02]\n",
      " [  1.63417359e+00   5.01272875e+01   1.03028031e+02  -3.34615532e+02]\n",
      " [ -1.81451071e+01   1.10529708e+02   1.71206310e+02  -7.89130506e+02]\n",
      " [ -2.61348171e+01   7.52177903e+01   6.40902374e+01  -6.12251212e+02]\n",
      " [ -1.05974084e+01   4.62444001e+01   1.06082534e+02  -5.62208704e+02]\n",
      " [ -1.57780806e+01   6.71917978e+01   1.09815390e+02  -3.34988246e+02]\n",
      " [ -9.93946554e+00   7.30372951e+01   1.13313205e+02  -5.10131561e+02]\n",
      " [ -1.61098805e+01   9.99243948e+01   1.38175854e+02  -6.03743160e+02]\n",
      " [ -2.16589270e+01   7.46884483e+01   5.08132613e+01  -4.31734923e+02]\n",
      " [ -2.47689393e+01   1.28233973e+02   9.14695222e+01  -6.11730721e+02]\n",
      " [ -2.29767922e+01   6.58387480e+01   6.05551082e+01  -4.61144074e+02]\n",
      " [ -2.57924406e+01   7.99109539e+01   8.27854267e+01  -4.26541119e+02]]\n",
      "[1 2 4 1 1 5 5 5 2 5 5 1 4 5 5 4 1 1 5]\n"
     ]
    }
   ],
   "source": [
    "print(\"---------------------- Treinamento -------------------------\")\n",
    "print(X_train)\n",
    "print(y_train)\n",
    "print(\"------------------------ Teste ----------------------\")\n",
    "print(X_test)\n",
    "print(y_test)"
   ]
  },
  {
   "cell_type": "code",
   "execution_count": null,
   "metadata": {
    "collapsed": true
   },
   "outputs": [],
   "source": []
  },
  {
   "cell_type": "code",
   "execution_count": 46,
   "metadata": {
    "collapsed": false
   },
   "outputs": [
    {
     "data": {
      "text/plain": [
       "SVC(C=1, cache_size=200, class_weight=None, coef0=0.0,\n",
       "  decision_function_shape=None, degree=3, gamma='auto', kernel='linear',\n",
       "  max_iter=-1, probability=False, random_state=None, shrinking=True,\n",
       "  tol=0.001, verbose=False)"
      ]
     },
     "execution_count": 46,
     "metadata": {},
     "output_type": "execute_result"
    }
   ],
   "source": [
    "clf = svm.SVC(kernel='linear', C=1)\n",
    "clf.fit(X_train, y_train)"
   ]
  },
  {
   "cell_type": "code",
   "execution_count": 47,
   "metadata": {
    "collapsed": false
   },
   "outputs": [
    {
     "data": {
      "text/plain": [
       "0.57894736842105265"
      ]
     },
     "execution_count": 47,
     "metadata": {},
     "output_type": "execute_result"
    }
   ],
   "source": [
    "#clf.predict(X_test)\n",
    "clf.score(X_test, y_test) # Retorna f-measure"
   ]
  },
  {
   "cell_type": "code",
   "execution_count": null,
   "metadata": {
    "collapsed": true
   },
   "outputs": [],
   "source": []
  }
 ],
 "metadata": {
  "anaconda-cloud": {},
  "kernelspec": {
   "display_name": "Python [conda root]",
   "language": "python",
   "name": "conda-root-py"
  },
  "language_info": {
   "codemirror_mode": {
    "name": "ipython",
    "version": 3
   },
   "file_extension": ".py",
   "mimetype": "text/x-python",
   "name": "python",
   "nbconvert_exporter": "python",
   "pygments_lexer": "ipython3",
   "version": "3.5.2"
  }
 },
 "nbformat": 4,
 "nbformat_minor": 1
}
