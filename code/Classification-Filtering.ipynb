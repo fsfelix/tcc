{
 "cells": [
  {
   "cell_type": "code",
   "execution_count": 45,
   "metadata": {
    "collapsed": false
   },
   "outputs": [
    {
     "data": {
      "text/plain": [
       "<module 'generate_global_features_2' from '/var/tmp/ff/tcc/code/generate_global_features_2.py'>"
      ]
     },
     "execution_count": 45,
     "metadata": {},
     "output_type": "execute_result"
    }
   ],
   "source": [
    "%matplotlib inline\n",
    "\n",
    "import os \n",
    "import librosa\n",
    "import importlib\n",
    "import matplotlib\n",
    "import numpy as np\n",
    "import string as strp\n",
    "import pr_util as util\n",
    "import matplotlib.pyplot as plt\n",
    "import generate_global_features_2 as ggf\n",
    "\n",
    "from sklearn.model_selection import train_test_split\n",
    "from sklearn.model_selection import cross_val_score\n",
    "from sklearn import datasets\n",
    "from sklearn import svm, neighbors\n",
    "from sklearn.naive_bayes import GaussianNB\n",
    "\n",
    "importlib.reload(util)\n",
    "importlib.reload(ggf)"
   ]
  },
  {
   "cell_type": "code",
   "execution_count": 41,
   "metadata": {
    "collapsed": false
   },
   "outputs": [
    {
     "name": "stdout",
     "output_type": "stream",
     "text": [
      "['/var/tmp/ff/tcc/dataset/pr_article/S_A_C_Base_Parte-2/Dysithamnus mentalis/', '/var/tmp/ff/tcc/dataset/pr_article/S_A_C_Base_Parte-3/Phleocryptes melanops/', '/var/tmp/ff/tcc/dataset/pr_article/S_A_C_Base_Parte-4/Synallaxis spixi/']\n",
      "3\n"
     ]
    }
   ],
   "source": [
    "num_species      = 3\n",
    "n_min_per_specie = 20\n",
    "n_max_per_specie = 250\n",
    "\n",
    "n_global = 4 # number of global functions\n",
    "scoring  = 'f1_weighted'\n",
    "song_or_call = 'song'\n",
    "\n",
    "data_dirs = util.choose_species(num_species, n_min_per_specie, n_max_per_specie, song_or_call)\n",
    "print(data_dirs)\n",
    "print(len(data_dirs))\n",
    "\n",
    "#data_dirs = ['/var/tmp/ff/tcc/dataset/pr_article/S_A_C_Base_Parte-4/Synallaxis spixi/', \n",
    "#             '/var/tmp/ff/tcc/dataset/pr_article/S_A_C_Base_Parte-4/Trogon surrucura/', \n",
    "#             '/var/tmp/ff/tcc/dataset/pr_article/S_A_C_Base_Parte-4/Vanellus chilensis/']\n",
    "\n",
    "#data_dirs = ['/var/tmp/ff/tcc/dataset/pr_article/S_A_C_Base_Parte-1/Basileuterus leucoblepharus/', '/var/tmp/ff/tcc/dataset/pr_article/S_A_C_Base_Parte-4/Theristicus caudatus/', '/var/tmp/ff/tcc/dataset/pr_article/S_A_C_Base_Parte-2/Gnorimopsar chopi/']\n",
    "#data_dirs_pulse = util.dirs_to_pulse_dirs(data_dirs)\n",
    "\n",
    "\n",
    "#print(data_dirs_pulse)\n",
    "#data_dirs_pulse = ['/var/tmp/ff/tcc/dataset/pr_article/S_A_C_Base_Pulsos_Parte-4/Synallaxis spixi/', \n",
    "#                 '/var/tmp/ff/tcc/dataset/pr_article/S_A_C_Base_Pulsos_Parte-4/Trogon surrucura/', \n",
    "#                 '/var/tmp/ff/tcc/dataset/pr_article/S_A_C_Base_Pulsos_Parte-4/Vanellus chilensis/']\n",
    "\n",
    "\n",
    "\n",
    "#data_dirs = ['/Users/felipefelix/USP/tcc/dataset/pr_article/syllables/experimentos_100/Synallaxis spixi/', \n",
    "#             '/Users/felipefelix/USP/tcc/dataset/pr_article/syllables/experimentos_100/Trogon surrucura/', \n",
    "#             '/Users/felipefelix/USP/tcc/dataset/pr_article/syllables/experimentos_100/Vanellus chilensis/']"
   ]
  },
  {
   "cell_type": "code",
   "execution_count": 46,
   "metadata": {
    "collapsed": false,
    "scrolled": false
   },
   "outputs": [
    {
     "name": "stdout",
     "output_type": "stream",
     "text": [
      "['rmse', 'mfcc', 'spec_band', 'spec_cent', 'spec_roll', 'syllable_dur', 'syllable_dur_list', 'zcr']\n",
      "number of files loaded: 103\n"
     ]
    }
   ],
   "source": [
    "print(util.FEATURES)\n",
    "feat = util.FEATURES[0]\n",
    "\n",
    "#labels_dict_p, labels_p, data_p = ggf.generate_global_features(n_global, feat, data_dirs_pulse, song_or_call, util.GLOBAL_FUNCTIONS, version = None)\n",
    "\n",
    "labels_dict_o, labels_o, data_o = ggf.generate_global_features(n_global, feat, data_dirs, song_or_call, util.GLOBAL_FUNCTIONS, version = None)\n",
    "#labels_dict_f1, labels_f1, data_f1 = ggf.generate_global_features(n_global, feat, data_dirs, song_or_call, util.GLOBAL_FUNCTIONS, version = 'filtered1')\n",
    "#labels_dict_f2, labels_f2, data_f2 = ggf.generate_global_features(n_global, feat, data_dirs, song_or_call, util.GLOBAL_FUNCTIONS, version = 'filtered2')\n",
    "#labels_dict_f3, labels_f3, data_f3 = ggf.generate_global_features(n_global, feat, data_dirs, song_or_call, util.GLOBAL_FUNCTIONS, version = 'filtered3')\n",
    "#labels_dict_f4, labels_f4, data_f4 = ggf.generate_global_features(n_global, feat, data_dirs, song_or_call, util.GLOBAL_FUNCTIONS, version = 'filtered4')\n",
    "\n",
    "\n",
    "# MULTI-FEATURES\n",
    "\n",
    "#labels_dict_o, labels_o, data_o = ggf.generate_global_multi_features(n_global, ['spec_band', 'spec_cent'], data_dirs, song_or_call, util.GLOBAL_FUNCTIONS, version = None)\n"
   ]
  },
  {
   "cell_type": "code",
   "execution_count": null,
   "metadata": {
    "collapsed": true
   },
   "outputs": [],
   "source": []
  },
  {
   "cell_type": "code",
   "execution_count": 47,
   "metadata": {
    "collapsed": false
   },
   "outputs": [
    {
     "name": "stdout",
     "output_type": "stream",
     "text": [
      "{'Synallaxis Spixi': 2, 'Phleocryptes Melanops': 1, 'Dysithamnus Mentalis': 0}\n",
      "[0 0 0 0 0 0 0 0 0 0 0 0 0 0 0 0 0 0 0 0 0 0 0 0 0 0 0 0 0 0 0 0 0 0 0 0 0\n",
      " 0 0 0 0 0 1 1 1 1 1 1 1 1 1 1 1 1 1 1 1 1 1 1 1 1 1 1 1 1 1 1 1 1 1 1 1 1\n",
      " 1 1 1 2 2 2 2 2 2 2 2 2 2 2 2 2 2 2 2 2 2 2 2 2 2 2 2 2 2]\n",
      "103\n",
      "(103, 4)\n",
      "[[  3.51484071e-02   4.84050557e-03   4.99054678e-02   1.78027351e-03]\n",
      " [  5.35986662e-02   6.51287863e-02   4.09075022e-01   1.73879880e-02]\n",
      " [  2.44638308e-02   1.48099994e-02   8.16066787e-02   1.08096302e-02]\n",
      " [  2.75778779e-02   7.26438864e-03   4.69478965e-02   1.42502943e-02]\n",
      " [  1.42629714e-01   6.80828868e-02   5.34211516e-01   1.01904394e-02]\n",
      " [  2.69590363e-02   8.39978072e-03   7.20575452e-02   1.73994992e-03]\n",
      " [  1.13877667e-01   8.03452750e-02   4.27809328e-01   9.16986726e-04]\n",
      " [  4.05968301e-02   2.03158701e-02   2.05925837e-01   1.41290482e-02]\n",
      " [  5.18641974e-02   2.39610856e-02   2.06040740e-01   1.75797265e-06]\n",
      " [  2.55532352e-02   2.61346433e-02   1.39985591e-01   2.27643736e-03]]\n",
      "103\n"
     ]
    }
   ],
   "source": [
    "\n",
    "print(labels_dict_o)\n",
    "#print(labels_dict_p)\n",
    "# print(labels_dict_f1)\n",
    "# print(labels_dict_f2)\n",
    "# print(labels_dict_f3)\n",
    "#print(labels_dict_f4)\n",
    "\n",
    "\n",
    "\n",
    "print(labels_o)\n",
    "#print(labels_p)\n",
    "\n",
    "\n",
    "# print(labels_f1)\n",
    "# print(labels_f2)\n",
    "# print(labels_f3)\n",
    "#print(labels_f4)\n",
    "\n",
    "print(len(labels_o))\n",
    "#print(len(labels_p))\n",
    "\n",
    "# print(len(labels_f1))\n",
    "# print(len(labels_f2))\n",
    "# print(len(labels_f3))\n",
    "#print(len(labels_f4))\n",
    "\n",
    "print(data_o.shape)\n",
    "print(data_o[:10])\n",
    "#print(data_p[:10])\n",
    "#print(data_f4[:10])\n",
    "\n",
    "# print(data_f1[:10])\n",
    "# print(data_f2[:10])\n",
    "# print(data_f3[:10])\n",
    "\n",
    "print(len(data_o))\n",
    "#print(len(data_p))\n",
    "#print(len(data_f4))\n",
    "# print(len(data_f1))\n",
    "# print(len(data_f2))\n",
    "# print(len(data_f3))\n"
   ]
  },
  {
   "cell_type": "code",
   "execution_count": null,
   "metadata": {
    "collapsed": false
   },
   "outputs": [],
   "source": [
    "util.plot_scatter(data_o[:,0], data_o[:,1], labels_o, feat + ' mean', feat + ' std')"
   ]
  },
  {
   "cell_type": "code",
   "execution_count": null,
   "metadata": {
    "collapsed": false
   },
   "outputs": [],
   "source": [
    "util.plot_scatter(data_f4[:,0], data_f4[:,1], labels_f4, feat + ' mean', feat + ' std')"
   ]
  },
  {
   "cell_type": "code",
   "execution_count": null,
   "metadata": {
    "collapsed": false
   },
   "outputs": [],
   "source": [
    "util.plot_scatter(data_f1[:,2], data_f1[:,3], labels_f1, feat + ' mean', feat + ' std')"
   ]
  },
  {
   "cell_type": "code",
   "execution_count": null,
   "metadata": {
    "collapsed": false
   },
   "outputs": [],
   "source": [
    "util.plot_scatter(data_f2[:,2], data_f2[:,3], labels_f2, feat + ' mean', feat + ' std')"
   ]
  },
  {
   "cell_type": "code",
   "execution_count": 33,
   "metadata": {
    "collapsed": true
   },
   "outputs": [],
   "source": [
    "def generate_scores(clf, clf_name, data, labels, scoring, cv = 10):\n",
    "    scores  = cross_val_score(clf, data, labels, n_jobs = -1, cv = cv, scoring = scoring, verbose = 3)\n",
    "    print(scores)\n",
    "    print('{0} - {1}: {2:.2f} (+/- {3:.2f})'.format(clf_name, scoring, scores.mean(), scores.std() * 2))\n"
   ]
  },
  {
   "cell_type": "code",
   "execution_count": 48,
   "metadata": {
    "collapsed": false
   },
   "outputs": [
    {
     "name": "stdout",
     "output_type": "stream",
     "text": [
      "[CV]  ................................................................\n",
      "[CV]  ................................................................\n",
      "[CV]  ................................................................\n",
      "[CV]  ................................................................\n",
      "[CV]  ................................................................\n",
      "[CV]  ................................................................\n",
      "[CV]  ................................................................\n",
      "[CV]  ................................................................\n",
      "[CV] ...................... , score=0.47420634920634913, total=   0.0s\n",
      "[CV] ....................... , score=0.2996632996632997, total=   0.0s\n",
      "[CV] ...................... , score=0.16161616161616163, total=   0.0s\n",
      "[CV]  ................................................................\n",
      "[CV]  ................................................................\n",
      "[CV] ...................... , score=0.33333333333333326, total=   0.0s\n",
      "[CV] ...................... , score=0.30864197530864196, total=   0.0s\n"
     ]
    },
    {
     "name": "stderr",
     "output_type": "stream",
     "text": [
      "/home/gradmac/fsfelix/.local/lib/python3.5/site-packages/sklearn/metrics/classification.py:1135: UndefinedMetricWarning: F-score is ill-defined and being set to 0.0 in labels with no predicted samples.\n",
      "  'precision', 'predicted', average, warn_for)\n",
      "/home/gradmac/fsfelix/.local/lib/python3.5/site-packages/sklearn/metrics/classification.py:1135: UndefinedMetricWarning: F-score is ill-defined and being set to 0.0 in labels with no predicted samples.\n",
      "  'precision', 'predicted', average, warn_for)\n",
      "/home/gradmac/fsfelix/.local/lib/python3.5/site-packages/sklearn/metrics/classification.py:1135: UndefinedMetricWarning: F-score is ill-defined and being set to 0.0 in labels with no predicted samples.\n",
      "  'precision', 'predicted', average, warn_for)\n"
     ]
    },
    {
     "name": "stdout",
     "output_type": "stream",
     "text": [
      "[CV] ..................................... , score=0.32, total=   0.0s\n",
      "[CV] ....................... , score=0.4444444444444444, total=   0.0s\n",
      "[CV] ....................... , score=0.4148148148148148, total=   0.0s\n",
      "[CV] ....................... , score=0.3333333333333333, total=   0.0s\n",
      "[CV] ....................... , score=0.6666666666666666, total=   0.0s\n",
      "[ 0.2996633   0.47420635  0.16161616  0.33333333  0.33333333  0.32\n",
      "  0.30864198  0.44444444  0.41481481  0.66666667]\n",
      "kNN - f1_weighted: 0.38 (+/- 0.26)\n"
     ]
    },
    {
     "name": "stderr",
     "output_type": "stream",
     "text": [
      "[Parallel(n_jobs=-1)]: Done   3 out of  10 | elapsed:    0.0s remaining:    0.0s\n",
      "[Parallel(n_jobs=-1)]: Done   7 out of  10 | elapsed:    0.0s remaining:    0.0s\n",
      "[Parallel(n_jobs=-1)]: Done  10 out of  10 | elapsed:    0.0s finished\n"
     ]
    }
   ],
   "source": [
    "clf     = neighbors.KNeighborsClassifier(3, weights = 'uniform')\n",
    "\n",
    "generate_scores(clf, 'kNN', data_o, labels_o, scoring)\n",
    "\n",
    "#generate_scores(clf, 'kNN', data_p, labels_p, scoring)\n",
    "#generate_scores(clf, 'kNN', data_f1, labels_f1, scoring)\n",
    "#generate_scores(clf, 'kNN', data_f2, labels_f2, scoring)\n",
    "#generate_scores(clf, 'kNN', data_f3, labels_f3, scoring)\n",
    "#generate_scores(clf, 'kNN', data_f4, labels_f4, scoring)\n"
   ]
  },
  {
   "cell_type": "code",
   "execution_count": 49,
   "metadata": {
    "collapsed": false
   },
   "outputs": [
    {
     "name": "stdout",
     "output_type": "stream",
     "text": [
      "[CV]  ................................................................\n",
      "[CV]  ................................................................\n",
      "[CV]  ................................................................\n",
      "[CV]  ................................................................\n",
      "[CV]  ................................................................\n",
      "[CV]  ................................................................\n",
      "[CV]  ................................................................\n",
      "[CV]  ................................................................\n",
      "[CV] ...................... , score=0.28860028860028863, total=   0.0s\n",
      "[CV]  ................................................................\n",
      "[CV] ....................... , score=0.5277777777777778, total=   0.0s\n",
      "[CV] ...................... , score=0.28598484848484845, total=   0.0s\n",
      "[CV]  ................................................................\n",
      "[CV] ...................... , score=0.35844155844155845, total=   0.0s\n"
     ]
    },
    {
     "name": "stderr",
     "output_type": "stream",
     "text": [
      "/home/gradmac/fsfelix/.local/lib/python3.5/site-packages/sklearn/metrics/classification.py:1135: UndefinedMetricWarning: F-score is ill-defined and being set to 0.0 in labels with no predicted samples.\n",
      "  'precision', 'predicted', average, warn_for)\n",
      "/home/gradmac/fsfelix/.local/lib/python3.5/site-packages/sklearn/metrics/classification.py:1135: UndefinedMetricWarning: F-score is ill-defined and being set to 0.0 in labels with no predicted samples.\n",
      "  'precision', 'predicted', average, warn_for)\n",
      "/home/gradmac/fsfelix/.local/lib/python3.5/site-packages/sklearn/metrics/classification.py:1135: UndefinedMetricWarning: F-score is ill-defined and being set to 0.0 in labels with no predicted samples.\n",
      "  'precision', 'predicted', average, warn_for)\n"
     ]
    },
    {
     "name": "stdout",
     "output_type": "stream",
     "text": [
      "[CV] ...................... , score=0.19999999999999998, total=   0.0s\n",
      "[CV] ...................... , score=0.09523809523809525, total=   0.0s\n",
      "[CV] ...................... , score=0.34415584415584416, total=   0.0s\n",
      "[CV] ....................... , score=0.5092592592592592, total=   0.0s\n"
     ]
    },
    {
     "name": "stderr",
     "output_type": "stream",
     "text": [
      "/home/gradmac/fsfelix/.local/lib/python3.5/site-packages/sklearn/metrics/classification.py:1135: UndefinedMetricWarning: F-score is ill-defined and being set to 0.0 in labels with no predicted samples.\n",
      "  'precision', 'predicted', average, warn_for)\n"
     ]
    },
    {
     "name": "stdout",
     "output_type": "stream",
     "text": [
      "[CV] ...................... , score=0.39090909090909093, total=   0.0s\n",
      "[CV] ....................... , score=0.2777777777777778, total=   0.0s\n",
      "[ 0.28598485  0.52777778  0.35844156  0.28860029  0.34415584  0.39090909\n",
      "  0.2         0.27777778  0.0952381   0.50925926]\n",
      "gNB - f1_weighted: 0.33 (+/- 0.25)\n"
     ]
    },
    {
     "name": "stderr",
     "output_type": "stream",
     "text": [
      "[Parallel(n_jobs=-1)]: Done   3 out of  10 | elapsed:    0.0s remaining:    0.0s\n",
      "[Parallel(n_jobs=-1)]: Done   7 out of  10 | elapsed:    0.0s remaining:    0.0s\n",
      "[Parallel(n_jobs=-1)]: Done  10 out of  10 | elapsed:    0.0s finished\n"
     ]
    }
   ],
   "source": [
    "clf     = GaussianNB()\n",
    "\n",
    "generate_scores(clf, 'gNB', data_o, labels_o, scoring)\n",
    "#generate_scores(clf, 'gNB', data_p, labels_p, scoring)\n",
    "#generate_scores(clf, 'gNB', data_f1, labels_f1, scoring)\n",
    "#generate_scores(clf, 'gNB', data_f2, labels_f2, scoring)\n",
    "#generate_scores(clf, 'gNB', data_f3, labels_f3, scoring)\n",
    "#generate_scores(clf, 'gNB', data_f4, labels_f4, scoring)\n"
   ]
  },
  {
   "cell_type": "code",
   "execution_count": 39,
   "metadata": {
    "collapsed": false,
    "scrolled": false
   },
   "outputs": [
    {
     "name": "stdout",
     "output_type": "stream",
     "text": [
      "[CV]  ................................................................\n",
      "[CV]  ................................................................\n",
      "[CV]  ................................................................\n",
      "[CV]  ................................................................\n",
      "[CV]  ................................................................\n",
      "[CV]  ................................................................\n",
      "[CV]  ................................................................\n",
      "[CV]  ................................................................\n",
      "[CV]  ................................................................\n",
      "[CV]  ................................................................\n",
      "[CV] ....................... , score=0.5446969696969697, total=   0.0s\n",
      "[CV] ....................... , score=0.6142629300524037, total=   0.0s\n",
      "[CV] ....................... , score=0.7848324514991183, total=   0.0s\n"
     ]
    },
    {
     "name": "stderr",
     "output_type": "stream",
     "text": [
      "/home/gradmac/fsfelix/.local/lib/python3.5/site-packages/sklearn/metrics/classification.py:1135: UndefinedMetricWarning: F-score is ill-defined and being set to 0.0 in labels with no predicted samples.\n",
      "  'precision', 'predicted', average, warn_for)\n"
     ]
    },
    {
     "name": "stdout",
     "output_type": "stream",
     "text": [
      "[CV] ....................... , score=0.5165266106442578, total=   0.0s\n",
      "[CV] ....................... , score=0.5660714285714287, total=   0.0s\n",
      "[CV] ....................... , score=0.8115079365079365, total=   0.0s\n",
      "[CV] ....................... , score=0.7568627450980392, total=   0.0s\n",
      "[CV] ....................... , score=0.6957983193277312, total=   0.0s\n",
      "[CV] ....................... , score=0.8797385620915033, total=   0.0s\n",
      "[CV] ....................... , score=0.6979166666666666, total=   0.0s\n",
      "[ 0.54469697  0.61426293  0.78483245  0.87973856  0.69579832  0.75686275\n",
      "  0.51652661  0.56607143  0.69791667  0.81150794]\n",
      "SVM - f1_weighted: 0.69 (+/- 0.23)\n"
     ]
    },
    {
     "name": "stderr",
     "output_type": "stream",
     "text": [
      "[Parallel(n_jobs=-1)]: Done   3 out of  10 | elapsed:    0.0s remaining:    0.1s\n",
      "[Parallel(n_jobs=-1)]: Done   7 out of  10 | elapsed:    0.1s remaining:    0.0s\n",
      "[Parallel(n_jobs=-1)]: Done  10 out of  10 | elapsed:    0.1s finished\n"
     ]
    }
   ],
   "source": [
    "clf = svm.SVC(kernel = 'linear', max_iter=-1, C = 1, decision_function_shape='ovr')\n",
    "\n",
    "generate_scores(clf, 'SVM', data_o, labels_o, scoring)\n",
    "#generate_scores(clf, 'SVM', data_p, labels_p, scoring)\n",
    "#generate_scores(clf, 'SVM', data_f1, labels_f1, scoring)\n",
    "#generate_scores(clf, 'SVM', data_f2, labels_f2, scoring)\n",
    "#generate_scores(clf, 'SVM', data_f3, labels_f3, scoring)\n",
    "#generate_scores(clf, 'SVM', data_f4, labels_f4, scoring)\n",
    "\n"
   ]
  },
  {
   "cell_type": "code",
   "execution_count": null,
   "metadata": {
    "collapsed": true
   },
   "outputs": [],
   "source": []
  }
 ],
 "metadata": {
  "anaconda-cloud": {},
  "kernelspec": {
   "display_name": "Python 3",
   "language": "python",
   "name": "python3"
  },
  "language_info": {
   "codemirror_mode": {
    "name": "ipython",
    "version": 3
   },
   "file_extension": ".py",
   "mimetype": "text/x-python",
   "name": "python",
   "nbconvert_exporter": "python",
   "pygments_lexer": "ipython3",
   "version": "3.5.3"
  }
 },
 "nbformat": 4,
 "nbformat_minor": 1
}
