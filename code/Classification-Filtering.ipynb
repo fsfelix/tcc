{
 "cells": [
  {
   "cell_type": "code",
   "execution_count": 1,
   "metadata": {
    "collapsed": false
   },
   "outputs": [
    {
     "data": {
      "text/plain": [
       "<module 'generate_global_features_2' from '/var/tmp/ff/tcc/code/generate_global_features_2.py'>"
      ]
     },
     "execution_count": 1,
     "metadata": {},
     "output_type": "execute_result"
    }
   ],
   "source": [
    "%matplotlib inline\n",
    "\n",
    "import os \n",
    "import librosa\n",
    "import importlib\n",
    "import matplotlib\n",
    "import numpy as np\n",
    "import string as strp\n",
    "import pr_util as util\n",
    "import matplotlib.pyplot as plt\n",
    "import generate_global_features_2 as ggf\n",
    "\n",
    "from sklearn.model_selection import train_test_split\n",
    "from sklearn.model_selection import cross_val_score\n",
    "from sklearn import datasets\n",
    "from sklearn import svm, neighbors\n",
    "from sklearn.naive_bayes import GaussianNB\n",
    "\n",
    "importlib.reload(util)\n",
    "importlib.reload(ggf)"
   ]
  },
  {
   "cell_type": "code",
   "execution_count": 2,
   "metadata": {
    "collapsed": false
   },
   "outputs": [
    {
     "name": "stdout",
     "output_type": "stream",
     "text": [
      "['/var/tmp/ff/tcc/dataset/pr_article/S_A_C_Base_Parte-3/Pyriglena leucoptera/', '/var/tmp/ff/tcc/dataset/pr_article/S_A_C_Base_Parte-3/Myiodynastes maculatus/', '/var/tmp/ff/tcc/dataset/pr_article/S_A_C_Base_Parte-4/Thraupis palmarum/', '/var/tmp/ff/tcc/dataset/pr_article/S_A_C_Base_Parte-4/Sittasomus griseicapillus/', '/var/tmp/ff/tcc/dataset/pr_article/S_A_C_Base_Parte-3/Poospiza nigrorufa/', '/var/tmp/ff/tcc/dataset/pr_article/S_A_C_Base_Parte-2/Mimus saturninus/', '/var/tmp/ff/tcc/dataset/pr_article/S_A_C_Base_Parte-1/Basileuterus leucoblepharus/', '/var/tmp/ff/tcc/dataset/pr_article/S_A_C_Base_Parte-2/Lathrotriccus euleri/', '/var/tmp/ff/tcc/dataset/pr_article/S_A_C_Base_Parte-4/Trichothraupis melanops/', '/var/tmp/ff/tcc/dataset/pr_article/S_A_C_Base_Parte-3/Polioptila dumicola/', '/var/tmp/ff/tcc/dataset/pr_article/S_A_C_Base_Parte-3/Phleocryptes melanops/', '/var/tmp/ff/tcc/dataset/pr_article/S_A_C_Base_Parte-2/Drymophila malura/', '/var/tmp/ff/tcc/dataset/pr_article/S_A_C_Base_Parte-4/Xenops minutus/', '/var/tmp/ff/tcc/dataset/pr_article/S_A_C_Base_Parte-3/Myiophobus fasciatus/', '/var/tmp/ff/tcc/dataset/pr_article/S_A_C_Base_Parte-1/Chiroxiphia caudata/', '/var/tmp/ff/tcc/dataset/pr_article/S_A_C_Base_Parte-4/Tangara desmaresti/', '/var/tmp/ff/tcc/dataset/pr_article/S_A_C_Base_Parte-1/Aegolius harrisii/', '/var/tmp/ff/tcc/dataset/pr_article/S_A_C_Base_Parte-2/Hypoedaleus guttatus/', '/var/tmp/ff/tcc/dataset/pr_article/S_A_C_Base_Parte-3/Ramphastos dicolorus/', '/var/tmp/ff/tcc/dataset/pr_article/S_A_C_Base_Parte-4/Stymphalornis acutirostris/']\n",
      "20\n"
     ]
    }
   ],
   "source": [
    "num_species      = 20\n",
    "n_min_per_specie = 20\n",
    "\n",
    "n_global = 4 # number of global functions\n",
    "scoring  = 'f1_weighted'\n",
    "song_or_call = 'song'\n",
    "\n",
    "data_dirs = util.choose_species(num_species, n_min_per_specie, song_or_call)\n",
    "print(data_dirs)\n",
    "print(len(data_dirs))\n",
    "\n",
    "#data_dirs = ['/var/tmp/ff/tcc/dataset/pr_article/S_A_C_Base_Parte-4/Synallaxis spixi/', \n",
    "#             '/var/tmp/ff/tcc/dataset/pr_article/S_A_C_Base_Parte-4/Trogon surrucura/', \n",
    "#             '/var/tmp/ff/tcc/dataset/pr_article/S_A_C_Base_Parte-4/Vanellus chilensis/']\n",
    "\n",
    "#data_dirs = ['/var/tmp/ff/tcc/dataset/pr_article/S_A_C_Base_Parte-1/Basileuterus leucoblepharus/', '/var/tmp/ff/tcc/dataset/pr_article/S_A_C_Base_Parte-4/Theristicus caudatus/', '/var/tmp/ff/tcc/dataset/pr_article/S_A_C_Base_Parte-2/Gnorimopsar chopi/']\n",
    "#data_dirs_pulse = util.dirs_to_pulse_dirs(data_dirs)\n",
    "\n",
    "\n",
    "#print(data_dirs_pulse)\n",
    "#data_dirs_pulse = ['/var/tmp/ff/tcc/dataset/pr_article/S_A_C_Base_Pulsos_Parte-4/Synallaxis spixi/', \n",
    "#                 '/var/tmp/ff/tcc/dataset/pr_article/S_A_C_Base_Pulsos_Parte-4/Trogon surrucura/', \n",
    "#                 '/var/tmp/ff/tcc/dataset/pr_article/S_A_C_Base_Pulsos_Parte-4/Vanellus chilensis/']\n",
    "\n",
    "\n",
    "\n",
    "#data_dirs = ['/Users/felipefelix/USP/tcc/dataset/pr_article/syllables/experimentos_100/Synallaxis spixi/', \n",
    "#             '/Users/felipefelix/USP/tcc/dataset/pr_article/syllables/experimentos_100/Trogon surrucura/', \n",
    "#             '/Users/felipefelix/USP/tcc/dataset/pr_article/syllables/experimentos_100/Vanellus chilensis/']"
   ]
  },
  {
   "cell_type": "code",
   "execution_count": 3,
   "metadata": {
    "collapsed": false,
    "scrolled": false
   },
   "outputs": [
    {
     "name": "stdout",
     "output_type": "stream",
     "text": [
      "['rmse', 'mfcc', 'spec_band', 'spec_cent', 'spec_roll', 'syllable_dur', 'syllable_dur_list', 'zcr']\n",
      "number of files loaded: 1037\n",
      "number of files loaded: 1037\n"
     ]
    }
   ],
   "source": [
    "print(util.FEATURES)\n",
    "feat = util.FEATURES[3]\n",
    "\n",
    "#labels_dict_p, labels_p, data_p = ggf.generate_global_features(n_global, feat, data_dirs_pulse, song_or_call, util.GLOBAL_FUNCTIONS, version = None)\n",
    "\n",
    "labels_dict_o, labels_o, data_o = ggf.generate_global_features(n_global, feat, data_dirs, song_or_call, util.GLOBAL_FUNCTIONS, version = None)\n",
    "#labels_dict_f1, labels_f1, data_f1 = ggf.generate_global_features(n_global, feat, data_dirs, song_or_call, util.GLOBAL_FUNCTIONS, version = 'filtered1')\n",
    "#labels_dict_f2, labels_f2, data_f2 = ggf.generate_global_features(n_global, feat, data_dirs, song_or_call, util.GLOBAL_FUNCTIONS, version = 'filtered2')\n",
    "#labels_dict_f3, labels_f3, data_f3 = ggf.generate_global_features(n_global, feat, data_dirs, song_or_call, util.GLOBAL_FUNCTIONS, version = 'filtered3')\n",
    "labels_dict_f4, labels_f4, data_f4 = ggf.generate_global_features(n_global, feat, data_dirs, song_or_call, util.GLOBAL_FUNCTIONS, version = 'filtered4')\n",
    "\n",
    "\n",
    "# MULTI-FEATURES\n",
    "\n",
    "#labels_dict_o, labels_o, data_o = ggf.generate_global_multi_features(n_global, ['spec_band', 'spec_cent'], data_dirs, song_or_call, util.GLOBAL_FUNCTIONS, version = None)\n"
   ]
  },
  {
   "cell_type": "code",
   "execution_count": 4,
   "metadata": {
    "collapsed": false
   },
   "outputs": [
    {
     "name": "stdout",
     "output_type": "stream",
     "text": [
      "{'Phleocryptes Melanops': 10, 'Basileuterus Leucoblepharus': 6, 'Ramphastos Dicolorus': 18, 'Sittasomus Griseicapillus': 3, 'Chiroxiphia Caudata': 14, 'Poospiza Nigrorufa': 4, 'Polioptila Dumicola': 9, 'Tangara Desmaresti': 15, 'Trichothraupis Melanops': 8, 'Xenops Minutus': 12, 'Pyriglena Leucoptera': 0, 'Thraupis Palmarum': 2, 'Aegolius Harrisii': 16, 'Myiodynastes Maculatus': 1, 'Stymphalornis Acutirostris': 19, 'Myiophobus Fasciatus': 13, 'Hypoedaleus Guttatus': 17, 'Lathrotriccus Euleri': 7, 'Mimus Saturninus': 5, 'Drymophila Malura': 11}\n",
      "[ 0  0  0 ..., 19 19 19]\n",
      "[ 0  0  0 ..., 19 19 19]\n",
      "1037\n",
      "1037\n",
      "[[ 2332.97555844   114.65944651  2845.92678826  2132.58760267]\n",
      " [ 3051.24897615   150.72032409  3509.93077625  2639.27640277]\n",
      " [ 2467.68683838   145.37182119  2965.51967485  2202.92774364]\n",
      " [ 2774.1307206    284.06922615  5122.30711781   965.24703578]\n",
      " [ 2491.42150491   614.0173976   3572.68809871  1486.53219713]\n",
      " [ 4849.60265727   793.24894922  6406.47528775  2888.31471357]\n",
      " [ 2520.67445378   374.35927419  4747.82913952  2171.65958841]\n",
      " [ 2154.7830927    295.74315713  2973.56745414   736.73796472]\n",
      " [ 2049.73626545   434.73233249  4459.84879751  1023.17924601]\n",
      " [ 3901.46963904   294.18787646  4571.1018017   2340.37041638]]\n",
      "1037\n",
      "1037\n"
     ]
    }
   ],
   "source": [
    "\n",
    "print(labels_dict_o)\n",
    "#print(labels_dict_p)\n",
    "# print(labels_dict_f1)\n",
    "# print(labels_dict_f2)\n",
    "# print(labels_dict_f3)\n",
    "#print(labels_dict_f4)\n",
    "\n",
    "\n",
    "\n",
    "print(labels_o)\n",
    "#print(labels_p)\n",
    "\n",
    "\n",
    "# print(labels_f1)\n",
    "# print(labels_f2)\n",
    "# print(labels_f3)\n",
    "print(labels_f4)\n",
    "\n",
    "print(len(labels_o))\n",
    "#print(len(labels_p))\n",
    "\n",
    "# print(len(labels_f1))\n",
    "# print(len(labels_f2))\n",
    "# print(len(labels_f3))\n",
    "print(len(labels_f4))\n",
    "\n",
    "#print(data_o[:10])\n",
    "#print(data_p[:10])\n",
    "print(data_f4[:10])\n",
    "\n",
    "# print(data_f1[:10])\n",
    "# print(data_f2[:10])\n",
    "# print(data_f3[:10])\n",
    "\n",
    "print(len(data_o))\n",
    "#print(len(data_p))\n",
    "print(len(data_f4))\n",
    "# print(len(data_f1))\n",
    "# print(len(data_f2))\n",
    "# print(len(data_f3))\n"
   ]
  },
  {
   "cell_type": "code",
   "execution_count": null,
   "metadata": {
    "collapsed": false
   },
   "outputs": [],
   "source": [
    "util.plot_scatter(data_o[:,0], data_o[:,1], labels_o, feat + ' mean', feat + ' std')"
   ]
  },
  {
   "cell_type": "code",
   "execution_count": null,
   "metadata": {
    "collapsed": false
   },
   "outputs": [],
   "source": [
    "util.plot_scatter(data_f4[:,0], data_f4[:,1], labels_f4, feat + ' mean', feat + ' std')"
   ]
  },
  {
   "cell_type": "code",
   "execution_count": null,
   "metadata": {
    "collapsed": false
   },
   "outputs": [],
   "source": [
    "util.plot_scatter(data_f1[:,2], data_f1[:,3], labels_f1, feat + ' mean', feat + ' std')"
   ]
  },
  {
   "cell_type": "code",
   "execution_count": null,
   "metadata": {
    "collapsed": false
   },
   "outputs": [],
   "source": [
    "util.plot_scatter(data_f2[:,2], data_f2[:,3], labels_f2, feat + ' mean', feat + ' std')"
   ]
  },
  {
   "cell_type": "code",
   "execution_count": 5,
   "metadata": {
    "collapsed": true
   },
   "outputs": [],
   "source": [
    "def generate_scores(clf, clf_name, data, labels, scoring, cv = 5):\n",
    "    scores  = cross_val_score(clf, data, labels, n_jobs = -1, cv = cv, scoring = scoring, verbose = 3)\n",
    "    print(scores)\n",
    "    print('{0} - {1}: {2:.2f} (+/- {3:.2f})'.format(clf_name, scoring, scores.mean(), scores.std() * 2))\n"
   ]
  },
  {
   "cell_type": "code",
   "execution_count": null,
   "metadata": {
    "collapsed": false
   },
   "outputs": [],
   "source": [
    "clf     = neighbors.KNeighborsClassifier(3, weights = 'uniform')\n",
    "\n",
    "#for scoring in ['f1_weighted', 'f1_micro', 'f1_macro']:\n",
    "#    print(scoring)\n",
    "#    generate_scores(clf, 'kNN', data_o, labels_o, scoring)\n",
    "\n",
    "generate_scores(clf, 'kNN', data_o, labels_o, scoring)\n",
    "\n",
    "#generate_scores(clf, 'kNN', data_p, labels_p, scoring)\n",
    "\n",
    "#generate_scores(clf, 'kNN', data_f1, labels_f1, scoring)\n",
    "#generate_scores(clf, 'kNN', data_f2, labels_f2, scoring)\n",
    "#generate_scores(clf, 'kNN', data_f3, labels_f3, scoring)\n",
    "generate_scores(clf, 'kNN', data_f4, labels_f4, scoring)\n"
   ]
  },
  {
   "cell_type": "code",
   "execution_count": null,
   "metadata": {
    "collapsed": false
   },
   "outputs": [],
   "source": [
    "clf     = GaussianNB()\n",
    "\n",
    "generate_scores(clf, 'gNB', data_o, labels_o, scoring)\n",
    "#generate_scores(clf, 'gNB', data_p, labels_p, scoring)\n",
    "\n",
    "#generate_scores(clf, 'gNB', data_f1, labels_f1, scoring)\n",
    "#generate_scores(clf, 'gNB', data_f2, labels_f2, scoring)\n",
    "#generate_scores(clf, 'gNB', data_f3, labels_f3, scoring)\n",
    "generate_scores(clf, 'gNB', data_f4, labels_f4, scoring)\n"
   ]
  },
  {
   "cell_type": "code",
   "execution_count": 7,
   "metadata": {
    "collapsed": false,
    "scrolled": false
   },
   "outputs": [
    {
     "name": "stdout",
     "output_type": "stream",
     "text": [
      "[CV]  ................................................................\n",
      "[CV]  ................................................................\n",
      "[CV]  ................................................................\n",
      "[CV]  ................................................................\n",
      "[CV]  ................................................................\n"
     ]
    },
    {
     "name": "stderr",
     "output_type": "stream",
     "text": [
      "/home/gradmac/fsfelix/.local/lib/python3.5/site-packages/sklearn/metrics/classification.py:1135: UndefinedMetricWarning: F-score is ill-defined and being set to 0.0 in labels with no predicted samples.\n",
      "  'precision', 'predicted', average, warn_for)\n"
     ]
    },
    {
     "name": "stdout",
     "output_type": "stream",
     "text": [
      "[CV] ...................... , score=0.06307012446450531, total=   0.1s\n"
     ]
    },
    {
     "name": "stderr",
     "output_type": "stream",
     "text": [
      "/home/gradmac/fsfelix/.local/lib/python3.5/site-packages/sklearn/metrics/classification.py:1135: UndefinedMetricWarning: F-score is ill-defined and being set to 0.0 in labels with no predicted samples.\n",
      "  'precision', 'predicted', average, warn_for)\n",
      "/home/gradmac/fsfelix/.local/lib/python3.5/site-packages/sklearn/metrics/classification.py:1135: UndefinedMetricWarning: F-score is ill-defined and being set to 0.0 in labels with no predicted samples.\n",
      "  'precision', 'predicted', average, warn_for)\n",
      "/home/gradmac/fsfelix/.local/lib/python3.5/site-packages/sklearn/metrics/classification.py:1135: UndefinedMetricWarning: F-score is ill-defined and being set to 0.0 in labels with no predicted samples.\n",
      "  'precision', 'predicted', average, warn_for)\n"
     ]
    },
    {
     "name": "stdout",
     "output_type": "stream",
     "text": [
      "[CV] ...................... , score=0.07907156184210963, total=   0.1s\n",
      "[CV] ..................... , score=0.046738197424892707, total=   0.1s\n",
      "[CV] ....................... , score=0.0533652361840074, total=   0.1s\n"
     ]
    },
    {
     "name": "stderr",
     "output_type": "stream",
     "text": [
      "/home/gradmac/fsfelix/.local/lib/python3.5/site-packages/sklearn/metrics/classification.py:1135: UndefinedMetricWarning: F-score is ill-defined and being set to 0.0 in labels with no predicted samples.\n",
      "  'precision', 'predicted', average, warn_for)\n"
     ]
    },
    {
     "name": "stdout",
     "output_type": "stream",
     "text": [
      "[CV] ...................... , score=0.06970768368786105, total=   0.2s\n",
      "[ 0.06307012  0.06970768  0.05336524  0.07907156  0.0467382 ]\n",
      "SVM - f1_weighted: 0.06 (+/- 0.02)\n"
     ]
    },
    {
     "name": "stderr",
     "output_type": "stream",
     "text": [
      "[Parallel(n_jobs=-1)]: Done   2 out of   5 | elapsed:    0.1s remaining:    0.2s\n",
      "[Parallel(n_jobs=-1)]: Done   5 out of   5 | elapsed:    0.2s finished\n"
     ]
    }
   ],
   "source": [
    "clf = svm.SVC(kernel = 'rbf', max_iter=100000000, C = 1, decision_function_shape='ovr')\n",
    "\n",
    "generate_scores(clf, 'SVM', data_o, labels_o, scoring)\n",
    "#generate_scores(clf, 'SVM', data_p, labels_p, scoring)\n",
    "\n",
    "#generate_scores(clf, 'SVM', data_f1, labels_f1, scoring)\n",
    "#generate_scores(clf, 'SVM', data_f2, labels_f2, scoring)\n",
    "#generate_scores(clf, 'SVM', data_f3, labels_f3, scoring)\n",
    "#generate_scores(clf, 'SVM', data_f4, labels_f4, scoring)\n",
    "\n"
   ]
  },
  {
   "cell_type": "code",
   "execution_count": null,
   "metadata": {
    "collapsed": true
   },
   "outputs": [],
   "source": []
  }
 ],
 "metadata": {
  "anaconda-cloud": {},
  "kernelspec": {
   "display_name": "Python 3",
   "language": "python",
   "name": "python3"
  },
  "language_info": {
   "codemirror_mode": {
    "name": "ipython",
    "version": 3
   },
   "file_extension": ".py",
   "mimetype": "text/x-python",
   "name": "python",
   "nbconvert_exporter": "python",
   "pygments_lexer": "ipython3",
   "version": "3.5.3"
  }
 },
 "nbformat": 4,
 "nbformat_minor": 1
}
