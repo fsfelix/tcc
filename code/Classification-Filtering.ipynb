{
 "cells": [
  {
   "cell_type": "code",
   "execution_count": 72,
   "metadata": {
    "collapsed": false
   },
   "outputs": [
    {
     "data": {
      "text/plain": [
       "<module 'generate_global_features_2' from '/var/tmp/ff/tcc/code/generate_global_features_2.py'>"
      ]
     },
     "execution_count": 72,
     "metadata": {},
     "output_type": "execute_result"
    }
   ],
   "source": [
    "%matplotlib inline\n",
    "\n",
    "import os \n",
    "import librosa\n",
    "import importlib\n",
    "import matplotlib\n",
    "import numpy as np\n",
    "import string as strp\n",
    "import pr_util as util\n",
    "import matplotlib.pyplot as plt\n",
    "import generate_global_features_2 as ggf\n",
    "\n",
    "from sklearn.model_selection import train_test_split\n",
    "from sklearn.model_selection import cross_val_score\n",
    "from sklearn import datasets\n",
    "from sklearn import svm, neighbors\n",
    "from sklearn.naive_bayes import GaussianNB\n",
    "\n",
    "importlib.reload(util)\n",
    "importlib.reload(ggf)"
   ]
  },
  {
   "cell_type": "code",
   "execution_count": 73,
   "metadata": {
    "collapsed": false
   },
   "outputs": [
    {
     "name": "stdout",
     "output_type": "stream",
     "text": [
      "['/var/tmp/ff/tcc/dataset/pr_article/S_A_C_Base_Pulsos_Parte-4/Synallaxis spixi/', '/var/tmp/ff/tcc/dataset/pr_article/S_A_C_Base_Pulsos_Parte-4/Trogon surrucura/', '/var/tmp/ff/tcc/dataset/pr_article/S_A_C_Base_Pulsos_Parte-4/Vanellus chilensis/']\n"
     ]
    }
   ],
   "source": [
    "num_species      = 3\n",
    "n_min_per_specie = 99\n",
    "\n",
    "n_global = 4 # number of global functions\n",
    "scoring  = 'f1_weighted'\n",
    "song_or_call = 'song'\n",
    "\n",
    "#data_dirs = util.choose_species(num_species)\n",
    "#data_dirs = util.check_num_files(data_dirs, song_or_call, num_species, n_min_per_specie)\n",
    "#print(data_dirs)\n",
    "\n",
    "data_dirs = ['/var/tmp/ff/tcc/dataset/pr_article/S_A_C_Base_Parte-4/Synallaxis spixi/', \n",
    "             '/var/tmp/ff/tcc/dataset/pr_article/S_A_C_Base_Parte-4/Trogon surrucura/', \n",
    "             '/var/tmp/ff/tcc/dataset/pr_article/S_A_C_Base_Parte-4/Vanellus chilensis/']\n",
    "\n",
    "data_dirs_pulse = util.dirs_to_pulse_dirs(data_dirs)\n",
    "print(data_dirs_pulse)\n",
    "#data_dirs_pulse = ['/var/tmp/ff/tcc/dataset/pr_article/S_A_C_Base_Pulsos_Parte-4/Synallaxis spixi/', \n",
    "#                 '/var/tmp/ff/tcc/dataset/pr_article/S_A_C_Base_Pulsos_Parte-4/Trogon surrucura/', \n",
    "#                 '/var/tmp/ff/tcc/dataset/pr_article/S_A_C_Base_Pulsos_Parte-4/Vanellus chilensis/']\n",
    "\n",
    "\n",
    "\n",
    "#data_dirs = ['/Users/felipefelix/USP/tcc/dataset/pr_article/syllables/experimentos_100/Synallaxis spixi/', \n",
    "#             '/Users/felipefelix/USP/tcc/dataset/pr_article/syllables/experimentos_100/Trogon surrucura/', \n",
    "#             '/Users/felipefelix/USP/tcc/dataset/pr_article/syllables/experimentos_100/Vanellus chilensis/']"
   ]
  },
  {
   "cell_type": "code",
   "execution_count": 74,
   "metadata": {
    "collapsed": false,
    "scrolled": false
   },
   "outputs": [
    {
     "name": "stdout",
     "output_type": "stream",
     "text": [
      "['rmse', 'mfcc', 'spec_band', 'spec_cent', 'spec_roll', 'syllable_dur', 'syllable_dur_list']\n",
      "number of files loaded: 402\n",
      "number of files loaded: 309\n"
     ]
    }
   ],
   "source": [
    "print(util.FEATURES)\n",
    "feat = util.FEATURES[3]\n",
    "\n",
    "labels_dict_o, labels_o, data_o = ggf.generate_global_features(n_global, feat, data_dirs, song_or_call, util.GLOBAL_FUNCTIONS, version = None)\n",
    "#labels_dict_o, labels_o, data_o = ggf.generate_global_multi_features(n_global, ['spec_band', 'spec_cent'], data_dirs, song_or_call, util.GLOBAL_FUNCTIONS, version = None)\n",
    "\n",
    "labels_dict_p, labels_p, data_p = ggf.generate_global_features(n_global, feat, data_dirs_pulse, song_or_call, util.GLOBAL_FUNCTIONS, version = None)\n",
    "\n",
    "#labels_dict_f1, labels_f1, data_f1 = ggf.generate_global_features(n_global, feat, data_dirs, song_or_call, util.GLOBAL_FUNCTIONS, version = 'filtered1')\n",
    "#labels_dict_f2, labels_f2, data_f2 = ggf.generate_global_features(n_global, feat, data_dirs, song_or_call, util.GLOBAL_FUNCTIONS, version = 'filtered2')\n",
    "#labels_dict_f3, labels_f3, data_f3 = ggf.generate_global_features(n_global, feat, data_dirs, song_or_call, util.GLOBAL_FUNCTIONS, version = 'filtered3')"
   ]
  },
  {
   "cell_type": "code",
   "execution_count": 63,
   "metadata": {
    "collapsed": false
   },
   "outputs": [
    {
     "name": "stdout",
     "output_type": "stream",
     "text": [
      "{'Vanellus Chilensis': 2, 'Synallaxis Spixi': 0, 'Trogon Surrucura': 1}\n",
      "{'Vanellus Chilensis': 2, 'Synallaxis Spixi': 0, 'Trogon Surrucura': 1}\n",
      "[0 0 0 0 0 0 0 0 0 0 0 0 0 0 0 0 0 0 0 0 0 0 0 0 0 0 0 0 0 0 0 0 0 0 0 0 0\n",
      " 0 0 0 0 0 0 0 0 0 0 0 0 0 0 0 0 0 0 0 0 0 0 0 0 0 0 0 0 0 0 0 0 0 0 0 0 0\n",
      " 0 0 0 0 0 0 0 0 0 0 0 0 0 0 0 0 0 0 0 0 0 0 0 0 0 0 0 0 0 0 0 0 0 0 0 0 0\n",
      " 0 0 0 0 0 0 0 0 0 0 0 0 0 0 0 0 0 0 0 0 0 0 0 0 0 0 0 0 0 0 0 0 0 0 0 0 0\n",
      " 0 0 0 0 0 0 0 0 0 0 0 0 0 0 0 0 0 0 0 0 0 0 0 0 0 0 0 0 0 0 0 0 0 0 0 0 0\n",
      " 0 0 0 0 0 0 0 0 0 0 0 0 0 0 1 1 1 1 1 1 1 1 1 1 1 1 1 1 1 1 1 1 1 1 1 1 1\n",
      " 1 1 1 1 1 1 1 1 1 1 1 1 1 1 1 1 1 1 1 1 1 1 1 1 1 1 1 1 1 1 1 1 1 1 1 1 1\n",
      " 1 1 1 1 1 1 1 1 1 1 1 1 1 1 1 1 1 1 1 1 1 1 1 1 1 1 1 1 1 1 1 1 2 2 2 2 2\n",
      " 2 2 2 2 2 2 2 2 2 2 2 2 2 2 2 2 2 2 2 2 2 2 2 2 2 2 2 2 2 2 2 2 2 2 2 2 2\n",
      " 2 2 2 2 2 2 2 2 2 2 2 2 2 2 2 2 2 2 2 2 2 2 2 2 2 2 2 2 2 2 2 2 2 2 2 2 2\n",
      " 2 2 2 2 2 2 2 2 2 2 2 2 2 2 2 2 2 2 2 2 2 2 2 2 2 2 2 2 2 2 2 2]\n",
      "[0 0 0 0 0 0 0 0 0 0 0 0 0 0 0 0 0 0 0 0 0 0 0 0 0 0 0 0 0 0 0 0 0 0 0 0 0\n",
      " 0 0 0 0 0 0 0 0 0 0 0 0 0 0 0 0 0 0 0 0 0 0 0 0 0 0 0 0 0 0 0 0 0 0 0 0 0\n",
      " 0 0 0 0 0 0 0 0 0 0 0 0 0 0 0 0 0 0 0 0 0 0 0 0 0 0 0 0 0 0 0 0 0 0 0 0 0\n",
      " 0 0 0 0 0 0 0 0 0 0 0 0 0 0 0 0 0 0 0 0 0 0 0 0 0 0 0 0 0 0 0 0 0 0 0 0 0\n",
      " 0 0 0 0 0 0 0 0 0 0 0 0 0 0 0 0 0 0 0 0 0 0 0 1 1 1 1 1 1 1 1 1 1 1 1 1 1\n",
      " 1 1 1 1 1 1 1 1 1 1 1 1 1 1 1 1 1 1 1 1 1 1 1 1 1 1 1 1 1 1 1 1 1 1 1 1 1\n",
      " 1 1 1 1 1 1 1 1 1 1 1 1 1 1 1 2 2 2 2 2 2 2 2 2 2 2 2 2 2 2 2 2 2 2 2 2 2\n",
      " 2 2 2 2 2 2 2 2 2 2 2 2 2 2 2 2 2 2 2 2 2 2 2 2 2 2 2 2 2 2 2 2 2 2 2 2 2\n",
      " 2 2 2 2 2 2 2 2 2 2 2 2 2]\n",
      "402\n",
      "309\n",
      "[[ 3657.20342892   542.08875804  4495.94682108  2493.1717651 ]\n",
      " [ 3441.61893555   346.25632036  3887.11109762  2597.6474506 ]\n",
      " [ 3301.43269627   154.9442548   3517.39125746  3004.113864  ]\n",
      " [ 3234.08243598   351.20292709  4255.77541422  2533.4843781 ]\n",
      " [ 4850.1036565    548.33435478  5643.04964111  3775.95920247]\n",
      " [ 3354.86188619   295.39170576  3681.18194155  2751.23845434]\n",
      " [ 4778.25207918   541.46912858  5319.5872148   3698.62557892]\n",
      " [ 2653.82480923    85.3726741   2836.79398616  2404.7770616 ]\n",
      " [ 1499.4320933    654.95783471  4419.09214922   495.11440317]\n",
      " [ 3089.48294784   814.36957318  4213.22246341  1982.76556534]]\n",
      "[[ 3657.18580632   542.11267262  4495.94682108  2493.1717651 ]\n",
      " [ 3441.39095129   346.41095652  3887.11109762  2597.6474506 ]\n",
      " [ 3301.79616691   154.56264316  3517.39125746  3004.113864  ]\n",
      " [ 3233.60988633   351.94976762  4255.77541422  2533.4843781 ]\n",
      " [ 4850.10440385   548.33331658  5643.04964111  3775.95920247]\n",
      " [ 3354.91060536   295.32658852  3681.18194155  2751.23845434]\n",
      " [ 4778.22663516   541.44914488  5319.5872148   3698.62557892]\n",
      " [ 1498.67356203   652.02556619  4377.08728634   495.11440317]\n",
      " [ 3089.12686519   814.8233253   4213.22246341  1982.76556534]\n",
      " [ 4752.55075162   434.11257932  5728.28731639  3810.92924455]]\n",
      "402\n",
      "309\n"
     ]
    }
   ],
   "source": [
    "\n",
    "print(labels_dict_o)\n",
    "print(labels_dict_p)\n",
    "\n",
    "# print(labels_dict_f1)\n",
    "# print(labels_dict_f2)\n",
    "# print(labels_dict_f3)\n",
    "\n",
    "\n",
    "print(labels_o)\n",
    "print(labels_p)\n",
    "\n",
    "# print(labels_f1)\n",
    "# print(labels_f2)\n",
    "# print(labels_f3)\n",
    "\n",
    "\n",
    "print(len(labels_o))\n",
    "print(len(labels_p))\n",
    "\n",
    "# print(len(labels_f1))\n",
    "# print(len(labels_f2))\n",
    "# print(len(labels_f3))\n",
    "\n",
    "\n",
    "print(data_o[:10])\n",
    "print(data_p[:10])\n",
    "\n",
    "# print(data_f1[:10])\n",
    "# print(data_f2[:10])\n",
    "# print(data_f3[:10])\n",
    "\n",
    "print(len(data_o))\n",
    "print(len(data_p))\n",
    "\n",
    "# print(len(data_f1))\n",
    "# print(len(data_f2))\n",
    "# print(len(data_f3))\n"
   ]
  },
  {
   "cell_type": "code",
   "execution_count": 65,
   "metadata": {
    "collapsed": false
   },
   "outputs": [
    {
     "data": {
      "image/png": "[encoded data removed]",
      "text/plain": [
       "<matplotlib.figure.Figure at 0x7f2b4ccc6a90>"
      ]
     },
     "metadata": {},
     "output_type": "display_data"
    }
   ],
   "source": [
    "util.plot_scatter(data_o[:,0], data_o[:,1], labels_o, feat + ' mean', feat + ' std')"
   ]
  },
  {
   "cell_type": "code",
   "execution_count": 66,
   "metadata": {
    "collapsed": false
   },
   "outputs": [
    {
     "data": {
      "image/png": "[encoded data removed]",
      "text/plain": [
       "<matplotlib.figure.Figure at 0x7f2b57d97470>"
      ]
     },
     "metadata": {},
     "output_type": "display_data"
    }
   ],
   "source": [
    "util.plot_scatter(data_p[:,0], data_p[:,1], labels_p, feat + ' mean', feat + ' std')"
   ]
  },
  {
   "cell_type": "code",
   "execution_count": 60,
   "metadata": {
    "collapsed": false
   },
   "outputs": [
    {
     "ename": "NameError",
     "evalue": "name 'data_f1' is not defined",
     "output_type": "error",
     "traceback": [
      "\u001b[0;31m---------------------------------------------------------------------------\u001b[0m",
      "\u001b[0;31mNameError\u001b[0m                                 Traceback (most recent call last)",
      "\u001b[0;32m<ipython-input-60-cd75e48069b8>\u001b[0m in \u001b[0;36m<module>\u001b[0;34m()\u001b[0m\n\u001b[0;32m----> 1\u001b[0;31m \u001b[0mutil\u001b[0m\u001b[0;34m.\u001b[0m\u001b[0mplot_scatter\u001b[0m\u001b[0;34m(\u001b[0m\u001b[0mdata_f1\u001b[0m\u001b[0;34m[\u001b[0m\u001b[0;34m:\u001b[0m\u001b[0;34m,\u001b[0m\u001b[0;36m2\u001b[0m\u001b[0;34m]\u001b[0m\u001b[0;34m,\u001b[0m \u001b[0mdata_f1\u001b[0m\u001b[0;34m[\u001b[0m\u001b[0;34m:\u001b[0m\u001b[0;34m,\u001b[0m\u001b[0;36m3\u001b[0m\u001b[0;34m]\u001b[0m\u001b[0;34m,\u001b[0m \u001b[0mlabels_f1\u001b[0m\u001b[0;34m,\u001b[0m \u001b[0mfeat\u001b[0m \u001b[0;34m+\u001b[0m \u001b[0;34m' mean'\u001b[0m\u001b[0;34m,\u001b[0m \u001b[0mfeat\u001b[0m \u001b[0;34m+\u001b[0m \u001b[0;34m' std'\u001b[0m\u001b[0;34m)\u001b[0m\u001b[0;34m\u001b[0m\u001b[0m\n\u001b[0m",
      "\u001b[0;31mNameError\u001b[0m: name 'data_f1' is not defined"
     ]
    }
   ],
   "source": [
    "util.plot_scatter(data_f1[:,2], data_f1[:,3], labels_f1, feat + ' mean', feat + ' std')"
   ]
  },
  {
   "cell_type": "code",
   "execution_count": 15,
   "metadata": {
    "collapsed": false
   },
   "outputs": [
    {
     "data": {
      "image/png": "[encoded data removed]",
      "text/plain": [
       "<matplotlib.figure.Figure at 0x112744cf8>"
      ]
     },
     "metadata": {},
     "output_type": "display_data"
    }
   ],
   "source": [
    "util.plot_scatter(data_f2[:,2], data_f2[:,3], labels_f2, feat + ' mean', feat + ' std')"
   ]
  },
  {
   "cell_type": "code",
   "execution_count": 67,
   "metadata": {
    "collapsed": true
   },
   "outputs": [],
   "source": [
    "def generate_scores(clf, clf_name, data, labels, scoring, cv = 5):\n",
    "    scores  = cross_val_score(clf, data, labels, n_jobs = -1, cv = cv, scoring = scoring)\n",
    "    print(scores)\n",
    "    print('{0} - {1}: {2:.2f} (+/- {3:.2f})'.format(clf_name, scoring, scores.mean(), scores.std() * 2))\n"
   ]
  },
  {
   "cell_type": "code",
   "execution_count": 69,
   "metadata": {
    "collapsed": false
   },
   "outputs": [
    {
     "name": "stdout",
     "output_type": "stream",
     "text": [
      "[ 0.66615106  0.75383657  0.62501407  0.58383048  0.74518852]\n",
      "kNN - f1_weighted: 0.67 (+/- 0.13)\n",
      "[ 0.69161168  0.73057313  0.62062336  0.69051167  0.72480501]\n",
      "kNN - f1_weighted: 0.69 (+/- 0.08)\n"
     ]
    }
   ],
   "source": [
    "clf     = neighbors.KNeighborsClassifier(3, weights = 'uniform')\n",
    "\n",
    "#for scoring in ['f1_weighted', 'f1_micro', 'f1_macro']:\n",
    "#    print(scoring)\n",
    "#    generate_scores(clf, 'kNN', data_o, labels_o, scoring)\n",
    "\n",
    "generate_scores(clf, 'kNN', data_o, labels_o, scoring)\n",
    "generate_scores(clf, 'kNN', data_p, labels_p, scoring)\n",
    "\n",
    "#generate_scores(clf, 'kNN', data_f1, labels_f1, scoring)\n",
    "#generate_scores(clf, 'kNN', data_f2, labels_f2, scoring)\n",
    "#generate_scores(clf, 'kNN', data_f3, labels_f3, scoring)"
   ]
  },
  {
   "cell_type": "code",
   "execution_count": 70,
   "metadata": {
    "collapsed": false
   },
   "outputs": [
    {
     "name": "stdout",
     "output_type": "stream",
     "text": [
      "[ 0.52162077  0.45227128  0.48626553  0.4981323   0.51834994]\n",
      "gNB - f1_weighted: 0.50 (+/- 0.05)\n"
     ]
    },
    {
     "name": "stderr",
     "output_type": "stream",
     "text": [
      "/home/gradmac/fsfelix/.local/lib/python3.5/site-packages/sklearn/metrics/classification.py:1135: UndefinedMetricWarning: F-score is ill-defined and being set to 0.0 in labels with no predicted samples.\n",
      "  'precision', 'predicted', average, warn_for)\n"
     ]
    },
    {
     "name": "stdout",
     "output_type": "stream",
     "text": [
      "[ 0.55016342  0.50436901  0.46885246  0.59230478  0.5474653 ]\n",
      "gNB - f1_weighted: 0.53 (+/- 0.08)\n"
     ]
    }
   ],
   "source": [
    "clf     = GaussianNB()\n",
    "\n",
    "generate_scores(clf, 'gNB', data_o, labels_o, scoring)\n",
    "generate_scores(clf, 'gNB', data_p, labels_p, scoring)\n",
    "\n",
    "#generate_scores(clf, 'gNB', data_f1, labels_f1, scoring)\n",
    "#generate_scores(clf, 'gNB', data_f2, labels_f2, scoring)\n",
    "#generate_scores(clf, 'gNB', data_f3, labels_f3, scoring)"
   ]
  },
  {
   "cell_type": "code",
   "execution_count": 71,
   "metadata": {
    "collapsed": false
   },
   "outputs": [
    {
     "name": "stderr",
     "output_type": "stream",
     "text": [
      "/home/gradmac/fsfelix/.local/lib/python3.5/site-packages/sklearn/svm/base.py:218: ConvergenceWarning: Solver terminated early (max_iter=100000000).  Consider pre-processing your data with StandardScaler or MinMaxScaler.\n",
      "  % self.max_iter, ConvergenceWarning)\n",
      "/home/gradmac/fsfelix/.local/lib/python3.5/site-packages/sklearn/svm/base.py:218: ConvergenceWarning: Solver terminated early (max_iter=100000000).  Consider pre-processing your data with StandardScaler or MinMaxScaler.\n",
      "  % self.max_iter, ConvergenceWarning)\n",
      "/home/gradmac/fsfelix/.local/lib/python3.5/site-packages/sklearn/svm/base.py:218: ConvergenceWarning: Solver terminated early (max_iter=100000000).  Consider pre-processing your data with StandardScaler or MinMaxScaler.\n",
      "  % self.max_iter, ConvergenceWarning)\n",
      "/home/gradmac/fsfelix/.local/lib/python3.5/site-packages/sklearn/svm/base.py:218: ConvergenceWarning: Solver terminated early (max_iter=100000000).  Consider pre-processing your data with StandardScaler or MinMaxScaler.\n",
      "  % self.max_iter, ConvergenceWarning)\n",
      "/home/gradmac/fsfelix/.local/lib/python3.5/site-packages/sklearn/svm/base.py:218: ConvergenceWarning: Solver terminated early (max_iter=100000000).  Consider pre-processing your data with StandardScaler or MinMaxScaler.\n",
      "  % self.max_iter, ConvergenceWarning)\n"
     ]
    },
    {
     "name": "stdout",
     "output_type": "stream",
     "text": [
      "[ 0.46814179  0.50959777  0.43189103  0.47169868  0.44094479]\n",
      "SVM - f1_weighted: 0.46 (+/- 0.05)\n"
     ]
    },
    {
     "name": "stderr",
     "output_type": "stream",
     "text": [
      "/home/gradmac/fsfelix/.local/lib/python3.5/site-packages/sklearn/svm/base.py:218: ConvergenceWarning: Solver terminated early (max_iter=100000000).  Consider pre-processing your data with StandardScaler or MinMaxScaler.\n",
      "  % self.max_iter, ConvergenceWarning)\n",
      "/home/gradmac/fsfelix/.local/lib/python3.5/site-packages/sklearn/svm/base.py:218: ConvergenceWarning: Solver terminated early (max_iter=100000000).  Consider pre-processing your data with StandardScaler or MinMaxScaler.\n",
      "  % self.max_iter, ConvergenceWarning)\n",
      "/home/gradmac/fsfelix/.local/lib/python3.5/site-packages/sklearn/metrics/classification.py:1135: UndefinedMetricWarning: F-score is ill-defined and being set to 0.0 in labels with no predicted samples.\n",
      "  'precision', 'predicted', average, warn_for)\n",
      "/home/gradmac/fsfelix/.local/lib/python3.5/site-packages/sklearn/svm/base.py:218: ConvergenceWarning: Solver terminated early (max_iter=100000000).  Consider pre-processing your data with StandardScaler or MinMaxScaler.\n",
      "  % self.max_iter, ConvergenceWarning)\n",
      "/home/gradmac/fsfelix/.local/lib/python3.5/site-packages/sklearn/svm/base.py:218: ConvergenceWarning: Solver terminated early (max_iter=100000000).  Consider pre-processing your data with StandardScaler or MinMaxScaler.\n",
      "  % self.max_iter, ConvergenceWarning)\n",
      "/home/gradmac/fsfelix/.local/lib/python3.5/site-packages/sklearn/svm/base.py:218: ConvergenceWarning: Solver terminated early (max_iter=100000000).  Consider pre-processing your data with StandardScaler or MinMaxScaler.\n",
      "  % self.max_iter, ConvergenceWarning)\n"
     ]
    },
    {
     "name": "stdout",
     "output_type": "stream",
     "text": [
      "[ 0.49661423  0.48359458  0.42280827  0.4766766   0.41149917]\n",
      "SVM - f1_weighted: 0.46 (+/- 0.07)\n"
     ]
    }
   ],
   "source": [
    "clf = svm.SVC(kernel = 'linear', max_iter=100000000, C = 1, decision_function_shape='ovr')\n",
    "\n",
    "generate_scores(clf, 'SVM', data_o, labels_o, scoring)\n",
    "generate_scores(clf, 'SVM', data_p, labels_p, scoring)\n",
    "\n",
    "#generate_scores(clf, 'SVM', data_f1, labels_f1, scoring)\n",
    "#generate_scores(clf, 'SVM', data_f2, labels_f2, scoring)\n",
    "#generate_scores(clf, 'SVM', data_f3, labels_f3, scoring)\n"
   ]
  },
  {
   "cell_type": "code",
   "execution_count": null,
   "metadata": {
    "collapsed": true
   },
   "outputs": [],
   "source": []
  }
 ],
 "metadata": {
  "anaconda-cloud": {},
  "kernelspec": {
   "display_name": "Python 3",
   "language": "python",
   "name": "python3"
  },
  "language_info": {
   "codemirror_mode": {
    "name": "ipython",
    "version": 3
   },
   "file_extension": ".py",
   "mimetype": "text/x-python",
   "name": "python",
   "nbconvert_exporter": "python",
   "pygments_lexer": "ipython3",
   "version": "3.5.3"
  }
 },
 "nbformat": 4,
 "nbformat_minor": 1
}
