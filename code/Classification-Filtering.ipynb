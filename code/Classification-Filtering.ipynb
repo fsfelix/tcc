{
 "cells": [
  {
   "cell_type": "code",
   "execution_count": 84,
   "metadata": {
    "collapsed": false
   },
   "outputs": [
    {
     "data": {
      "text/plain": [
       "<module 'generate_global_features_2' from '/Users/felipefelix/USP/tcc/code/generate_global_features_2.py'>"
      ]
     },
     "execution_count": 84,
     "metadata": {},
     "output_type": "execute_result"
    }
   ],
   "source": [
    "%matplotlib inline\n",
    "\n",
    "import os \n",
    "import librosa\n",
    "import importlib\n",
    "import matplotlib\n",
    "import numpy as np\n",
    "import string as strp\n",
    "import pr_util as util\n",
    "import matplotlib.pyplot as plt\n",
    "import generate_global_features_2 as ggf\n",
    "\n",
    "from sklearn.model_selection import train_test_split\n",
    "from sklearn.model_selection import cross_val_score\n",
    "from sklearn import datasets\n",
    "from sklearn import svm, neighbors\n",
    "from sklearn.naive_bayes import GaussianNB\n",
    "\n",
    "importlib.reload(util)\n",
    "importlib.reload(ggf)"
   ]
  },
  {
   "cell_type": "code",
   "execution_count": 76,
   "metadata": {
    "collapsed": false
   },
   "outputs": [
    {
     "name": "stdout",
     "output_type": "stream",
     "text": [
      "/Users/felipefelix/USP/tcc/dataset/pr_article/S_A_C_Base_Parte-4/Scytalopus iraiensis/ n files:12\n",
      "/Users/felipefelix/USP/tcc/dataset/pr_article/S_A_C_Base_Parte-4/Streptoprocne biscutata/ n files:6\n",
      "/Users/felipefelix/USP/tcc/dataset/pr_article/S_A_C_Base_Parte-3/Phylloscartes kronei/ n files:1\n",
      "/Users/felipefelix/USP/tcc/dataset/pr_article/S_A_C_Base_Parte-3/Philydor atricapillus/ n files:12\n",
      "/Users/felipefelix/USP/tcc/dataset/pr_article/S_A_C_Base_Parte-2/Hypoedaleus guttatus/ n files:30\n",
      "/Users/felipefelix/USP/tcc/dataset/pr_article/S_A_C_Base_Parte-4/Scytalopus iraiensis/ n files:12\n",
      "['/Users/felipefelix/USP/tcc/dataset/pr_article/S_A_C_Base_Parte-3/Philydor atricapillus/', '/Users/felipefelix/USP/tcc/dataset/pr_article/S_A_C_Base_Parte-2/Hypoedaleus guttatus/', '/Users/felipefelix/USP/tcc/dataset/pr_article/S_A_C_Base_Parte-4/Scytalopus iraiensis/']\n"
     ]
    }
   ],
   "source": [
    "num_species      = 3\n",
    "n_min_per_specie = 10\n",
    "\n",
    "n_global = 4 # number of global functions\n",
    "scoring  = 'f1_weighted'\n",
    "song_or_call = 'song'\n",
    "\n",
    "data_dirs = util.choose_species(num_species)\n",
    "data_dirs = util.check_num_files(data_dirs, song_or_call, num_species, n_min_per_specie)\n",
    "print(data_dirs)\n",
    "\n",
    "#data_dirs = ['/Users/felipefelix/USP/tcc/dataset/pr_article/S_A_C_Base_Parte-1/Batara cinerea/', \n",
    "#             '/Users/felipefelix/USP/tcc/dataset/pr_article/S_A_C_Base_Parte-1/Camptostoma obsoletum/', \n",
    "#             '/Users/felipefelix/USP/tcc/dataset/pr_article/S_A_C_Base_Parte-3/Myiodynastes maculatus/']"
   ]
  },
  {
   "cell_type": "code",
   "execution_count": 77,
   "metadata": {
    "collapsed": false,
    "scrolled": false
   },
   "outputs": [
    {
     "name": "stdout",
     "output_type": "stream",
     "text": [
      "['rmse', 'mfcc', 'spec_band', 'spec_cent', 'spec_roll']\n",
      "1000.mp3.spec_cent.txt\n",
      "10010.mp3.spec_cent.txt\n",
      "10011.mp3.spec_cent.txt\n",
      "10014.mp3.spec_cent.txt\n",
      "10016.mp3.spec_cent.txt\n",
      "10017.mp3.spec_cent.txt\n",
      "1003.mp3.spec_cent.txt\n",
      "1004.mp3.spec_cent.txt\n",
      "1006.mp3.spec_cent.txt\n",
      "1008.mp3.spec_cent.txt\n",
      "1009.mp3.spec_cent.txt\n",
      "Bufffronted_FG_calls_Zizo-3-29.mp3.spec_cent.txt\n",
      "0070.mp3.spec_cent.txt\n",
      "1000528.mp3.spec_cent.txt\n",
      "1000529.mp3.spec_cent.txt\n",
      "1000530.mp3.spec_cent.txt\n",
      "1000533.mp3.spec_cent.txt\n",
      "1000534.mp3.spec_cent.txt\n",
      "1000535.mp3.spec_cent.txt\n",
      "1000537.mp3.spec_cent.txt\n",
      "1000539.mp3.spec_cent.txt\n",
      "1000540.mp3.spec_cent.txt\n",
      "1000541.mp3.spec_cent.txt\n",
      "1000542.mp3.spec_cent.txt\n",
      "1000543.mp3.spec_cent.txt\n",
      "1000545.mp3.spec_cent.txt\n",
      "1000549.mp3.spec_cent.txt\n",
      "1000550.mp3.spec_cent.txt\n",
      "1000551.mp3.spec_cent.txt\n",
      "1000554.mp3.spec_cent.txt\n",
      "1000555.mp3.spec_cent.txt\n",
      "1000557.mp3.spec_cent.txt\n",
      "1000558.mp3.spec_cent.txt\n",
      "HI-0202-Spot-backed-Antshrike.mp3.spec_cent.txt\n",
      "Hypodaleusguttatussong.mp3.spec_cent.txt\n",
      "Hypoedaelus%20maculatus0606-1.mp3.spec_cent.txt\n",
      "Hypoedaelus%20maculatus0731-1.mp3.spec_cent.txt\n",
      "Hypoedaleu%20gutatus%20l.mp3.spec_cent.txt\n",
      "Hypoedaleus_gutattus_Eldorad.mp3.spec_cent.txt\n",
      "Hypoedaleus_guttatus_PRQ_090307.mp3.spec_cent.txt\n",
      "HYPOED~4.MP3.spec_cent.txt\n",
      "Thamnophilidae._Hypoedaleus_guttatus_RPPN_Prima_Luna_19.01.2010_ELXC.mp3.spec_cent.txt\n",
      "100294-1.wav.spec_cent.txt\n",
      "100294.mp3.spec_cent.txt\n",
      "marsh_tapaculo1_rdb-1.wav.spec_cent.txt\n",
      "marsh_tapaculo1_rdb.mp3.spec_cent.txt\n",
      "marsh_tapaculo2_rdb-1.wav.spec_cent.txt\n",
      "marsh_tapaculo2_rdb.mp3.spec_cent.txt\n",
      "R09_2094-Wetland-Tapaculo-1.wav.spec_cent.txt\n",
      "R09_2094-Wetland-Tapaculo.mp3.spec_cent.txt\n",
      "Scytalopus_iraiensis-1.wav.spec_cent.txt\n",
      "Scytalopus_iraiensis.03-1.wav.spec_cent.txt\n",
      "Scytalopus_iraiensis.03.mp3.spec_cent.txt\n",
      "Scytalopus_iraiensis.mp3.spec_cent.txt\n",
      "1000.mp3.filtered1.wav.spec_cent.txt\n",
      "10010.mp3.filtered1.wav.spec_cent.txt\n",
      "10011.mp3.filtered1.wav.spec_cent.txt\n",
      "10014.mp3.filtered1.wav.spec_cent.txt\n",
      "10016.mp3.filtered1.wav.spec_cent.txt\n",
      "10017.mp3.filtered1.wav.spec_cent.txt\n",
      "1003.mp3.filtered1.wav.spec_cent.txt\n",
      "1004.mp3.filtered1.wav.spec_cent.txt\n",
      "1006.mp3.filtered1.wav.spec_cent.txt\n",
      "1008.mp3.filtered1.wav.spec_cent.txt\n",
      "1009.mp3.filtered1.wav.spec_cent.txt\n",
      "Bufffronted_FG_calls_Zizo-3-29.mp3.filtered1.wav.spec_cent.txt\n",
      "0070.mp3.filtered1.wav.spec_cent.txt\n",
      "1000528.mp3.filtered1.wav.spec_cent.txt\n",
      "1000529.mp3.filtered1.wav.spec_cent.txt\n",
      "1000530.mp3.filtered1.wav.spec_cent.txt\n",
      "1000533.mp3.filtered1.wav.spec_cent.txt\n",
      "1000534.mp3.filtered1.wav.spec_cent.txt\n",
      "1000535.mp3.filtered1.wav.spec_cent.txt\n",
      "1000537.mp3.filtered1.wav.spec_cent.txt\n",
      "1000539.mp3.filtered1.wav.spec_cent.txt\n",
      "1000540.mp3.filtered1.wav.spec_cent.txt\n",
      "1000541.mp3.filtered1.wav.spec_cent.txt\n",
      "1000542.mp3.filtered1.wav.spec_cent.txt\n",
      "1000543.mp3.filtered1.wav.spec_cent.txt\n",
      "1000545.mp3.filtered1.wav.spec_cent.txt\n",
      "1000549.mp3.filtered1.wav.spec_cent.txt\n",
      "1000550.mp3.filtered1.wav.spec_cent.txt\n",
      "1000551.mp3.filtered1.wav.spec_cent.txt\n",
      "1000554.mp3.filtered1.wav.spec_cent.txt\n",
      "1000555.mp3.filtered1.wav.spec_cent.txt\n",
      "1000557.mp3.filtered1.wav.spec_cent.txt\n",
      "1000558.mp3.filtered1.wav.spec_cent.txt\n",
      "HI-0202-Spot-backed-Antshrike.mp3.filtered1.wav.spec_cent.txt\n",
      "Hypodaleusguttatussong.mp3.filtered1.wav.spec_cent.txt\n",
      "Hypoedaelus%20maculatus0606-1.mp3.filtered1.wav.spec_cent.txt\n",
      "Hypoedaelus%20maculatus0731-1.mp3.filtered1.wav.spec_cent.txt\n",
      "Hypoedaleu%20gutatus%20l.mp3.filtered1.wav.spec_cent.txt\n",
      "Hypoedaleus_gutattus_Eldorad.mp3.filtered1.wav.spec_cent.txt\n",
      "Hypoedaleus_guttatus_PRQ_090307.mp3.filtered1.wav.spec_cent.txt\n",
      "HYPOED~4.MP3.filtered1.wav.spec_cent.txt\n",
      "Thamnophilidae._Hypoedaleus_guttatus_RPPN_Prima_Luna_19.01.2010_ELXC.mp3.filtered1.wav.spec_cent.txt\n",
      "100294-1.wav.filtered1.wav.spec_cent.txt\n",
      "100294.mp3.filtered1.wav.spec_cent.txt\n",
      "marsh_tapaculo1_rdb-1.wav.filtered1.wav.spec_cent.txt\n",
      "marsh_tapaculo1_rdb.mp3.filtered1.wav.spec_cent.txt\n",
      "marsh_tapaculo2_rdb-1.wav.filtered1.wav.spec_cent.txt\n",
      "marsh_tapaculo2_rdb.mp3.filtered1.wav.spec_cent.txt\n",
      "R09_2094-Wetland-Tapaculo-1.wav.filtered1.wav.spec_cent.txt\n",
      "R09_2094-Wetland-Tapaculo.mp3.filtered1.wav.spec_cent.txt\n",
      "Scytalopus_iraiensis-1.wav.filtered1.wav.spec_cent.txt\n",
      "Scytalopus_iraiensis.03-1.wav.filtered1.wav.spec_cent.txt\n",
      "Scytalopus_iraiensis.03.mp3.filtered1.wav.spec_cent.txt\n",
      "Scytalopus_iraiensis.mp3.filtered1.wav.spec_cent.txt\n"
     ]
    }
   ],
   "source": [
    "print(util.FEATURES)\n",
    "feat = util.FEATURES[3]\n",
    "labels_dict_gt, labels_gt, data_gt = ggf.generate_global_features(n_global, feat, data_dirs, song_or_call, util.GLOBAL_FUNCTIONS, version = None)\n",
    "labels_dict, labels, data = ggf.generate_global_features(n_global, feat, data_dirs, song_or_call, util.GLOBAL_FUNCTIONS, version = 'filtered1')"
   ]
  },
  {
   "cell_type": "code",
   "execution_count": 78,
   "metadata": {
    "collapsed": false
   },
   "outputs": [
    {
     "name": "stdout",
     "output_type": "stream",
     "text": [
      "{'Hypoedaleus Guttatus': 1, 'Scytalopus Iraiensis': 2, 'Philydor Atricapillus': 0}\n",
      "{'Hypoedaleus Guttatus': 1, 'Scytalopus Iraiensis': 2, 'Philydor Atricapillus': 0}\n",
      "[0 0 0 0 0 0 0 0 0 0 0 0 1 1 1 1 1 1 1 1 1 1 1 1 1 1 1 1 1 1 1 1 1 1 1 1 1\n",
      " 1 1 1 1 1 2 2 2 2 2 2 2 2 2 2 2 2]\n",
      "[0 0 0 0 0 0 0 0 0 0 0 0 1 1 1 1 1 1 1 1 1 1 1 1 1 1 1 1 1 1 1 1 1 1 1 1 1\n",
      " 1 1 1 1 1 2 2 2 2 2 2 2 2 2 2 2 2]\n",
      "54\n",
      "54\n",
      "[[  2795.88176966    293.14681456   4862.80360326   2219.22816606]\n",
      " [  3138.18585419    604.22366759   5012.18548912      0.        ]\n",
      " [  3180.24532603    431.18770177   5283.96834089      0.        ]\n",
      " [  4392.4483747     805.4253606    5348.07959483      0.        ]\n",
      " [  3695.62894486    505.35325145   5001.64046698      0.        ]\n",
      " [  2711.04033067    482.01292299   5223.30239936      0.        ]\n",
      " [  1085.3414474    1103.80911525   4172.2652273      34.87260869]\n",
      " [   719.36588327    933.14173277   3802.94207998     36.92285494]\n",
      " [   193.2136196     204.87622468   2390.91651587      0.        ]\n",
      " [   977.17033646   1742.71243474  10277.84759903      0.        ]]\n",
      "[[ 2746.52073689   205.93853299  3503.20798706     0.        ]\n",
      " [ 3593.23171422   459.1988999   4757.35426664  3018.96954994]\n",
      " [ 3667.01165544   318.20611807  4345.51338093  3115.17046437]\n",
      " [ 4244.92680288   326.95397958  5183.63194477  3146.82615415]\n",
      " [ 3477.63812971   189.06670634  4099.42057308  2908.27465592]\n",
      " [ 3640.67450238   163.02829686  4839.8923579   3053.19354378]\n",
      " [ 2079.47169578   560.98413528  3636.49296078   314.81639445]\n",
      " [ 1837.15259658   504.39348456  3211.37440283   412.46150084]\n",
      " [ 1013.65493193   415.12433135  4081.62974074     0.        ]\n",
      " [ 4472.26344057   718.99521075  5600.41387703     0.        ]]\n",
      "54\n",
      "54\n"
     ]
    }
   ],
   "source": [
    "print(labels_dict)\n",
    "print(labels_dict_gt)\n",
    "print(labels)\n",
    "print(labels_gt)\n",
    "print(len(labels))\n",
    "print(len(labels_gt))\n",
    "print(data[:10])\n",
    "print(data_gt[:10])\n",
    "print(len(data))\n",
    "print(len(data_gt))"
   ]
  },
  {
   "cell_type": "code",
   "execution_count": 79,
   "metadata": {
    "collapsed": false
   },
   "outputs": [
    {
     "data": {
      "image/png": "[encoded data removed]",
      "text/plain": [
       "<matplotlib.figure.Figure at 0x112351080>"
      ]
     },
     "metadata": {},
     "output_type": "display_data"
    }
   ],
   "source": [
    "util.plot_scatter(data_gt[:,0], data_gt[:,1], labels, feat + ' mean', feat + ' std')"
   ]
  },
  {
   "cell_type": "code",
   "execution_count": null,
   "metadata": {
    "collapsed": true
   },
   "outputs": [],
   "source": []
  },
  {
   "cell_type": "code",
   "execution_count": 80,
   "metadata": {
    "collapsed": false
   },
   "outputs": [
    {
     "data": {
      "image/png": "[encoded data removed]",
      "text/plain": [
       "<matplotlib.figure.Figure at 0x111e61a90>"
      ]
     },
     "metadata": {},
     "output_type": "display_data"
    }
   ],
   "source": [
    "util.plot_scatter(data[:,0], data[:,1], labels, feat + ' mean', feat + ' std')"
   ]
  },
  {
   "cell_type": "code",
   "execution_count": 81,
   "metadata": {
    "collapsed": false
   },
   "outputs": [
    {
     "name": "stderr",
     "output_type": "stream",
     "text": [
      "/Users/felipefelix/anaconda3/lib/python3.5/site-packages/sklearn/metrics/classification.py:1113: UndefinedMetricWarning: F-score is ill-defined and being set to 0.0 in labels with no predicted samples.\n",
      "  'precision', 'predicted', average, warn_for)\n",
      "/Users/felipefelix/anaconda3/lib/python3.5/site-packages/sklearn/metrics/classification.py:1113: UndefinedMetricWarning: F-score is ill-defined and being set to 0.0 in labels with no predicted samples.\n",
      "  'precision', 'predicted', average, warn_for)\n"
     ]
    },
    {
     "name": "stdout",
     "output_type": "stream",
     "text": [
      "kNN - f1_weighted: 0.53 (+/- 0.31)\n",
      "[ 0.37019231  0.75113636  0.59636364  0.59333333  0.34      ]\n"
     ]
    },
    {
     "name": "stderr",
     "output_type": "stream",
     "text": [
      "/Users/felipefelix/anaconda3/lib/python3.5/site-packages/sklearn/metrics/classification.py:1113: UndefinedMetricWarning: F-score is ill-defined and being set to 0.0 in labels with no predicted samples.\n",
      "  'precision', 'predicted', average, warn_for)\n"
     ]
    },
    {
     "name": "stdout",
     "output_type": "stream",
     "text": [
      "Filtered - kNN - f1_weighted: 0.51 (+/- 0.39)\n",
      "[ 0.52380952  0.65714286  0.16        0.71428571  0.5030303 ]\n"
     ]
    }
   ],
   "source": [
    "clf     = neighbors.KNeighborsClassifier(3, weights = 'uniform')\n",
    "scores  = cross_val_score(clf, data_gt, labels_gt, n_jobs = -1, cv = 5, scoring=scoring)\n",
    "result  = '{0:.2f} (+/- {1:.2f})'.format(scores.mean(), scores.std() * 2)\n",
    "print('kNN - {0}: {1:.2f} (+/- {2:.2f})'.format(scoring, scores.mean(), scores.std() * 2))\n",
    "print(scores)\n",
    "\n",
    "clf     = neighbors.KNeighborsClassifier(3, weights = 'uniform')\n",
    "scores  = cross_val_score(clf, data, labels, n_jobs = -1, cv = 5, scoring=scoring)\n",
    "result  = '{0:.2f} (+/- {1:.2f})'.format(scores.mean(), scores.std() * 2)\n",
    "print('Filtered - kNN - {0}: {1:.2f} (+/- {2:.2f})'.format(scoring, scores.mean(), scores.std() * 2))\n",
    "print(scores)"
   ]
  },
  {
   "cell_type": "code",
   "execution_count": 82,
   "metadata": {
    "collapsed": false
   },
   "outputs": [
    {
     "name": "stderr",
     "output_type": "stream",
     "text": [
      "/Users/felipefelix/anaconda3/lib/python3.5/site-packages/sklearn/metrics/classification.py:1113: UndefinedMetricWarning: F-score is ill-defined and being set to 0.0 in labels with no predicted samples.\n",
      "  'precision', 'predicted', average, warn_for)\n",
      "/Users/felipefelix/anaconda3/lib/python3.5/site-packages/sklearn/metrics/classification.py:1113: UndefinedMetricWarning: F-score is ill-defined and being set to 0.0 in labels with no predicted samples.\n",
      "  'precision', 'predicted', average, warn_for)\n",
      "/Users/felipefelix/anaconda3/lib/python3.5/site-packages/sklearn/metrics/classification.py:1113: UndefinedMetricWarning: F-score is ill-defined and being set to 0.0 in labels with no predicted samples.\n",
      "  'precision', 'predicted', average, warn_for)\n",
      "/Users/felipefelix/anaconda3/lib/python3.5/site-packages/sklearn/metrics/classification.py:1113: UndefinedMetricWarning: F-score is ill-defined and being set to 0.0 in labels with no predicted samples.\n",
      "  'precision', 'predicted', average, warn_for)\n"
     ]
    },
    {
     "name": "stdout",
     "output_type": "stream",
     "text": [
      "GaussianNB - f1_weighted : 0.32 (+/- 0.27)\n",
      "[ 0.33333333  0.25        0.10909091  0.5025641   0.4       ]\n"
     ]
    },
    {
     "name": "stderr",
     "output_type": "stream",
     "text": [
      "/Users/felipefelix/anaconda3/lib/python3.5/site-packages/sklearn/metrics/classification.py:1113: UndefinedMetricWarning: F-score is ill-defined and being set to 0.0 in labels with no predicted samples.\n",
      "  'precision', 'predicted', average, warn_for)\n",
      "/Users/felipefelix/anaconda3/lib/python3.5/site-packages/sklearn/metrics/classification.py:1113: UndefinedMetricWarning: F-score is ill-defined and being set to 0.0 in labels with no predicted samples.\n",
      "  'precision', 'predicted', average, warn_for)\n"
     ]
    },
    {
     "name": "stdout",
     "output_type": "stream",
     "text": [
      "Filtered - GaussianNB - f1_weighted : 0.55 (+/- 0.38)\n",
      "[ 0.35714286  0.56666667  0.32727273  0.71428571  0.8       ]\n"
     ]
    }
   ],
   "source": [
    "gnb    = GaussianNB()\n",
    "scores = cross_val_score(gnb, data_gt, labels_gt, n_jobs = -1, cv = 5, scoring=scoring)\n",
    "result = '{0:.2f} (+/- {1:.2f})'.format(scores.mean(), scores.std() * 2)\n",
    "print('GaussianNB - {0} : {1:.2f} (+/- {2:.2f})'.format(scoring,scores.mean(), scores.std() * 2))\n",
    "print(scores)\n",
    "\n",
    "gnb    = GaussianNB()\n",
    "scores = cross_val_score(gnb, data, labels, n_jobs = -1, cv = 5, scoring=scoring)\n",
    "result = '{0:.2f} (+/- {1:.2f})'.format(scores.mean(), scores.std() * 2)\n",
    "print('Filtered - GaussianNB - {0} : {1:.2f} (+/- {2:.2f})'.format(scoring,scores.mean(), scores.std() * 2))\n",
    "print(scores)"
   ]
  },
  {
   "cell_type": "code",
   "execution_count": 83,
   "metadata": {
    "collapsed": false
   },
   "outputs": [
    {
     "name": "stderr",
     "output_type": "stream",
     "text": [
      "/Users/felipefelix/anaconda3/lib/python3.5/site-packages/sklearn/metrics/classification.py:1113: UndefinedMetricWarning: F-score is ill-defined and being set to 0.0 in labels with no predicted samples.\n",
      "  'precision', 'predicted', average, warn_for)\n",
      "/Users/felipefelix/anaconda3/lib/python3.5/site-packages/sklearn/metrics/classification.py:1113: UndefinedMetricWarning: F-score is ill-defined and being set to 0.0 in labels with no predicted samples.\n",
      "  'precision', 'predicted', average, warn_for)\n"
     ]
    },
    {
     "name": "stdout",
     "output_type": "stream",
     "text": [
      "[ 0.43522727  0.4125      0.34285714  0.61428571  0.52857143]\n",
      "SVM - f1_weighted 0.47 (+/- 0.19)\n"
     ]
    },
    {
     "name": "stderr",
     "output_type": "stream",
     "text": [
      "/Users/felipefelix/anaconda3/lib/python3.5/site-packages/sklearn/metrics/classification.py:1113: UndefinedMetricWarning: F-score is ill-defined and being set to 0.0 in labels with no predicted samples.\n",
      "  'precision', 'predicted', average, warn_for)\n"
     ]
    },
    {
     "name": "stdout",
     "output_type": "stream",
     "text": [
      "[ 0.26666667  0.65714286  0.66153846  0.66        0.54153846]\n",
      "Filtered - SVM - f1_weighted 0.56 (+/- 0.30)\n"
     ]
    }
   ],
   "source": [
    "clf = svm.SVC(kernel = 'linear', C = 1, decision_function_shape='ovr')\n",
    "scores = cross_val_score(clf, data_gt, labels_gt, n_jobs = -1, cv = 5, scoring=scoring)\n",
    "print(scores)\n",
    "print('SVM - {0} {1:.2f} (+/- {2:.2f})'.format(scoring, scores.mean(), scores.std() * 2))\n",
    "\n",
    "clf = svm.SVC(kernel = 'linear', C = 1, decision_function_shape='ovr')\n",
    "scores = cross_val_score(clf, data, labels, n_jobs = -1, cv = 5, scoring=scoring)\n",
    "print(scores)\n",
    "print('Filtered - SVM - {0} {1:.2f} (+/- {2:.2f})'.format(scoring, scores.mean(), scores.std() * 2))"
   ]
  },
  {
   "cell_type": "code",
   "execution_count": null,
   "metadata": {
    "collapsed": true
   },
   "outputs": [],
   "source": []
  }
 ],
 "metadata": {
  "anaconda-cloud": {},
  "kernelspec": {
   "display_name": "Python [conda root]",
   "language": "python",
   "name": "conda-root-py"
  },
  "language_info": {
   "codemirror_mode": {
    "name": "ipython",
    "version": 3
   },
   "file_extension": ".py",
   "mimetype": "text/x-python",
   "name": "python",
   "nbconvert_exporter": "python",
   "pygments_lexer": "ipython3",
   "version": "3.5.2"
  }
 },
 "nbformat": 4,
 "nbformat_minor": 1
}
