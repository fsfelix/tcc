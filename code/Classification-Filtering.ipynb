{
 "cells": [
  {
   "cell_type": "code",
   "execution_count": 87,
   "metadata": {
    "collapsed": false
   },
   "outputs": [
    {
     "data": {
      "text/plain": [
       "<module 'generate_global_features_2' from '/Users/felipefelix/USP/tcc/code/generate_global_features_2.py'>"
      ]
     },
     "execution_count": 87,
     "metadata": {},
     "output_type": "execute_result"
    }
   ],
   "source": [
    "%matplotlib inline\n",
    "\n",
    "import os \n",
    "import librosa\n",
    "import importlib\n",
    "import matplotlib\n",
    "import numpy as np\n",
    "import string as strp\n",
    "import pr_util as util\n",
    "import matplotlib.pyplot as plt\n",
    "import generate_global_features_2 as ggf\n",
    "\n",
    "from sklearn.model_selection import train_test_split\n",
    "from sklearn.model_selection import cross_val_score\n",
    "from sklearn import datasets\n",
    "from sklearn import svm, neighbors\n",
    "from sklearn.naive_bayes import GaussianNB\n",
    "\n",
    "importlib.reload(util)\n",
    "importlib.reload(ggf)"
   ]
  },
  {
   "cell_type": "code",
   "execution_count": 88,
   "metadata": {
    "collapsed": false
   },
   "outputs": [
    {
     "name": "stdout",
     "output_type": "stream",
     "text": [
      "/Users/felipefelix/USP/tcc/dataset/pr_article/S_A_C_Base_Parte-4/Theristicus caudatus/ n files:66\n",
      "/Users/felipefelix/USP/tcc/dataset/pr_article/S_A_C_Base_Parte-4/Xenops minutus/ n files:106\n",
      "/Users/felipefelix/USP/tcc/dataset/pr_article/S_A_C_Base_Parte-3/Myiophobus fasciatus/ n files:37\n",
      "/Users/felipefelix/USP/tcc/dataset/pr_article/S_A_C_Base_Parte-4/Theristicus caudatus/ n files:66\n",
      "/Users/felipefelix/USP/tcc/dataset/pr_article/S_A_C_Base_Parte-2/Hypoedaleus guttatus/ n files:30\n",
      "/Users/felipefelix/USP/tcc/dataset/pr_article/S_A_C_Base_Parte-3/Ramphocelus bresilius/ n files:19\n",
      "/Users/felipefelix/USP/tcc/dataset/pr_article/S_A_C_Base_Parte-3/Philydor atricapillus/ n files:12\n",
      "['/Users/felipefelix/USP/tcc/dataset/pr_article/S_A_C_Base_Parte-2/Hypoedaleus guttatus/', '/Users/felipefelix/USP/tcc/dataset/pr_article/S_A_C_Base_Parte-3/Ramphocelus bresilius/', '/Users/felipefelix/USP/tcc/dataset/pr_article/S_A_C_Base_Parte-3/Philydor atricapillus/']\n"
     ]
    }
   ],
   "source": [
    "num_species      = 3\n",
    "n_min_per_specie = 10\n",
    "\n",
    "n_global = 4 # number of global functions\n",
    "scoring  = 'f1_weighted'\n",
    "song_or_call = 'song'\n",
    "\n",
    "data_dirs = util.choose_species(num_species)\n",
    "data_dirs = util.check_num_files(data_dirs, song_or_call, num_species, n_min_per_specie)\n",
    "print(data_dirs)\n",
    "\n",
    "#data_dirs = ['/Users/felipefelix/USP/tcc/dataset/pr_article/S_A_C_Base_Parte-1/Batara cinerea/', \n",
    "#             '/Users/felipefelix/USP/tcc/dataset/pr_article/S_A_C_Base_Parte-1/Camptostoma obsoletum/', \n",
    "#             '/Users/felipefelix/USP/tcc/dataset/pr_article/S_A_C_Base_Parte-3/Myiodynastes maculatus/']"
   ]
  },
  {
   "cell_type": "code",
   "execution_count": 136,
   "metadata": {
    "collapsed": false,
    "scrolled": false
   },
   "outputs": [
    {
     "name": "stdout",
     "output_type": "stream",
     "text": [
      "['rmse', 'mfcc', 'spec_band', 'spec_cent', 'spec_roll']\n"
     ]
    }
   ],
   "source": [
    "print(util.FEATURES)\n",
    "feat = util.FEATURES[1]\n",
    "labels_dict_o, labels_o, data_o = ggf.generate_global_features(n_global, feat, data_dirs, song_or_call, util.GLOBAL_FUNCTIONS, version = None)\n",
    "labels_dict_f1, labels_f1, data_f1 = ggf.generate_global_features(n_global, feat, data_dirs, song_or_call, util.GLOBAL_FUNCTIONS, version = 'filtered1')\n",
    "labels_dict_f2, labels_f2, data_f2 = ggf.generate_global_features(n_global, feat, data_dirs, song_or_call, util.GLOBAL_FUNCTIONS, version = 'filtered2')"
   ]
  },
  {
   "cell_type": "code",
   "execution_count": 137,
   "metadata": {
    "collapsed": false
   },
   "outputs": [
    {
     "name": "stdout",
     "output_type": "stream",
     "text": [
      "{'Ramphocelus Bresilius': 1, 'Hypoedaleus Guttatus': 0, 'Philydor Atricapillus': 2}\n",
      "{'Ramphocelus Bresilius': 1, 'Hypoedaleus Guttatus': 0, 'Philydor Atricapillus': 2}\n",
      "{'Ramphocelus Bresilius': 1, 'Hypoedaleus Guttatus': 0, 'Philydor Atricapillus': 2}\n",
      "[0 0 0 0 0 0 0 0 0 0 0 0 0 0 0 0 0 0 0 0 0 0 0 0 0 0 0 0 0 0 1 1 1 1 1 1 1\n",
      " 1 1 1 1 1 1 1 1 1 1 1 1 2 2 2 2 2 2 2 2 2 2 2 2]\n",
      "[0 0 0 0 0 0 0 0 0 0 0 0 0 0 0 0 0 0 0 0 0 0 0 0 0 0 0 0 0 0 1 1 1 1 1 1 1\n",
      " 1 1 1 1 1 1 1 1 1 1 1 1 2 2 2 2 2 2 2 2 2 2 2 2]\n",
      "[0 0 0 0 0 0 0 0 0 0 0 0 0 0 0 0 0 0 0 0 0 0 0 0 0 0 0 0 0 0 1 1 1 1 1 1 1\n",
      " 1 1 1 1 1 1 1 1 1 1 1 1 2 2 2 2 2 2 2 2 2 2 2 2]\n",
      "61\n",
      "61\n",
      "61\n",
      "[[  -7.66501336   62.50345593  120.16944223 -328.48034729]\n",
      " [  -6.66081624   61.99472364   66.75769741 -334.83530116]\n",
      " [  -7.4110016    64.85974663   96.97316215 -627.18068483]\n",
      " [ -14.66095109   67.24137023  108.97757261 -680.15056111]\n",
      " [  -5.46164369   64.62787852  125.35362838 -389.72176666]\n",
      " [  -1.01417607   79.53109732  142.24939756 -475.61220722]\n",
      " [  -6.16782008   81.88148613   94.11738044 -519.89386417]\n",
      " [ -16.54300631   72.89787967  137.7988104  -578.93852824]\n",
      " [ -23.30757455   80.10364649   40.76231292 -521.54151725]\n",
      " [ -28.15489488  116.18404025   86.63789635 -603.55564484]]\n",
      "[[ -25.89039887  143.2166809   194.17335052 -705.09107719]\n",
      " [ -31.77651252  171.19176154   90.63794265 -807.00660351]\n",
      " [ -28.96362883  137.2852113   123.6766985  -644.56412008]\n",
      " [ -34.55101335  150.19764547  103.59752991 -722.3864188 ]\n",
      " [ -23.13314543  146.08398314  115.66557806 -699.08995632]\n",
      " [ -16.82844366  115.45089896   66.55363954 -529.22778962]\n",
      " [ -23.46882803  139.48268916   79.73064561 -643.36205654]\n",
      " [ -30.61660048  132.20621535  113.46664401 -615.58268368]\n",
      " [ -26.59955278  114.34923596   78.23892029 -540.03739135]\n",
      " [ -31.32721139  135.52772287   73.39236986 -627.97006151]]\n",
      "[[ -20.7854979   116.13767028  113.93334612 -591.30805872]\n",
      " [ -21.49725707  120.8376528    71.509937   -605.6656303 ]\n",
      " [ -20.69406184  117.62379121  111.46137251 -653.79428087]\n",
      " [ -29.32703368  126.4843256   105.81012724 -720.96504478]\n",
      " [ -20.46994337  119.43636836  117.74713081 -637.4520641 ]\n",
      " [ -13.61231695  123.96117584   92.24465176 -583.22125358]\n",
      " [ -19.96540076  141.61076153  107.78976154 -709.52028007]\n",
      " [ -29.6990896   118.93353397   96.03046459 -614.91773106]\n",
      " [ -26.44025381  111.71943347   71.03773799 -541.25365692]\n",
      " [ -31.31996632  135.12553967   73.37222515 -627.97390969]]\n",
      "61\n",
      "61\n",
      "61\n"
     ]
    }
   ],
   "source": [
    "print(labels_dict_o)\n",
    "print(labels_dict_f1)\n",
    "print(labels_dict_f2)\n",
    "\n",
    "print(labels_o)\n",
    "print(labels_f1)\n",
    "print(labels_f2)\n",
    "\n",
    "print(len(labels_o))\n",
    "print(len(labels_f1))\n",
    "print(len(labels_f2))\n",
    "\n",
    "print(data_o[:10])\n",
    "print(data_f1[:10])\n",
    "print(data_f2[:10])\n",
    "\n",
    "print(len(data_o))\n",
    "print(len(data_f1))\n",
    "print(len(data_f2))"
   ]
  },
  {
   "cell_type": "code",
   "execution_count": 141,
   "metadata": {
    "collapsed": false
   },
   "outputs": [
    {
     "data": {
      "image/png": "[encoded data removed]",
      "text/plain": [
       "<matplotlib.figure.Figure at 0x1120ca208>"
      ]
     },
     "metadata": {},
     "output_type": "display_data"
    }
   ],
   "source": [
    "util.plot_scatter(data_o[:,0], data_o[:,1], labels, feat + ' mean', feat + ' std')"
   ]
  },
  {
   "cell_type": "code",
   "execution_count": 142,
   "metadata": {
    "collapsed": false
   },
   "outputs": [
    {
     "data": {
      "image/png": "[encoded data removed]",
      "text/plain": [
       "<matplotlib.figure.Figure at 0x10e692588>"
      ]
     },
     "metadata": {},
     "output_type": "display_data"
    }
   ],
   "source": [
    "util.plot_scatter(data_f1[:,0], data_f1[:,1], labels, feat + ' mean', feat + ' std')"
   ]
  },
  {
   "cell_type": "code",
   "execution_count": 143,
   "metadata": {
    "collapsed": false
   },
   "outputs": [
    {
     "data": {
      "image/png": "[encoded data removed]",
      "text/plain": [
       "<matplotlib.figure.Figure at 0x112005ac8>"
      ]
     },
     "metadata": {},
     "output_type": "display_data"
    }
   ],
   "source": [
    "util.plot_scatter(data_f2[:,0], data_f2[:,1], labels, feat + ' mean', feat + ' std')"
   ]
  },
  {
   "cell_type": "code",
   "execution_count": 132,
   "metadata": {
    "collapsed": true
   },
   "outputs": [],
   "source": [
    "def generate_scores(clf, clf_name, data, labels, scoring, cv = 5):\n",
    "    scores  = cross_val_score(clf, data, labels, n_jobs = -1, cv = cv, scoring = scoring)\n",
    "    print(scores)\n",
    "    print('{0} - {1}: {2:.2f} (+/- {3:.2f})'.format(clf_name, scoring, scores.mean(), scores.std() * 2))\n"
   ]
  },
  {
   "cell_type": "code",
   "execution_count": 138,
   "metadata": {
    "collapsed": false
   },
   "outputs": [
    {
     "name": "stdout",
     "output_type": "stream",
     "text": [
      "[ 0.23076923  0.33406593  0.55555556  0.41880342  0.42077922]\n",
      "kNN - f1_weighted: 0.39 (+/- 0.21)\n"
     ]
    },
    {
     "name": "stderr",
     "output_type": "stream",
     "text": [
      "/Users/felipefelix/anaconda3/lib/python3.5/site-packages/sklearn/metrics/classification.py:1113: UndefinedMetricWarning: F-score is ill-defined and being set to 0.0 in labels with no predicted samples.\n",
      "  'precision', 'predicted', average, warn_for)\n"
     ]
    },
    {
     "name": "stdout",
     "output_type": "stream",
     "text": [
      "[ 0.2965035   0.76162299  0.42361111  0.63492063  0.64545455]\n",
      "kNN - f1_weighted: 0.55 (+/- 0.34)\n"
     ]
    },
    {
     "name": "stderr",
     "output_type": "stream",
     "text": [
      "/Users/felipefelix/anaconda3/lib/python3.5/site-packages/sklearn/metrics/classification.py:1113: UndefinedMetricWarning: F-score is ill-defined and being set to 0.0 in labels with no predicted samples.\n",
      "  'precision', 'predicted', average, warn_for)\n"
     ]
    },
    {
     "name": "stdout",
     "output_type": "stream",
     "text": [
      "[ 0.36752137  0.48351648  0.61666667  0.44444444  0.47186147]\n",
      "kNN - f1_weighted: 0.48 (+/- 0.16)\n"
     ]
    }
   ],
   "source": [
    "clf     = neighbors.KNeighborsClassifier(3, weights = 'uniform')\n",
    "\n",
    "generate_scores(clf, 'kNN', data_o, labels_o, scoring)\n",
    "generate_scores(clf, 'kNN', data_f1, labels_f1, scoring)\n",
    "generate_scores(clf, 'kNN', data_f2, labels_f2, scoring)"
   ]
  },
  {
   "cell_type": "code",
   "execution_count": 139,
   "metadata": {
    "collapsed": false
   },
   "outputs": [
    {
     "name": "stderr",
     "output_type": "stream",
     "text": [
      "/Users/felipefelix/anaconda3/lib/python3.5/site-packages/sklearn/metrics/classification.py:1113: UndefinedMetricWarning: F-score is ill-defined and being set to 0.0 in labels with no predicted samples.\n",
      "  'precision', 'predicted', average, warn_for)\n",
      "/Users/felipefelix/anaconda3/lib/python3.5/site-packages/sklearn/metrics/classification.py:1113: UndefinedMetricWarning: F-score is ill-defined and being set to 0.0 in labels with no predicted samples.\n",
      "  'precision', 'predicted', average, warn_for)\n"
     ]
    },
    {
     "name": "stdout",
     "output_type": "stream",
     "text": [
      "[ 0.06837607  0.28846154  0.33333333  0.28571429  0.39118457]\n",
      "gNB - f1_weighted: 0.27 (+/- 0.22)\n",
      "[ 0.42077581  0.68469992  0.46753247  0.5         0.46635183]\n",
      "gNB - f1_weighted: 0.51 (+/- 0.18)\n",
      "[ 0.32967033  0.41025641  0.64285714  0.60966811  0.61818182]\n",
      "gNB - f1_weighted: 0.52 (+/- 0.25)\n"
     ]
    }
   ],
   "source": [
    "clf     = GaussianNB()\n",
    "\n",
    "generate_scores(clf, 'gNB', data_o, labels_o, scoring)\n",
    "generate_scores(clf, 'gNB', data_f1, labels_f1, scoring)\n",
    "generate_scores(clf, 'gNB', data_f2, labels_f2, scoring)"
   ]
  },
  {
   "cell_type": "code",
   "execution_count": 140,
   "metadata": {
    "collapsed": false
   },
   "outputs": [
    {
     "name": "stderr",
     "output_type": "stream",
     "text": [
      "/Users/felipefelix/anaconda3/lib/python3.5/site-packages/sklearn/metrics/classification.py:1113: UndefinedMetricWarning: F-score is ill-defined and being set to 0.0 in labels with no predicted samples.\n",
      "  'precision', 'predicted', average, warn_for)\n",
      "/Users/felipefelix/anaconda3/lib/python3.5/site-packages/sklearn/metrics/classification.py:1113: UndefinedMetricWarning: F-score is ill-defined and being set to 0.0 in labels with no predicted samples.\n",
      "  'precision', 'predicted', average, warn_for)\n"
     ]
    },
    {
     "name": "stdout",
     "output_type": "stream",
     "text": [
      "[ 0.06837607  0.29149798  0.33333333  0.41666667  0.3030303 ]\n",
      "SVM - f1_weighted: 0.28 (+/- 0.23)\n"
     ]
    },
    {
     "name": "stderr",
     "output_type": "stream",
     "text": [
      "/Users/felipefelix/anaconda3/lib/python3.5/site-packages/sklearn/metrics/classification.py:1113: UndefinedMetricWarning: F-score is ill-defined and being set to 0.0 in labels with no predicted samples.\n",
      "  'precision', 'predicted', average, warn_for)\n"
     ]
    },
    {
     "name": "stdout",
     "output_type": "stream",
     "text": [
      "[ 0.42077581  0.772612    0.64285714  0.4957265   0.41358641]\n",
      "SVM - f1_weighted: 0.55 (+/- 0.28)\n"
     ]
    }
   ],
   "source": [
    "clf = svm.SVC(kernel = 'linear', C = 1, decision_function_shape='ovr')\n",
    "\n",
    "generate_scores(clf, 'SVM', data_o, labels_o, scoring)\n",
    "generate_scores(clf, 'SVM', data_f1, labels_f1, scoring)\n"
   ]
  },
  {
   "cell_type": "code",
   "execution_count": null,
   "metadata": {
    "collapsed": true
   },
   "outputs": [],
   "source": []
  }
 ],
 "metadata": {
  "anaconda-cloud": {},
  "kernelspec": {
   "display_name": "Python [conda root]",
   "language": "python",
   "name": "conda-root-py"
  },
  "language_info": {
   "codemirror_mode": {
    "name": "ipython",
    "version": 3
   },
   "file_extension": ".py",
   "mimetype": "text/x-python",
   "name": "python",
   "nbconvert_exporter": "python",
   "pygments_lexer": "ipython3",
   "version": "3.5.2"
  }
 },
 "nbformat": 4,
 "nbformat_minor": 1
}
