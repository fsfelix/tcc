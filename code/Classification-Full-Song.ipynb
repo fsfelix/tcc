{
 "cells": [
  {
   "cell_type": "code",
   "execution_count": 1,
   "metadata": {
    "collapsed": false
   },
   "outputs": [
    {
     "data": {
      "text/plain": [
       "<module 'pr_util' from '/Users/felipefelix/USP/tcc/code/pr_util.py'>"
      ]
     },
     "execution_count": 1,
     "metadata": {},
     "output_type": "execute_result"
    }
   ],
   "source": [
    "%matplotlib inline\n",
    "\n",
    "import importlib\n",
    "import numpy as np\n",
    "import pr_util as util\n",
    "\n",
    "from sklearn.model_selection import cross_val_score\n",
    "from sklearn.naive_bayes import GaussianNB\n",
    "from sklearn import svm\n",
    "\n",
    "from generate_global_features_2 import generate_global_features\n",
    "\n",
    "importlib.reload(util)"
   ]
  },
  {
   "cell_type": "code",
   "execution_count": null,
   "metadata": {
    "collapsed": true
   },
   "outputs": [],
   "source": [
    "# Randomly select n species from dataset\n",
    "\n",
    "n = 5\n",
    "data_dirs = util.choose_species(n)\n",
    "\n",
    "for dir in data_dirs:\n",
    "    print(dir)\n",
    "    "
   ]
  },
  {
   "cell_type": "code",
   "execution_count": 26,
   "metadata": {
    "collapsed": false
   },
   "outputs": [
    {
     "name": "stdout",
     "output_type": "stream",
     "text": [
      "{'Xenops Minutus': 1, 'Trogon Surrucura': 0, 'Anthus Lutescens': 2, 'Ramphocelus Bresilius': 4, 'Muscipipra Vetula': 3}\n",
      "[0 0 0 0 0 0 0 0 0 0 0 0 0 0 0 0 0 0 0 0 0 0 0 0 0 0 0 0 0 0 0 0 0 0 0 0 0\n",
      " 0 0 0 0 0 0 0 0 0 0 0 0 0 0 0 0 0 0 0 0 0 0 0 0 0 0 0 0 0 0 0 0 0 0 0 0 0\n",
      " 0 0 0 0 0 0 0 0 0 0 0 0 0 0 0 0 0 0 1 1 1 1 1 1 1 1 1 1 1 1 1 1 1 1 1 1 1\n",
      " 1 1 1 1 1 1 1 1 1 1 1 1 1 1 1 1 1 1 1 1 1 1 1 1 1 1 1 1 1 1 1 1 1 1 1 1 1\n",
      " 1 1 1 1 1 1 1 1 1 1 1 1 1 1 1 1 1 1 1 1 1 1 1 1 1 1 1 1 1 1 1 1 1 1 1 1 1\n",
      " 1 1 1 1 1 1 1 1 1 1 1 1 1 2 2 2 2 2 2 2 2 2 2 2 2 2 3 3 3 3 3 3 3 3 3 3 3\n",
      " 3 3 3 3 3 3 4 4 4 4 4 4 4 4 4 4 4 4 4 4 4 4 4 4 4]\n",
      "[[ 2113.53822968   446.95104203  2798.04703995  1370.01760859]\n",
      " [ 2657.03321263   666.30279115  3714.95899002  1485.26237429]\n",
      " [ 2301.08659716   534.62718222  3189.31862584  1375.15816722]\n",
      " [ 2075.44691109   503.21048715  3051.05852448  1291.42392255]\n",
      " [ 2929.5594824    635.93924055  3857.30070328  1450.59288863]]\n"
     ]
    }
   ],
   "source": [
    "# Generate n_global global features from a selected feature 'feat_name', \n",
    "# each one defined by a function in 'functions'.\n",
    "\n",
    "n_global = 4\n",
    "feat_name = 'spec_cent'\n",
    "functions = [np.mean, np.std, np.max, np.min]\n",
    "song_or_call = 'song'\n",
    "\n",
    "labels_dict, labels, data = generate_global_features(n_global, feat_name, data_dirs, song_or_call, functions)\n",
    "\n",
    "print(labels_dict)\n",
    "print(labels)\n",
    "print(data[:5])"
   ]
  },
  {
   "cell_type": "code",
   "execution_count": 27,
   "metadata": {
    "collapsed": false
   },
   "outputs": [
    {
     "data": {
      "image/png": "[encoded data removed]",
      "text/plain": [
       "<matplotlib.figure.Figure at 0x10e1cbe80>"
      ]
     },
     "metadata": {},
     "output_type": "display_data"
    }
   ],
   "source": [
    "util.plot_scatter(data[:,0], data[:,1], labels, 'mean mfcc', 'std mfcc')"
   ]
  },
  {
   "cell_type": "markdown",
   "metadata": {},
   "source": [
    "## kNN"
   ]
  },
  {
   "cell_type": "code",
   "execution_count": 28,
   "metadata": {
    "collapsed": false
   },
   "outputs": [
    {
     "name": "stdout",
     "output_type": "stream",
     "text": [
      "3-Neighbors | Accuracy: 0.73 (+/- 0.09) | Weight: uniform\n",
      "3-Neighbors | Accuracy: 0.72 (+/- 0.13) | Weight: distance\n",
      "4-Neighbors | Accuracy: 0.71 (+/- 0.13) | Weight: uniform\n",
      "4-Neighbors | Accuracy: 0.71 (+/- 0.14) | Weight: distance\n",
      "5-Neighbors | Accuracy: 0.71 (+/- 0.13) | Weight: uniform\n",
      "5-Neighbors | Accuracy: 0.73 (+/- 0.12) | Weight: distance\n",
      "6-Neighbors | Accuracy: 0.73 (+/- 0.12) | Weight: uniform\n",
      "6-Neighbors | Accuracy: 0.72 (+/- 0.14) | Weight: distance\n",
      "7-Neighbors | Accuracy: 0.73 (+/- 0.11) | Weight: uniform\n",
      "7-Neighbors | Accuracy: 0.72 (+/- 0.12) | Weight: distance\n",
      "8-Neighbors | Accuracy: 0.71 (+/- 0.12) | Weight: uniform\n",
      "8-Neighbors | Accuracy: 0.71 (+/- 0.11) | Weight: distance\n",
      "9-Neighbors | Accuracy: 0.72 (+/- 0.11) | Weight: uniform\n",
      "9-Neighbors | Accuracy: 0.71 (+/- 0.13) | Weight: distance\n"
     ]
    }
   ],
   "source": [
    "util.kNN(data, labels, range(3,10), 5)"
   ]
  },
  {
   "cell_type": "markdown",
   "metadata": {},
   "source": [
    "## Naïve-Bayes"
   ]
  },
  {
   "cell_type": "code",
   "execution_count": 29,
   "metadata": {
    "collapsed": false
   },
   "outputs": [
    {
     "name": "stdout",
     "output_type": "stream",
     "text": [
      "[ 0.63461538  0.58823529  0.6122449   0.72916667  0.72340426]\n"
     ]
    }
   ],
   "source": [
    "gnb = GaussianNB()\n",
    "scores = cross_val_score(gnb, data, labels, cv = 5)\n",
    "print(scores)"
   ]
  },
  {
   "cell_type": "markdown",
   "metadata": {},
   "source": [
    "## SVM"
   ]
  },
  {
   "cell_type": "code",
   "execution_count": 30,
   "metadata": {
    "collapsed": false
   },
   "outputs": [
    {
     "name": "stdout",
     "output_type": "stream",
     "text": [
      "[ 0.63461538  0.70588235  0.65306122  0.6875      0.63829787]\n"
     ]
    }
   ],
   "source": [
    "clf = svm.SVC(kernel = 'linear', C = 1)\n",
    "scores = cross_val_score(clf, data, labels, cv = 5)\n",
    "print(scores)"
   ]
  },
  {
   "cell_type": "code",
   "execution_count": null,
   "metadata": {
    "collapsed": false
   },
   "outputs": [],
   "source": []
  },
  {
   "cell_type": "code",
   "execution_count": null,
   "metadata": {
    "collapsed": false
   },
   "outputs": [],
   "source": []
  }
 ],
 "metadata": {
  "anaconda-cloud": {},
  "kernelspec": {
   "display_name": "Python [conda root]",
   "language": "python",
   "name": "conda-root-py"
  },
  "language_info": {
   "codemirror_mode": {
    "name": "ipython",
    "version": 3
   },
   "file_extension": ".py",
   "mimetype": "text/x-python",
   "name": "python",
   "nbconvert_exporter": "python",
   "pygments_lexer": "ipython3",
   "version": "3.5.2"
  }
 },
 "nbformat": 4,
 "nbformat_minor": 1
}
