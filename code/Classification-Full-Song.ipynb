{
 "cells": [
  {
   "cell_type": "code",
   "execution_count": 2,
   "metadata": {
    "collapsed": false
   },
   "outputs": [
    {
     "data": {
      "text/plain": [
       "<module 'pr_util' from '/Users/felipefelix/USP/tcc/code/pr_util.py'>"
      ]
     },
     "execution_count": 2,
     "metadata": {},
     "output_type": "execute_result"
    }
   ],
   "source": [
    "%matplotlib inline\n",
    "\n",
    "import importlib\n",
    "import numpy as np\n",
    "import pr_util as util\n",
    "\n",
    "from sklearn.model_selection import cross_val_score\n",
    "from sklearn.naive_bayes import GaussianNB\n",
    "from sklearn import svm, neighbors\n",
    "\n",
    "from generate_global_features_2 import generate_global_features\n",
    "from experiments_3 import check_num_files\n",
    "\n",
    "importlib.reload(util)"
   ]
  },
  {
   "cell_type": "code",
   "execution_count": 13,
   "metadata": {
    "collapsed": false
   },
   "outputs": [
    {
     "name": "stdout",
     "output_type": "stream",
     "text": [
      "/Users/felipefelix/USP/tcc/dataset/pr_article/S_A_C_Base_Parte-4/Trogon surrucura/ n files:92\n",
      "/Users/felipefelix/USP/tcc/dataset/pr_article/S_A_C_Base_Parte-3/Myiophobus fasciatus/ n files:37\n",
      "/Users/felipefelix/USP/tcc/dataset/pr_article/S_A_C_Base_Parte-4/Streptoprocne biscutata/ n files:6\n",
      "/Users/felipefelix/USP/tcc/dataset/pr_article/S_A_C_Base_Parte-4/Streptoprocne biscutata/ n files:6\n",
      "/Users/felipefelix/USP/tcc/dataset/pr_article/S_A_C_Base_Parte-4/Trichothraupis melanops/ n files:84\n",
      "/Users/felipefelix/USP/tcc/dataset/pr_article/S_A_C_Base_Parte-1/Cnemotriccus fuscatus/ n files:27\n",
      "/Users/felipefelix/USP/tcc/dataset/pr_article/S_A_C_Base_Parte-2/Emberizoides ypiranganus/ n files:12\n",
      "/Users/felipefelix/USP/tcc/dataset/pr_article/S_A_C_Base_Parte-1/Cnemotriccus fuscatus/\n",
      "/Users/felipefelix/USP/tcc/dataset/pr_article/S_A_C_Base_Parte-2/Emberizoides ypiranganus/\n"
     ]
    }
   ],
   "source": [
    "# Randomly select n species from dataset\n",
    "\n",
    "n_species = 2\n",
    "n_min     = 10\n",
    "scoring   = 'f1_weighted'\n",
    "song_or_call = 'song'\n",
    "data_dirs = util.choose_species(n_species)\n",
    "data_dirs = check_num_files(data_dirs, song_or_call, n_species, n_min)\n",
    "\n",
    "\n",
    "for dir in data_dirs:\n",
    "    print(dir)\n",
    "    "
   ]
  },
  {
   "cell_type": "code",
   "execution_count": 14,
   "metadata": {
    "collapsed": false,
    "scrolled": true
   },
   "outputs": [
    {
     "name": "stdout",
     "output_type": "stream",
     "text": [
      "{'Emberizoides Ypiranganus': 1, 'Cnemotriccus Fuscatus': 0}\n",
      "[0 0 0 0 0 0 0 0 0 0 0 0 0 0 0 0 0 0 0 0 0 0 0 0 0 0 0 1 1 1 1 1 1 1 1 1 1\n",
      " 1 1]\n",
      "[[ 6696.11367618  1053.36460089  8548.68164062  3757.54394531]\n",
      " [ 5637.9144527     71.88806568  6675.29296875  5469.43359375]\n",
      " [ 6063.3356673    907.10219796  8925.51269531   829.02832031]\n",
      " [ 6350.26473943   319.40157464  8688.64746094  4898.80371094]\n",
      " [ 4612.24437131  1002.57336629  6341.52832031  1873.38867188]]\n"
     ]
    }
   ],
   "source": [
    "# Generate n_global global features from a selected feature 'feat_name', \n",
    "# each one defined by a function in 'functions'.\n",
    "\n",
    "n_global = 4\n",
    "feat_name = 'spec_roll'\n",
    "functions = [np.mean, np.std, np.max, np.min]\n",
    "song_or_call = 'song'\n",
    "\n",
    "labels_dict, labels, data = generate_global_features(n_global, feat_name, data_dirs, song_or_call, functions)\n",
    "\n",
    "print(labels_dict)\n",
    "print(labels)\n",
    "print(data[:5])"
   ]
  },
  {
   "cell_type": "code",
   "execution_count": 15,
   "metadata": {
    "collapsed": false
   },
   "outputs": [
    {
     "data": {
      "image/png": "[encoded data removed]",
      "text/plain": [
       "<matplotlib.figure.Figure at 0x10d2a62b0>"
      ]
     },
     "metadata": {},
     "output_type": "display_data"
    }
   ],
   "source": [
    "util.plot_scatter(data[:,0], data[:,1], labels, 'mean spec_cent', 'std spec_cent')"
   ]
  },
  {
   "cell_type": "markdown",
   "metadata": {},
   "source": [
    "## kNN"
   ]
  },
  {
   "cell_type": "code",
   "execution_count": 16,
   "metadata": {
    "collapsed": false
   },
   "outputs": [
    {
     "name": "stderr",
     "output_type": "stream",
     "text": [
      "/Users/felipefelix/anaconda3/lib/python3.5/site-packages/sklearn/metrics/classification.py:1113: UndefinedMetricWarning: F-score is ill-defined and being set to 0.0 in labels with no predicted samples.\n",
      "  'precision', 'predicted', average, warn_for)\n"
     ]
    },
    {
     "name": "stdout",
     "output_type": "stream",
     "text": [
      "kNN: Accuracy: 0.64 (+/- 0.43)\n",
      "[ 0.67532468  0.53333333  0.86349206  0.28571429  0.83982684]\n"
     ]
    }
   ],
   "source": [
    "#util.kNN(data, labels, range(3,10), 5)\n",
    "clf     = neighbors.KNeighborsClassifier(3, weights = 'uniform')\n",
    "scores  = cross_val_score(clf, data, labels, n_jobs = -1, cv = 5, scoring=scoring)\n",
    "result  = '{0:.2f} (+/- {1:.2f})'.format(scores.mean(), scores.std() * 2)\n",
    "print('kNN: Accuracy: {0:.2f} (+/- {1:.2f})'.format(scores.mean(), scores.std() * 2))\n",
    "print(scores)\n"
   ]
  },
  {
   "cell_type": "markdown",
   "metadata": {},
   "source": [
    "## Naïve-Bayes"
   ]
  },
  {
   "cell_type": "code",
   "execution_count": 17,
   "metadata": {
    "collapsed": false
   },
   "outputs": [
    {
     "name": "stderr",
     "output_type": "stream",
     "text": [
      "/Users/felipefelix/anaconda3/lib/python3.5/site-packages/sklearn/metrics/classification.py:1113: UndefinedMetricWarning: F-score is ill-defined and being set to 0.0 in labels with no predicted samples.\n",
      "  'precision', 'predicted', average, warn_for)\n",
      "/Users/felipefelix/anaconda3/lib/python3.5/site-packages/sklearn/metrics/classification.py:1113: UndefinedMetricWarning: F-score is ill-defined and being set to 0.0 in labels with no predicted samples.\n",
      "  'precision', 'predicted', average, warn_for)\n"
     ]
    },
    {
     "name": "stdout",
     "output_type": "stream",
     "text": [
      "GaussianNB - f1_weighted : 0.59 (+/- 0.40)\n",
      "[ 0.24242424  0.53333333  0.5952381   0.71428571  0.83982684]\n"
     ]
    }
   ],
   "source": [
    "gnb    = GaussianNB()\n",
    "scores = cross_val_score(gnb, data, labels, n_jobs = -1, cv = 5, scoring=scoring)\n",
    "result = '{0:.2f} (+/- {1:.2f})'.format(scores.mean(), scores.std() * 2)\n",
    "print('GaussianNB - {0} : {1:.2f} (+/- {2:.2f})'.format(scoring,scores.mean(), scores.std() * 2))\n",
    "print(scores)"
   ]
  },
  {
   "cell_type": "markdown",
   "metadata": {},
   "source": [
    "## SVM"
   ]
  },
  {
   "cell_type": "code",
   "execution_count": 21,
   "metadata": {
    "collapsed": false,
    "scrolled": false
   },
   "outputs": [
    {
     "name": "stdout",
     "output_type": "stream",
     "text": [
      "--------------------------\n",
      "Kernel: linear DFC: ovo\n",
      "[CV]  ................................................................\n",
      "[CV]  ................................................................\n",
      "[CV]  ................................................................\n",
      "[CV] ................................................. , total=   0.7s\n",
      "[CV] ................................................. , total=   0.8s\n",
      "[CV] ................................................. , total=   1.0s\n",
      "SVM - f1_weighted 0.55 (+/- 0.09)\n",
      "[ 0.48461538  0.55576923  0.59803355]\n",
      "--------------------------\n",
      "Kernel: linear DFC: ovr\n"
     ]
    },
    {
     "name": "stderr",
     "output_type": "stream",
     "text": [
      "[Parallel(n_jobs=-1)]: Done   3 out of   3 | elapsed:    1.0s finished\n"
     ]
    },
    {
     "name": "stdout",
     "output_type": "stream",
     "text": [
      "[CV]  ................................................................\n",
      "[CV]  ................................................................\n",
      "[CV]  ................................................................\n",
      "[CV] ................................................. , total=   0.7s\n",
      "[CV] ................................................. , total=   0.8s\n",
      "[CV] ................................................. , total=   1.0s\n",
      "SVM - f1_weighted 0.55 (+/- 0.09)\n",
      "[ 0.48461538  0.55576923  0.59803355]\n",
      "--------------------------\n",
      "Kernel: rbf DFC: ovo\n"
     ]
    },
    {
     "name": "stderr",
     "output_type": "stream",
     "text": [
      "[Parallel(n_jobs=-1)]: Done   3 out of   3 | elapsed:    1.0s finished\n"
     ]
    },
    {
     "name": "stdout",
     "output_type": "stream",
     "text": [
      "[CV]  ................................................................\n",
      "[CV]  ................................................................\n",
      "[CV]  ................................................................\n",
      "[CV] ................................................. , total=   0.0s\n",
      "[CV] ................................................. , total=   0.0s\n",
      "[CV] ................................................. , total=   0.0s\n",
      "SVM - f1_weighted 0.82 (+/- 0.17)\n",
      "[ 0.71648352  0.91960671  0.82820513]\n",
      "--------------------------\n",
      "Kernel: rbf DFC: ovr\n"
     ]
    },
    {
     "name": "stderr",
     "output_type": "stream",
     "text": [
      "[Parallel(n_jobs=-1)]: Done   3 out of   3 | elapsed:    0.1s finished\n"
     ]
    },
    {
     "name": "stdout",
     "output_type": "stream",
     "text": [
      "[CV]  ................................................................\n",
      "[CV]  ................................................................\n",
      "[CV]  ................................................................\n",
      "[CV] ................................................. , total=   0.0s\n",
      "[CV] ................................................. , total=   0.0s\n",
      "[CV] ................................................. , total=   0.0s\n"
     ]
    },
    {
     "name": "stderr",
     "output_type": "stream",
     "text": [
      "[Parallel(n_jobs=-1)]: Done   3 out of   3 | elapsed:    0.0s finished\n"
     ]
    },
    {
     "name": "stdout",
     "output_type": "stream",
     "text": [
      "SVM - f1_weighted 0.82 (+/- 0.17)\n",
      "[ 0.71648352  0.91960671  0.82820513]\n",
      "--------------------------\n",
      "Kernel: sigmoid DFC: ovo\n",
      "[CV]  ................................................................\n",
      "[CV]  ................................................................\n",
      "[CV]  ................................................................\n"
     ]
    },
    {
     "name": "stderr",
     "output_type": "stream",
     "text": [
      "/Users/felipefelix/anaconda3/lib/python3.5/site-packages/sklearn/metrics/classification.py:1113: UndefinedMetricWarning: F-score is ill-defined and being set to 0.0 in labels with no predicted samples.\n",
      "  'precision', 'predicted', average, warn_for)\n",
      "/Users/felipefelix/anaconda3/lib/python3.5/site-packages/sklearn/metrics/classification.py:1113: UndefinedMetricWarning: F-score is ill-defined and being set to 0.0 in labels with no predicted samples.\n",
      "  'precision', 'predicted', average, warn_for)\n",
      "/Users/felipefelix/anaconda3/lib/python3.5/site-packages/sklearn/metrics/classification.py:1113: UndefinedMetricWarning: F-score is ill-defined and being set to 0.0 in labels with no predicted samples.\n",
      "  'precision', 'predicted', average, warn_for)\n"
     ]
    },
    {
     "name": "stdout",
     "output_type": "stream",
     "text": [
      "[CV] ................................................. , total=   0.0s\n",
      "[CV] ................................................. , total=   0.0s\n",
      "[CV] ................................................. , total=   0.0s\n",
      "SVM - f1_weighted 0.57 (+/- 0.00)\n",
      "[ 0.56643357  0.56643357  0.56643357]\n",
      "--------------------------\n",
      "Kernel: sigmoid DFC: ovr\n"
     ]
    },
    {
     "name": "stderr",
     "output_type": "stream",
     "text": [
      "[Parallel(n_jobs=-1)]: Done   3 out of   3 | elapsed:    0.1s finished\n"
     ]
    },
    {
     "name": "stdout",
     "output_type": "stream",
     "text": [
      "[CV]  ................................................................\n",
      "[CV]  ................................................................\n",
      "[CV]  ................................................................\n"
     ]
    },
    {
     "name": "stderr",
     "output_type": "stream",
     "text": [
      "/Users/felipefelix/anaconda3/lib/python3.5/site-packages/sklearn/metrics/classification.py:1113: UndefinedMetricWarning: F-score is ill-defined and being set to 0.0 in labels with no predicted samples.\n",
      "  'precision', 'predicted', average, warn_for)\n",
      "/Users/felipefelix/anaconda3/lib/python3.5/site-packages/sklearn/metrics/classification.py:1113: UndefinedMetricWarning: F-score is ill-defined and being set to 0.0 in labels with no predicted samples.\n",
      "  'precision', 'predicted', average, warn_for)\n",
      "/Users/felipefelix/anaconda3/lib/python3.5/site-packages/sklearn/metrics/classification.py:1113: UndefinedMetricWarning: F-score is ill-defined and being set to 0.0 in labels with no predicted samples.\n",
      "  'precision', 'predicted', average, warn_for)\n"
     ]
    },
    {
     "name": "stdout",
     "output_type": "stream",
     "text": [
      "[CV] ................................................. , total=   0.0s\n",
      "[CV] ................................................. , total=   0.0s\n",
      "[CV] ................................................. , total=   0.0s\n",
      "SVM - f1_weighted 0.57 (+/- 0.00)\n",
      "[ 0.56643357  0.56643357  0.56643357]\n"
     ]
    },
    {
     "name": "stderr",
     "output_type": "stream",
     "text": [
      "[Parallel(n_jobs=-1)]: Done   3 out of   3 | elapsed:    0.0s finished\n"
     ]
    }
   ],
   "source": [
    "\n",
    "#kernels = ['linear', 'poly', 'rbf', 'sigmoid', 'precomputed']\n",
    "#kernels = ['linear', 'rbf', 'sigmoid', 'precomputed']\n",
    "kernels = ['linear', 'rbf', 'sigmoid']\n",
    "dfcs = ['ovo', 'ovr']\n",
    "for kernel in kernels:\n",
    "    for dfc in dfcs:\n",
    "        print(\"--------------------------\") \n",
    "        print(\"Kernel: {} DFC: {}\".format(kernel, dfc))\n",
    "        clf = svm.SVC(kernel = kernel, C = 1, decision_function_shape=dfc)\n",
    "        scores = cross_val_score(clf, data, labels, verbose = 2, n_jobs = -1, cv = 3, scoring=scoring)\n",
    "        result = '{0:.2f} (+/- {1:.2f})'.format(scores.mean(), scores.std() * 2)\n",
    "        print('SVM - {0} {1:.2f} (+/- {2:.2f})'.format(scoring, scores.mean(), scores.std() * 2))\n",
    "        print(scores)\n"
   ]
  },
  {
   "cell_type": "code",
   "execution_count": null,
   "metadata": {
    "collapsed": false
   },
   "outputs": [],
   "source": []
  },
  {
   "cell_type": "code",
   "execution_count": null,
   "metadata": {
    "collapsed": false
   },
   "outputs": [],
   "source": []
  }
 ],
 "metadata": {
  "anaconda-cloud": {},
  "kernelspec": {
   "display_name": "Python [conda root]",
   "language": "python",
   "name": "conda-root-py"
  },
  "language_info": {
   "codemirror_mode": {
    "name": "ipython",
    "version": 3
   },
   "file_extension": ".py",
   "mimetype": "text/x-python",
   "name": "python",
   "nbconvert_exporter": "python",
   "pygments_lexer": "ipython3",
   "version": "3.5.2"
  }
 },
 "nbformat": 4,
 "nbformat_minor": 1
}
